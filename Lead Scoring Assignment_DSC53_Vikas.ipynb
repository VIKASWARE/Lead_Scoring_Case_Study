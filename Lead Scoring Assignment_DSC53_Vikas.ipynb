{
 "cells": [
  {
   "cell_type": "markdown",
   "id": "94c39e12",
   "metadata": {},
   "source": [
    "# Lead Scoring - Case Study\n",
    "\n",
    "## Problem Statement\n",
    "\n",
    "An X Education need help to select the most promising leads, i.e. the leads that are most likely to convert into paying customers. The company requires us to build a model wherein you need to assign a lead score to each of the leads such that the customers with higher lead score have a higher conversion chance and the customers with lower lead score have a lower conversion chance. The CEO, in particular, has given a ballpark of the target lead conversion rate to be around 80%."
   ]
  },
  {
   "cell_type": "markdown",
   "id": "322fa004",
   "metadata": {},
   "source": [
    "## Goals of Case Study\n",
    "\n",
    "Build a logistic regression model to assign a lead score between 0 and 100 to each of the leads which can be used by the company to target potential leads. A higher score would mean that the lead is hot, i.e. is most likely to convert whereas a lower score would mean that the lead is cold and will mostly not get converted.\n"
   ]
  },
  {
   "cell_type": "markdown",
   "id": "f3ed82ce",
   "metadata": {},
   "source": [
    "## Importing Libraries and Data"
   ]
  },
  {
   "cell_type": "code",
   "execution_count": 399,
   "id": "2d1ec79e",
   "metadata": {},
   "outputs": [],
   "source": [
    "#importing required libraries\n",
    "import os\n",
    "import numpy as np\n",
    "import pandas as pd\n",
    "import matplotlib.pyplot as plt\n",
    "import seaborn as sns\n",
    "%matplotlib inline\n",
    "from sklearn.model_selection import train_test_split\n",
    "\n",
    "#statmodel libraries\n",
    "from statsmodels.stats.outliers_influence import variance_inflation_factor\n",
    "import statsmodels.api as sm\n",
    "\n",
    "import warnings\n",
    "warnings.filterwarnings('ignore')"
   ]
  },
  {
   "cell_type": "code",
   "execution_count": 400,
   "id": "07a854aa",
   "metadata": {},
   "outputs": [
    {
     "data": {
      "text/plain": [
       "'C:\\\\Users\\\\Shekh\\\\Downloads'"
      ]
     },
     "execution_count": 400,
     "metadata": {},
     "output_type": "execute_result"
    }
   ],
   "source": [
    "os.getcwd()"
   ]
  },
  {
   "cell_type": "code",
   "execution_count": 401,
   "id": "f7b04eac",
   "metadata": {},
   "outputs": [],
   "source": [
    "#importing assignment dataset\n",
    "\n",
    "df=pd.read_csv('Leads.csv')"
   ]
  },
  {
   "cell_type": "markdown",
   "id": "9d61c7e1",
   "metadata": {},
   "source": [
    "## Inspecting the Dataframe"
   ]
  },
  {
   "cell_type": "code",
   "execution_count": 402,
   "id": "d9dc622d",
   "metadata": {},
   "outputs": [
    {
     "data": {
      "text/html": [
       "<div>\n",
       "<style scoped>\n",
       "    .dataframe tbody tr th:only-of-type {\n",
       "        vertical-align: middle;\n",
       "    }\n",
       "\n",
       "    .dataframe tbody tr th {\n",
       "        vertical-align: top;\n",
       "    }\n",
       "\n",
       "    .dataframe thead th {\n",
       "        text-align: right;\n",
       "    }\n",
       "</style>\n",
       "<table border=\"1\" class=\"dataframe\">\n",
       "  <thead>\n",
       "    <tr style=\"text-align: right;\">\n",
       "      <th></th>\n",
       "      <th>Prospect ID</th>\n",
       "      <th>Lead Number</th>\n",
       "      <th>Lead Origin</th>\n",
       "      <th>Lead Source</th>\n",
       "      <th>Do Not Email</th>\n",
       "      <th>Do Not Call</th>\n",
       "      <th>Converted</th>\n",
       "      <th>TotalVisits</th>\n",
       "      <th>Total Time Spent on Website</th>\n",
       "      <th>Page Views Per Visit</th>\n",
       "      <th>...</th>\n",
       "      <th>Get updates on DM Content</th>\n",
       "      <th>Lead Profile</th>\n",
       "      <th>City</th>\n",
       "      <th>Asymmetrique Activity Index</th>\n",
       "      <th>Asymmetrique Profile Index</th>\n",
       "      <th>Asymmetrique Activity Score</th>\n",
       "      <th>Asymmetrique Profile Score</th>\n",
       "      <th>I agree to pay the amount through cheque</th>\n",
       "      <th>A free copy of Mastering The Interview</th>\n",
       "      <th>Last Notable Activity</th>\n",
       "    </tr>\n",
       "  </thead>\n",
       "  <tbody>\n",
       "    <tr>\n",
       "      <th>0</th>\n",
       "      <td>7927b2df-8bba-4d29-b9a2-b6e0beafe620</td>\n",
       "      <td>660737</td>\n",
       "      <td>API</td>\n",
       "      <td>Olark Chat</td>\n",
       "      <td>No</td>\n",
       "      <td>No</td>\n",
       "      <td>0</td>\n",
       "      <td>0.0</td>\n",
       "      <td>0</td>\n",
       "      <td>0.0</td>\n",
       "      <td>...</td>\n",
       "      <td>No</td>\n",
       "      <td>Select</td>\n",
       "      <td>Select</td>\n",
       "      <td>02.Medium</td>\n",
       "      <td>02.Medium</td>\n",
       "      <td>15.0</td>\n",
       "      <td>15.0</td>\n",
       "      <td>No</td>\n",
       "      <td>No</td>\n",
       "      <td>Modified</td>\n",
       "    </tr>\n",
       "    <tr>\n",
       "      <th>1</th>\n",
       "      <td>2a272436-5132-4136-86fa-dcc88c88f482</td>\n",
       "      <td>660728</td>\n",
       "      <td>API</td>\n",
       "      <td>Organic Search</td>\n",
       "      <td>No</td>\n",
       "      <td>No</td>\n",
       "      <td>0</td>\n",
       "      <td>5.0</td>\n",
       "      <td>674</td>\n",
       "      <td>2.5</td>\n",
       "      <td>...</td>\n",
       "      <td>No</td>\n",
       "      <td>Select</td>\n",
       "      <td>Select</td>\n",
       "      <td>02.Medium</td>\n",
       "      <td>02.Medium</td>\n",
       "      <td>15.0</td>\n",
       "      <td>15.0</td>\n",
       "      <td>No</td>\n",
       "      <td>No</td>\n",
       "      <td>Email Opened</td>\n",
       "    </tr>\n",
       "    <tr>\n",
       "      <th>2</th>\n",
       "      <td>8cc8c611-a219-4f35-ad23-fdfd2656bd8a</td>\n",
       "      <td>660727</td>\n",
       "      <td>Landing Page Submission</td>\n",
       "      <td>Direct Traffic</td>\n",
       "      <td>No</td>\n",
       "      <td>No</td>\n",
       "      <td>1</td>\n",
       "      <td>2.0</td>\n",
       "      <td>1532</td>\n",
       "      <td>2.0</td>\n",
       "      <td>...</td>\n",
       "      <td>No</td>\n",
       "      <td>Potential Lead</td>\n",
       "      <td>Mumbai</td>\n",
       "      <td>02.Medium</td>\n",
       "      <td>01.High</td>\n",
       "      <td>14.0</td>\n",
       "      <td>20.0</td>\n",
       "      <td>No</td>\n",
       "      <td>Yes</td>\n",
       "      <td>Email Opened</td>\n",
       "    </tr>\n",
       "    <tr>\n",
       "      <th>3</th>\n",
       "      <td>0cc2df48-7cf4-4e39-9de9-19797f9b38cc</td>\n",
       "      <td>660719</td>\n",
       "      <td>Landing Page Submission</td>\n",
       "      <td>Direct Traffic</td>\n",
       "      <td>No</td>\n",
       "      <td>No</td>\n",
       "      <td>0</td>\n",
       "      <td>1.0</td>\n",
       "      <td>305</td>\n",
       "      <td>1.0</td>\n",
       "      <td>...</td>\n",
       "      <td>No</td>\n",
       "      <td>Select</td>\n",
       "      <td>Mumbai</td>\n",
       "      <td>02.Medium</td>\n",
       "      <td>01.High</td>\n",
       "      <td>13.0</td>\n",
       "      <td>17.0</td>\n",
       "      <td>No</td>\n",
       "      <td>No</td>\n",
       "      <td>Modified</td>\n",
       "    </tr>\n",
       "    <tr>\n",
       "      <th>4</th>\n",
       "      <td>3256f628-e534-4826-9d63-4a8b88782852</td>\n",
       "      <td>660681</td>\n",
       "      <td>Landing Page Submission</td>\n",
       "      <td>Google</td>\n",
       "      <td>No</td>\n",
       "      <td>No</td>\n",
       "      <td>1</td>\n",
       "      <td>2.0</td>\n",
       "      <td>1428</td>\n",
       "      <td>1.0</td>\n",
       "      <td>...</td>\n",
       "      <td>No</td>\n",
       "      <td>Select</td>\n",
       "      <td>Mumbai</td>\n",
       "      <td>02.Medium</td>\n",
       "      <td>01.High</td>\n",
       "      <td>15.0</td>\n",
       "      <td>18.0</td>\n",
       "      <td>No</td>\n",
       "      <td>No</td>\n",
       "      <td>Modified</td>\n",
       "    </tr>\n",
       "  </tbody>\n",
       "</table>\n",
       "<p>5 rows × 37 columns</p>\n",
       "</div>"
      ],
      "text/plain": [
       "                            Prospect ID  Lead Number              Lead Origin  \\\n",
       "0  7927b2df-8bba-4d29-b9a2-b6e0beafe620       660737                      API   \n",
       "1  2a272436-5132-4136-86fa-dcc88c88f482       660728                      API   \n",
       "2  8cc8c611-a219-4f35-ad23-fdfd2656bd8a       660727  Landing Page Submission   \n",
       "3  0cc2df48-7cf4-4e39-9de9-19797f9b38cc       660719  Landing Page Submission   \n",
       "4  3256f628-e534-4826-9d63-4a8b88782852       660681  Landing Page Submission   \n",
       "\n",
       "      Lead Source Do Not Email Do Not Call  Converted  TotalVisits  \\\n",
       "0      Olark Chat           No          No          0          0.0   \n",
       "1  Organic Search           No          No          0          5.0   \n",
       "2  Direct Traffic           No          No          1          2.0   \n",
       "3  Direct Traffic           No          No          0          1.0   \n",
       "4          Google           No          No          1          2.0   \n",
       "\n",
       "   Total Time Spent on Website  Page Views Per Visit  ...  \\\n",
       "0                            0                   0.0  ...   \n",
       "1                          674                   2.5  ...   \n",
       "2                         1532                   2.0  ...   \n",
       "3                          305                   1.0  ...   \n",
       "4                         1428                   1.0  ...   \n",
       "\n",
       "  Get updates on DM Content    Lead Profile    City  \\\n",
       "0                        No          Select  Select   \n",
       "1                        No          Select  Select   \n",
       "2                        No  Potential Lead  Mumbai   \n",
       "3                        No          Select  Mumbai   \n",
       "4                        No          Select  Mumbai   \n",
       "\n",
       "  Asymmetrique Activity Index Asymmetrique Profile Index  \\\n",
       "0                   02.Medium                  02.Medium   \n",
       "1                   02.Medium                  02.Medium   \n",
       "2                   02.Medium                    01.High   \n",
       "3                   02.Medium                    01.High   \n",
       "4                   02.Medium                    01.High   \n",
       "\n",
       "  Asymmetrique Activity Score Asymmetrique Profile Score  \\\n",
       "0                        15.0                       15.0   \n",
       "1                        15.0                       15.0   \n",
       "2                        14.0                       20.0   \n",
       "3                        13.0                       17.0   \n",
       "4                        15.0                       18.0   \n",
       "\n",
       "  I agree to pay the amount through cheque  \\\n",
       "0                                       No   \n",
       "1                                       No   \n",
       "2                                       No   \n",
       "3                                       No   \n",
       "4                                       No   \n",
       "\n",
       "  A free copy of Mastering The Interview Last Notable Activity  \n",
       "0                                     No              Modified  \n",
       "1                                     No          Email Opened  \n",
       "2                                    Yes          Email Opened  \n",
       "3                                     No              Modified  \n",
       "4                                     No              Modified  \n",
       "\n",
       "[5 rows x 37 columns]"
      ]
     },
     "execution_count": 402,
     "metadata": {},
     "output_type": "execute_result"
    }
   ],
   "source": [
    "df.head()"
   ]
  },
  {
   "cell_type": "code",
   "execution_count": 403,
   "id": "8a38a891",
   "metadata": {},
   "outputs": [
    {
     "data": {
      "text/plain": [
       "(9240, 37)"
      ]
     },
     "execution_count": 403,
     "metadata": {},
     "output_type": "execute_result"
    }
   ],
   "source": [
    "#checking the size of the data\n",
    "\n",
    "df.shape"
   ]
  },
  {
   "cell_type": "code",
   "execution_count": 404,
   "id": "6e0a01eb",
   "metadata": {},
   "outputs": [
    {
     "data": {
      "text/html": [
       "<div>\n",
       "<style scoped>\n",
       "    .dataframe tbody tr th:only-of-type {\n",
       "        vertical-align: middle;\n",
       "    }\n",
       "\n",
       "    .dataframe tbody tr th {\n",
       "        vertical-align: top;\n",
       "    }\n",
       "\n",
       "    .dataframe thead th {\n",
       "        text-align: right;\n",
       "    }\n",
       "</style>\n",
       "<table border=\"1\" class=\"dataframe\">\n",
       "  <thead>\n",
       "    <tr style=\"text-align: right;\">\n",
       "      <th></th>\n",
       "      <th>Lead Number</th>\n",
       "      <th>Converted</th>\n",
       "      <th>TotalVisits</th>\n",
       "      <th>Total Time Spent on Website</th>\n",
       "      <th>Page Views Per Visit</th>\n",
       "      <th>Asymmetrique Activity Score</th>\n",
       "      <th>Asymmetrique Profile Score</th>\n",
       "    </tr>\n",
       "  </thead>\n",
       "  <tbody>\n",
       "    <tr>\n",
       "      <th>count</th>\n",
       "      <td>9240.000000</td>\n",
       "      <td>9240.000000</td>\n",
       "      <td>9103.000000</td>\n",
       "      <td>9240.000000</td>\n",
       "      <td>9103.000000</td>\n",
       "      <td>5022.000000</td>\n",
       "      <td>5022.000000</td>\n",
       "    </tr>\n",
       "    <tr>\n",
       "      <th>mean</th>\n",
       "      <td>617188.435606</td>\n",
       "      <td>0.385390</td>\n",
       "      <td>3.445238</td>\n",
       "      <td>487.698268</td>\n",
       "      <td>2.362820</td>\n",
       "      <td>14.306252</td>\n",
       "      <td>16.344883</td>\n",
       "    </tr>\n",
       "    <tr>\n",
       "      <th>std</th>\n",
       "      <td>23405.995698</td>\n",
       "      <td>0.486714</td>\n",
       "      <td>4.854853</td>\n",
       "      <td>548.021466</td>\n",
       "      <td>2.161418</td>\n",
       "      <td>1.386694</td>\n",
       "      <td>1.811395</td>\n",
       "    </tr>\n",
       "    <tr>\n",
       "      <th>min</th>\n",
       "      <td>579533.000000</td>\n",
       "      <td>0.000000</td>\n",
       "      <td>0.000000</td>\n",
       "      <td>0.000000</td>\n",
       "      <td>0.000000</td>\n",
       "      <td>7.000000</td>\n",
       "      <td>11.000000</td>\n",
       "    </tr>\n",
       "    <tr>\n",
       "      <th>25%</th>\n",
       "      <td>596484.500000</td>\n",
       "      <td>0.000000</td>\n",
       "      <td>1.000000</td>\n",
       "      <td>12.000000</td>\n",
       "      <td>1.000000</td>\n",
       "      <td>14.000000</td>\n",
       "      <td>15.000000</td>\n",
       "    </tr>\n",
       "    <tr>\n",
       "      <th>50%</th>\n",
       "      <td>615479.000000</td>\n",
       "      <td>0.000000</td>\n",
       "      <td>3.000000</td>\n",
       "      <td>248.000000</td>\n",
       "      <td>2.000000</td>\n",
       "      <td>14.000000</td>\n",
       "      <td>16.000000</td>\n",
       "    </tr>\n",
       "    <tr>\n",
       "      <th>75%</th>\n",
       "      <td>637387.250000</td>\n",
       "      <td>1.000000</td>\n",
       "      <td>5.000000</td>\n",
       "      <td>936.000000</td>\n",
       "      <td>3.000000</td>\n",
       "      <td>15.000000</td>\n",
       "      <td>18.000000</td>\n",
       "    </tr>\n",
       "    <tr>\n",
       "      <th>max</th>\n",
       "      <td>660737.000000</td>\n",
       "      <td>1.000000</td>\n",
       "      <td>251.000000</td>\n",
       "      <td>2272.000000</td>\n",
       "      <td>55.000000</td>\n",
       "      <td>18.000000</td>\n",
       "      <td>20.000000</td>\n",
       "    </tr>\n",
       "  </tbody>\n",
       "</table>\n",
       "</div>"
      ],
      "text/plain": [
       "         Lead Number    Converted  TotalVisits  Total Time Spent on Website  \\\n",
       "count    9240.000000  9240.000000  9103.000000                  9240.000000   \n",
       "mean   617188.435606     0.385390     3.445238                   487.698268   \n",
       "std     23405.995698     0.486714     4.854853                   548.021466   \n",
       "min    579533.000000     0.000000     0.000000                     0.000000   \n",
       "25%    596484.500000     0.000000     1.000000                    12.000000   \n",
       "50%    615479.000000     0.000000     3.000000                   248.000000   \n",
       "75%    637387.250000     1.000000     5.000000                   936.000000   \n",
       "max    660737.000000     1.000000   251.000000                  2272.000000   \n",
       "\n",
       "       Page Views Per Visit  Asymmetrique Activity Score  \\\n",
       "count           9103.000000                  5022.000000   \n",
       "mean               2.362820                    14.306252   \n",
       "std                2.161418                     1.386694   \n",
       "min                0.000000                     7.000000   \n",
       "25%                1.000000                    14.000000   \n",
       "50%                2.000000                    14.000000   \n",
       "75%                3.000000                    15.000000   \n",
       "max               55.000000                    18.000000   \n",
       "\n",
       "       Asymmetrique Profile Score  \n",
       "count                 5022.000000  \n",
       "mean                    16.344883  \n",
       "std                      1.811395  \n",
       "min                     11.000000  \n",
       "25%                     15.000000  \n",
       "50%                     16.000000  \n",
       "75%                     18.000000  \n",
       "max                     20.000000  "
      ]
     },
     "execution_count": 404,
     "metadata": {},
     "output_type": "execute_result"
    }
   ],
   "source": [
    "#Statstical aspects of the dataframe\n",
    "df.describe()\n"
   ]
  },
  {
   "cell_type": "code",
   "execution_count": 405,
   "id": "f95266fe",
   "metadata": {},
   "outputs": [
    {
     "name": "stdout",
     "output_type": "stream",
     "text": [
      "<class 'pandas.core.frame.DataFrame'>\n",
      "RangeIndex: 9240 entries, 0 to 9239\n",
      "Data columns (total 37 columns):\n",
      " #   Column                                         Non-Null Count  Dtype  \n",
      "---  ------                                         --------------  -----  \n",
      " 0   Prospect ID                                    9240 non-null   object \n",
      " 1   Lead Number                                    9240 non-null   int64  \n",
      " 2   Lead Origin                                    9240 non-null   object \n",
      " 3   Lead Source                                    9204 non-null   object \n",
      " 4   Do Not Email                                   9240 non-null   object \n",
      " 5   Do Not Call                                    9240 non-null   object \n",
      " 6   Converted                                      9240 non-null   int64  \n",
      " 7   TotalVisits                                    9103 non-null   float64\n",
      " 8   Total Time Spent on Website                    9240 non-null   int64  \n",
      " 9   Page Views Per Visit                           9103 non-null   float64\n",
      " 10  Last Activity                                  9137 non-null   object \n",
      " 11  Country                                        6779 non-null   object \n",
      " 12  Specialization                                 7802 non-null   object \n",
      " 13  How did you hear about X Education             7033 non-null   object \n",
      " 14  What is your current occupation                6550 non-null   object \n",
      " 15  What matters most to you in choosing a course  6531 non-null   object \n",
      " 16  Search                                         9240 non-null   object \n",
      " 17  Magazine                                       9240 non-null   object \n",
      " 18  Newspaper Article                              9240 non-null   object \n",
      " 19  X Education Forums                             9240 non-null   object \n",
      " 20  Newspaper                                      9240 non-null   object \n",
      " 21  Digital Advertisement                          9240 non-null   object \n",
      " 22  Through Recommendations                        9240 non-null   object \n",
      " 23  Receive More Updates About Our Courses         9240 non-null   object \n",
      " 24  Tags                                           5887 non-null   object \n",
      " 25  Lead Quality                                   4473 non-null   object \n",
      " 26  Update me on Supply Chain Content              9240 non-null   object \n",
      " 27  Get updates on DM Content                      9240 non-null   object \n",
      " 28  Lead Profile                                   6531 non-null   object \n",
      " 29  City                                           7820 non-null   object \n",
      " 30  Asymmetrique Activity Index                    5022 non-null   object \n",
      " 31  Asymmetrique Profile Index                     5022 non-null   object \n",
      " 32  Asymmetrique Activity Score                    5022 non-null   float64\n",
      " 33  Asymmetrique Profile Score                     5022 non-null   float64\n",
      " 34  I agree to pay the amount through cheque       9240 non-null   object \n",
      " 35  A free copy of Mastering The Interview         9240 non-null   object \n",
      " 36  Last Notable Activity                          9240 non-null   object \n",
      "dtypes: float64(4), int64(3), object(30)\n",
      "memory usage: 2.6+ MB\n"
     ]
    }
   ],
   "source": [
    "# check info of the data \n",
    "\n",
    "df.info()"
   ]
  },
  {
   "cell_type": "raw",
   "id": "c0b0c1c0",
   "metadata": {},
   "source": [
    "# Observation\n",
    "1) We have lot of missing values in some of the columns, we will have to treat them\n",
    "2) Also we have 30 categorical values for which we would need to create dummy varibales after data cleaning "
   ]
  },
  {
   "cell_type": "markdown",
   "id": "23609905",
   "metadata": {},
   "source": [
    "## Data cleaning (EDA)"
   ]
  },
  {
   "cell_type": "code",
   "execution_count": 406,
   "id": "b617da8c",
   "metadata": {
    "scrolled": true
   },
   "outputs": [
    {
     "data": {
      "text/plain": [
       "Lead Quality                                     4767\n",
       "Asymmetrique Activity Index                      4218\n",
       "Asymmetrique Profile Score                       4218\n",
       "Asymmetrique Activity Score                      4218\n",
       "Asymmetrique Profile Index                       4218\n",
       "Tags                                             3353\n",
       "Lead Profile                                     2709\n",
       "What matters most to you in choosing a course    2709\n",
       "What is your current occupation                  2690\n",
       "Country                                          2461\n",
       "How did you hear about X Education               2207\n",
       "Specialization                                   1438\n",
       "City                                             1420\n",
       "Page Views Per Visit                              137\n",
       "TotalVisits                                       137\n",
       "Last Activity                                     103\n",
       "Lead Source                                        36\n",
       "Receive More Updates About Our Courses              0\n",
       "I agree to pay the amount through cheque            0\n",
       "Get updates on DM Content                           0\n",
       "Update me on Supply Chain Content                   0\n",
       "A free copy of Mastering The Interview              0\n",
       "Prospect ID                                         0\n",
       "Newspaper Article                                   0\n",
       "Through Recommendations                             0\n",
       "Digital Advertisement                               0\n",
       "Newspaper                                           0\n",
       "X Education Forums                                  0\n",
       "Lead Number                                         0\n",
       "Magazine                                            0\n",
       "Search                                              0\n",
       "Total Time Spent on Website                         0\n",
       "Converted                                           0\n",
       "Do Not Call                                         0\n",
       "Do Not Email                                        0\n",
       "Lead Origin                                         0\n",
       "Last Notable Activity                               0\n",
       "dtype: int64"
      ]
     },
     "execution_count": 406,
     "metadata": {},
     "output_type": "execute_result"
    }
   ],
   "source": [
    "# find missing values\n",
    "\n",
    "df.isnull().sum().sort_values(ascending=False)"
   ]
  },
  {
   "cell_type": "code",
   "execution_count": 407,
   "id": "c2edc34f",
   "metadata": {},
   "outputs": [
    {
     "data": {
      "text/plain": [
       "Lead Quality                                     51.590909\n",
       "Asymmetrique Activity Index                      45.649351\n",
       "Asymmetrique Profile Score                       45.649351\n",
       "Asymmetrique Activity Score                      45.649351\n",
       "Asymmetrique Profile Index                       45.649351\n",
       "Tags                                             36.287879\n",
       "Lead Profile                                     29.318182\n",
       "What matters most to you in choosing a course    29.318182\n",
       "What is your current occupation                  29.112554\n",
       "Country                                          26.634199\n",
       "How did you hear about X Education               23.885281\n",
       "Specialization                                   15.562771\n",
       "City                                             15.367965\n",
       "Page Views Per Visit                              1.482684\n",
       "TotalVisits                                       1.482684\n",
       "Last Activity                                     1.114719\n",
       "Lead Source                                       0.389610\n",
       "Receive More Updates About Our Courses            0.000000\n",
       "I agree to pay the amount through cheque          0.000000\n",
       "Get updates on DM Content                         0.000000\n",
       "Update me on Supply Chain Content                 0.000000\n",
       "A free copy of Mastering The Interview            0.000000\n",
       "Prospect ID                                       0.000000\n",
       "Newspaper Article                                 0.000000\n",
       "Through Recommendations                           0.000000\n",
       "Digital Advertisement                             0.000000\n",
       "Newspaper                                         0.000000\n",
       "X Education Forums                                0.000000\n",
       "Lead Number                                       0.000000\n",
       "Magazine                                          0.000000\n",
       "Search                                            0.000000\n",
       "Total Time Spent on Website                       0.000000\n",
       "Converted                                         0.000000\n",
       "Do Not Call                                       0.000000\n",
       "Do Not Email                                      0.000000\n",
       "Lead Origin                                       0.000000\n",
       "Last Notable Activity                             0.000000\n",
       "dtype: float64"
      ]
     },
     "execution_count": 407,
     "metadata": {},
     "output_type": "execute_result"
    }
   ],
   "source": [
    "df.isnull().sum().sort_values(ascending=False)/ len(df)*100"
   ]
  },
  {
   "cell_type": "code",
   "execution_count": 408,
   "id": "2ae404bc",
   "metadata": {},
   "outputs": [],
   "source": [
    "# Dropping all the columns with more than 3000 values/35% of missing values\n",
    "\n",
    "for col in df.columns:\n",
    "    if df[col].isnull().sum()>3000:\n",
    "        df.drop(col,axis=1,inplace=True)"
   ]
  },
  {
   "cell_type": "code",
   "execution_count": 409,
   "id": "e8edc423",
   "metadata": {
    "scrolled": true
   },
   "outputs": [
    {
     "data": {
      "text/plain": [
       "(9240, 31)"
      ]
     },
     "execution_count": 409,
     "metadata": {},
     "output_type": "execute_result"
    }
   ],
   "source": [
    "\n",
    "df.shape"
   ]
  },
  {
   "cell_type": "code",
   "execution_count": 410,
   "id": "9bcadd68",
   "metadata": {},
   "outputs": [
    {
     "data": {
      "text/html": [
       "<div>\n",
       "<style scoped>\n",
       "    .dataframe tbody tr th:only-of-type {\n",
       "        vertical-align: middle;\n",
       "    }\n",
       "\n",
       "    .dataframe tbody tr th {\n",
       "        vertical-align: top;\n",
       "    }\n",
       "\n",
       "    .dataframe thead th {\n",
       "        text-align: right;\n",
       "    }\n",
       "</style>\n",
       "<table border=\"1\" class=\"dataframe\">\n",
       "  <thead>\n",
       "    <tr style=\"text-align: right;\">\n",
       "      <th></th>\n",
       "      <th>Prospect ID</th>\n",
       "      <th>Lead Number</th>\n",
       "      <th>Lead Origin</th>\n",
       "      <th>Lead Source</th>\n",
       "      <th>Do Not Email</th>\n",
       "      <th>Do Not Call</th>\n",
       "      <th>Converted</th>\n",
       "      <th>TotalVisits</th>\n",
       "      <th>Total Time Spent on Website</th>\n",
       "      <th>Page Views Per Visit</th>\n",
       "      <th>...</th>\n",
       "      <th>Digital Advertisement</th>\n",
       "      <th>Through Recommendations</th>\n",
       "      <th>Receive More Updates About Our Courses</th>\n",
       "      <th>Update me on Supply Chain Content</th>\n",
       "      <th>Get updates on DM Content</th>\n",
       "      <th>Lead Profile</th>\n",
       "      <th>City</th>\n",
       "      <th>I agree to pay the amount through cheque</th>\n",
       "      <th>A free copy of Mastering The Interview</th>\n",
       "      <th>Last Notable Activity</th>\n",
       "    </tr>\n",
       "  </thead>\n",
       "  <tbody>\n",
       "    <tr>\n",
       "      <th>0</th>\n",
       "      <td>7927b2df-8bba-4d29-b9a2-b6e0beafe620</td>\n",
       "      <td>660737</td>\n",
       "      <td>API</td>\n",
       "      <td>Olark Chat</td>\n",
       "      <td>No</td>\n",
       "      <td>No</td>\n",
       "      <td>0</td>\n",
       "      <td>0.0</td>\n",
       "      <td>0</td>\n",
       "      <td>0.0</td>\n",
       "      <td>...</td>\n",
       "      <td>No</td>\n",
       "      <td>No</td>\n",
       "      <td>No</td>\n",
       "      <td>No</td>\n",
       "      <td>No</td>\n",
       "      <td>Select</td>\n",
       "      <td>Select</td>\n",
       "      <td>No</td>\n",
       "      <td>No</td>\n",
       "      <td>Modified</td>\n",
       "    </tr>\n",
       "    <tr>\n",
       "      <th>1</th>\n",
       "      <td>2a272436-5132-4136-86fa-dcc88c88f482</td>\n",
       "      <td>660728</td>\n",
       "      <td>API</td>\n",
       "      <td>Organic Search</td>\n",
       "      <td>No</td>\n",
       "      <td>No</td>\n",
       "      <td>0</td>\n",
       "      <td>5.0</td>\n",
       "      <td>674</td>\n",
       "      <td>2.5</td>\n",
       "      <td>...</td>\n",
       "      <td>No</td>\n",
       "      <td>No</td>\n",
       "      <td>No</td>\n",
       "      <td>No</td>\n",
       "      <td>No</td>\n",
       "      <td>Select</td>\n",
       "      <td>Select</td>\n",
       "      <td>No</td>\n",
       "      <td>No</td>\n",
       "      <td>Email Opened</td>\n",
       "    </tr>\n",
       "    <tr>\n",
       "      <th>2</th>\n",
       "      <td>8cc8c611-a219-4f35-ad23-fdfd2656bd8a</td>\n",
       "      <td>660727</td>\n",
       "      <td>Landing Page Submission</td>\n",
       "      <td>Direct Traffic</td>\n",
       "      <td>No</td>\n",
       "      <td>No</td>\n",
       "      <td>1</td>\n",
       "      <td>2.0</td>\n",
       "      <td>1532</td>\n",
       "      <td>2.0</td>\n",
       "      <td>...</td>\n",
       "      <td>No</td>\n",
       "      <td>No</td>\n",
       "      <td>No</td>\n",
       "      <td>No</td>\n",
       "      <td>No</td>\n",
       "      <td>Potential Lead</td>\n",
       "      <td>Mumbai</td>\n",
       "      <td>No</td>\n",
       "      <td>Yes</td>\n",
       "      <td>Email Opened</td>\n",
       "    </tr>\n",
       "    <tr>\n",
       "      <th>3</th>\n",
       "      <td>0cc2df48-7cf4-4e39-9de9-19797f9b38cc</td>\n",
       "      <td>660719</td>\n",
       "      <td>Landing Page Submission</td>\n",
       "      <td>Direct Traffic</td>\n",
       "      <td>No</td>\n",
       "      <td>No</td>\n",
       "      <td>0</td>\n",
       "      <td>1.0</td>\n",
       "      <td>305</td>\n",
       "      <td>1.0</td>\n",
       "      <td>...</td>\n",
       "      <td>No</td>\n",
       "      <td>No</td>\n",
       "      <td>No</td>\n",
       "      <td>No</td>\n",
       "      <td>No</td>\n",
       "      <td>Select</td>\n",
       "      <td>Mumbai</td>\n",
       "      <td>No</td>\n",
       "      <td>No</td>\n",
       "      <td>Modified</td>\n",
       "    </tr>\n",
       "    <tr>\n",
       "      <th>4</th>\n",
       "      <td>3256f628-e534-4826-9d63-4a8b88782852</td>\n",
       "      <td>660681</td>\n",
       "      <td>Landing Page Submission</td>\n",
       "      <td>Google</td>\n",
       "      <td>No</td>\n",
       "      <td>No</td>\n",
       "      <td>1</td>\n",
       "      <td>2.0</td>\n",
       "      <td>1428</td>\n",
       "      <td>1.0</td>\n",
       "      <td>...</td>\n",
       "      <td>No</td>\n",
       "      <td>No</td>\n",
       "      <td>No</td>\n",
       "      <td>No</td>\n",
       "      <td>No</td>\n",
       "      <td>Select</td>\n",
       "      <td>Mumbai</td>\n",
       "      <td>No</td>\n",
       "      <td>No</td>\n",
       "      <td>Modified</td>\n",
       "    </tr>\n",
       "  </tbody>\n",
       "</table>\n",
       "<p>5 rows × 31 columns</p>\n",
       "</div>"
      ],
      "text/plain": [
       "                            Prospect ID  Lead Number              Lead Origin  \\\n",
       "0  7927b2df-8bba-4d29-b9a2-b6e0beafe620       660737                      API   \n",
       "1  2a272436-5132-4136-86fa-dcc88c88f482       660728                      API   \n",
       "2  8cc8c611-a219-4f35-ad23-fdfd2656bd8a       660727  Landing Page Submission   \n",
       "3  0cc2df48-7cf4-4e39-9de9-19797f9b38cc       660719  Landing Page Submission   \n",
       "4  3256f628-e534-4826-9d63-4a8b88782852       660681  Landing Page Submission   \n",
       "\n",
       "      Lead Source Do Not Email Do Not Call  Converted  TotalVisits  \\\n",
       "0      Olark Chat           No          No          0          0.0   \n",
       "1  Organic Search           No          No          0          5.0   \n",
       "2  Direct Traffic           No          No          1          2.0   \n",
       "3  Direct Traffic           No          No          0          1.0   \n",
       "4          Google           No          No          1          2.0   \n",
       "\n",
       "   Total Time Spent on Website  Page Views Per Visit  ...  \\\n",
       "0                            0                   0.0  ...   \n",
       "1                          674                   2.5  ...   \n",
       "2                         1532                   2.0  ...   \n",
       "3                          305                   1.0  ...   \n",
       "4                         1428                   1.0  ...   \n",
       "\n",
       "  Digital Advertisement Through Recommendations  \\\n",
       "0                    No                      No   \n",
       "1                    No                      No   \n",
       "2                    No                      No   \n",
       "3                    No                      No   \n",
       "4                    No                      No   \n",
       "\n",
       "  Receive More Updates About Our Courses Update me on Supply Chain Content  \\\n",
       "0                                     No                                No   \n",
       "1                                     No                                No   \n",
       "2                                     No                                No   \n",
       "3                                     No                                No   \n",
       "4                                     No                                No   \n",
       "\n",
       "  Get updates on DM Content    Lead Profile    City  \\\n",
       "0                        No          Select  Select   \n",
       "1                        No          Select  Select   \n",
       "2                        No  Potential Lead  Mumbai   \n",
       "3                        No          Select  Mumbai   \n",
       "4                        No          Select  Mumbai   \n",
       "\n",
       "  I agree to pay the amount through cheque  \\\n",
       "0                                       No   \n",
       "1                                       No   \n",
       "2                                       No   \n",
       "3                                       No   \n",
       "4                                       No   \n",
       "\n",
       "  A free copy of Mastering The Interview Last Notable Activity  \n",
       "0                                     No              Modified  \n",
       "1                                     No          Email Opened  \n",
       "2                                    Yes          Email Opened  \n",
       "3                                     No              Modified  \n",
       "4                                     No              Modified  \n",
       "\n",
       "[5 rows x 31 columns]"
      ]
     },
     "execution_count": 410,
     "metadata": {},
     "output_type": "execute_result"
    }
   ],
   "source": [
    "df.head()"
   ]
  },
  {
   "cell_type": "code",
   "execution_count": 411,
   "id": "93cdd7ab",
   "metadata": {},
   "outputs": [
    {
     "data": {
      "text/plain": [
       "What matters most to you in choosing a course    2709\n",
       "Lead Profile                                     2709\n",
       "What is your current occupation                  2690\n",
       "Country                                          2461\n",
       "How did you hear about X Education               2207\n",
       "Specialization                                   1438\n",
       "City                                             1420\n",
       "Page Views Per Visit                              137\n",
       "TotalVisits                                       137\n",
       "Last Activity                                     103\n",
       "Lead Source                                        36\n",
       "Get updates on DM Content                           0\n",
       "Newspaper                                           0\n",
       "I agree to pay the amount through cheque            0\n",
       "A free copy of Mastering The Interview              0\n",
       "Update me on Supply Chain Content                   0\n",
       "Receive More Updates About Our Courses              0\n",
       "Through Recommendations                             0\n",
       "Digital Advertisement                               0\n",
       "Prospect ID                                         0\n",
       "X Education Forums                                  0\n",
       "Newspaper Article                                   0\n",
       "Magazine                                            0\n",
       "Search                                              0\n",
       "Lead Number                                         0\n",
       "Total Time Spent on Website                         0\n",
       "Converted                                           0\n",
       "Do Not Call                                         0\n",
       "Do Not Email                                        0\n",
       "Lead Origin                                         0\n",
       "Last Notable Activity                               0\n",
       "dtype: int64"
      ]
     },
     "execution_count": 411,
     "metadata": {},
     "output_type": "execute_result"
    }
   ],
   "source": [
    "df.isnull().sum().sort_values(ascending=False)"
   ]
  },
  {
   "cell_type": "code",
   "execution_count": 412,
   "id": "4bf0b051",
   "metadata": {},
   "outputs": [],
   "source": [
    "# country and city columns doesnt add any significante information hence dropping \n",
    "df.drop(['City'],axis=1,inplace=True)\n",
    "df.drop(['Country'],axis=1,inplace=True)"
   ]
  },
  {
   "cell_type": "code",
   "execution_count": 413,
   "id": "b9edf8f8",
   "metadata": {},
   "outputs": [
    {
     "data": {
      "text/plain": [
       "(9240, 29)"
      ]
     },
     "execution_count": 413,
     "metadata": {},
     "output_type": "execute_result"
    }
   ],
   "source": [
    "df.shape"
   ]
  },
  {
   "cell_type": "code",
   "execution_count": 414,
   "id": "f28c5986",
   "metadata": {
    "scrolled": false
   },
   "outputs": [
    {
     "data": {
      "text/plain": [
       "What matters most to you in choosing a course    2709\n",
       "Lead Profile                                     2709\n",
       "What is your current occupation                  2690\n",
       "How did you hear about X Education               2207\n",
       "Specialization                                   1438\n",
       "TotalVisits                                       137\n",
       "Page Views Per Visit                              137\n",
       "Last Activity                                     103\n",
       "Lead Source                                        36\n",
       "Get updates on DM Content                           0\n",
       "Update me on Supply Chain Content                   0\n",
       "X Education Forums                                  0\n",
       "I agree to pay the amount through cheque            0\n",
       "A free copy of Mastering The Interview              0\n",
       "Receive More Updates About Our Courses              0\n",
       "Through Recommendations                             0\n",
       "Digital Advertisement                               0\n",
       "Newspaper                                           0\n",
       "Prospect ID                                         0\n",
       "Newspaper Article                                   0\n",
       "Magazine                                            0\n",
       "Search                                              0\n",
       "Lead Number                                         0\n",
       "Total Time Spent on Website                         0\n",
       "Converted                                           0\n",
       "Do Not Call                                         0\n",
       "Do Not Email                                        0\n",
       "Lead Origin                                         0\n",
       "Last Notable Activity                               0\n",
       "dtype: int64"
      ]
     },
     "execution_count": 414,
     "metadata": {},
     "output_type": "execute_result"
    }
   ],
   "source": [
    "## giving treatment to remaining missing values \n",
    "df.isnull().sum().sort_values(ascending=False)"
   ]
  },
  {
   "cell_type": "code",
   "execution_count": 415,
   "id": "f67c325b",
   "metadata": {},
   "outputs": [],
   "source": [
    "# Lets do a value count for the categorical veriable having null values"
   ]
  },
  {
   "cell_type": "code",
   "execution_count": 416,
   "id": "b8a6b274",
   "metadata": {
    "scrolled": true
   },
   "outputs": [
    {
     "data": {
      "text/plain": [
       "Better Career Prospects      70.649351\n",
       "NaN                          29.318182\n",
       "Flexibility & Convenience     0.021645\n",
       "Other                         0.010823\n",
       "Name: What matters most to you in choosing a course, dtype: float64"
      ]
     },
     "execution_count": 416,
     "metadata": {},
     "output_type": "execute_result"
    }
   ],
   "source": [
    "df['What matters most to you in choosing a course'].value_counts(dropna=False, normalize=True)*100"
   ]
  },
  {
   "cell_type": "code",
   "execution_count": 417,
   "id": "a3302a96",
   "metadata": {},
   "outputs": [],
   "source": [
    "# 'Better Career Prospects' has 70% values in the this column, hence can be imputed NA values by mode value 'Better Career Prospects'\n",
    "\n",
    "df['What matters most to you in choosing a course'].fillna(df['What matters most to you in choosing a course'].mode()[0],inplace=True)"
   ]
  },
  {
   "cell_type": "code",
   "execution_count": 418,
   "id": "87ae9676",
   "metadata": {},
   "outputs": [
    {
     "data": {
      "text/plain": [
       "Better Career Prospects      99.967532\n",
       "Flexibility & Convenience     0.021645\n",
       "Other                         0.010823\n",
       "Name: What matters most to you in choosing a course, dtype: float64"
      ]
     },
     "execution_count": 418,
     "metadata": {},
     "output_type": "execute_result"
    }
   ],
   "source": [
    "df['What matters most to you in choosing a course'].value_counts(normalize=True)*100"
   ]
  },
  {
   "cell_type": "code",
   "execution_count": 419,
   "id": "b1d75b93",
   "metadata": {},
   "outputs": [
    {
     "data": {
      "text/plain": [
       "Select                         44.870130\n",
       "NaN                            29.318182\n",
       "Potential Lead                 17.456710\n",
       "Other Leads                     5.270563\n",
       "Student of SomeSchool           2.608225\n",
       "Lateral Student                 0.259740\n",
       "Dual Specialization Student     0.216450\n",
       "Name: Lead Profile, dtype: float64"
      ]
     },
     "execution_count": 419,
     "metadata": {},
     "output_type": "execute_result"
    }
   ],
   "source": [
    "df['Lead Profile'].value_counts(dropna=False, normalize=True)*100"
   ]
  },
  {
   "cell_type": "code",
   "execution_count": 420,
   "id": "068f3cae",
   "metadata": {},
   "outputs": [],
   "source": [
    "# Lead profile column has almost 45% values for which no option was selected along with almost 30% of missing values,hence drpping the column\n",
    "df.drop(['Lead Profile'],axis=1,inplace=True)"
   ]
  },
  {
   "cell_type": "code",
   "execution_count": 421,
   "id": "5500d17d",
   "metadata": {},
   "outputs": [
    {
     "data": {
      "text/plain": [
       "Unemployed              60.606061\n",
       "NaN                     29.112554\n",
       "Working Professional     7.640693\n",
       "Student                  2.272727\n",
       "Other                    0.173160\n",
       "Housewife                0.108225\n",
       "Businessman              0.086580\n",
       "Name: What is your current occupation, dtype: float64"
      ]
     },
     "execution_count": 421,
     "metadata": {},
     "output_type": "execute_result"
    }
   ],
   "source": [
    "df['What is your current occupation'].value_counts(dropna=False, normalize=True)*100"
   ]
  },
  {
   "cell_type": "code",
   "execution_count": 422,
   "id": "19c2525f",
   "metadata": {},
   "outputs": [
    {
     "data": {
      "text/plain": [
       "(9240, 28)"
      ]
     },
     "execution_count": 422,
     "metadata": {},
     "output_type": "execute_result"
    }
   ],
   "source": [
    "df.shape"
   ]
  },
  {
   "cell_type": "code",
   "execution_count": 423,
   "id": "178ce260",
   "metadata": {},
   "outputs": [
    {
     "data": {
      "text/plain": [
       "Select                   54.577922\n",
       "NaN                      23.885281\n",
       "Online Search             8.744589\n",
       "Word Of Mouth             3.766234\n",
       "Student of SomeSchool     3.354978\n",
       "Other                     2.012987\n",
       "Multiple Sources          1.645022\n",
       "Advertisements            0.757576\n",
       "Social Media              0.725108\n",
       "Email                     0.281385\n",
       "SMS                       0.248918\n",
       "Name: How did you hear about X Education, dtype: float64"
      ]
     },
     "execution_count": 423,
     "metadata": {},
     "output_type": "execute_result"
    }
   ],
   "source": [
    "df['How did you hear about X Education'].value_counts(dropna=False, normalize=True)*100"
   ]
  },
  {
   "cell_type": "code",
   "execution_count": 424,
   "id": "0e4d99f7",
   "metadata": {},
   "outputs": [],
   "source": [
    "# 'How did you hear about X Education' column has almost 54% values for which no option was selected along with almost 24% of missing values,hence drpping the column\n",
    "df.drop(['How did you hear about X Education'],axis=1,inplace=True)"
   ]
  },
  {
   "cell_type": "code",
   "execution_count": 425,
   "id": "b4f048c6",
   "metadata": {},
   "outputs": [
    {
     "data": {
      "text/plain": [
       "(9240, 27)"
      ]
     },
     "execution_count": 425,
     "metadata": {},
     "output_type": "execute_result"
    }
   ],
   "source": [
    "df.shape"
   ]
  },
  {
   "cell_type": "code",
   "execution_count": 426,
   "id": "63fcff99",
   "metadata": {},
   "outputs": [
    {
     "data": {
      "text/plain": [
       "Google               31.038961\n",
       "Direct Traffic       27.521645\n",
       "Olark Chat           18.993506\n",
       "Organic Search       12.489177\n",
       "Reference             5.779221\n",
       "Welingak Website      1.536797\n",
       "Referral Sites        1.352814\n",
       "Facebook              0.595238\n",
       "NaN                   0.389610\n",
       "bing                  0.064935\n",
       "google                0.054113\n",
       "Click2call            0.043290\n",
       "Press_Release         0.021645\n",
       "Social Media          0.021645\n",
       "Live Chat             0.021645\n",
       "Pay per Click Ads     0.010823\n",
       "testone               0.010823\n",
       "blog                  0.010823\n",
       "youtubechannel        0.010823\n",
       "WeLearn               0.010823\n",
       "welearnblog_Home      0.010823\n",
       "NC_EDM                0.010823\n",
       "Name: Lead Source, dtype: float64"
      ]
     },
     "execution_count": 426,
     "metadata": {},
     "output_type": "execute_result"
    }
   ],
   "source": [
    "df['Lead Source'].value_counts(dropna=False, normalize=True)*100"
   ]
  },
  {
   "cell_type": "code",
   "execution_count": 427,
   "id": "691e319d",
   "metadata": {},
   "outputs": [],
   "source": [
    "# we have 0.38% missing values in 'Lead Source' column hence can be imputed NA values by mode value 'Google'\n",
    "df['Lead Source'].fillna(df['Lead Source'].mode()[0],inplace=True)"
   ]
  },
  {
   "cell_type": "code",
   "execution_count": 428,
   "id": "062bc579",
   "metadata": {},
   "outputs": [
    {
     "data": {
      "text/plain": [
       "Google               31.428571\n",
       "Direct Traffic       27.521645\n",
       "Olark Chat           18.993506\n",
       "Organic Search       12.489177\n",
       "Reference             5.779221\n",
       "Welingak Website      1.536797\n",
       "Referral Sites        1.352814\n",
       "Facebook              0.595238\n",
       "bing                  0.064935\n",
       "google                0.054113\n",
       "Click2call            0.043290\n",
       "Press_Release         0.021645\n",
       "Live Chat             0.021645\n",
       "Social Media          0.021645\n",
       "Pay per Click Ads     0.010823\n",
       "testone               0.010823\n",
       "blog                  0.010823\n",
       "youtubechannel        0.010823\n",
       "WeLearn               0.010823\n",
       "welearnblog_Home      0.010823\n",
       "NC_EDM                0.010823\n",
       "Name: Lead Source, dtype: float64"
      ]
     },
     "execution_count": 428,
     "metadata": {},
     "output_type": "execute_result"
    }
   ],
   "source": [
    "df['Lead Source'].value_counts(normalize=True)*100"
   ]
  },
  {
   "cell_type": "code",
   "execution_count": 429,
   "id": "69ca9711",
   "metadata": {
    "scrolled": true
   },
   "outputs": [
    {
     "data": {
      "text/plain": [
       "Select                               21.017316\n",
       "NaN                                  15.562771\n",
       "Finance Management                   10.562771\n",
       "Human Resource Management             9.177489\n",
       "Marketing Management                  9.069264\n",
       "Operations Management                 5.443723\n",
       "Business Administration               4.361472\n",
       "IT Projects Management                3.961039\n",
       "Supply Chain Management               3.777056\n",
       "Banking, Investment And Insurance     3.658009\n",
       "Travel and Tourism                    2.196970\n",
       "Media and Advertising                 2.196970\n",
       "International Business                1.926407\n",
       "Healthcare Management                 1.720779\n",
       "Hospitality Management                1.233766\n",
       "E-COMMERCE                            1.212121\n",
       "Retail Management                     1.082251\n",
       "Rural and Agribusiness                0.790043\n",
       "E-Business                            0.616883\n",
       "Services Excellence                   0.432900\n",
       "Name: Specialization, dtype: float64"
      ]
     },
     "execution_count": 429,
     "metadata": {},
     "output_type": "execute_result"
    }
   ],
   "source": [
    "df['Specialization'].value_counts(dropna=False, normalize=True)*100"
   ]
  },
  {
   "cell_type": "code",
   "execution_count": 430,
   "id": "21e4456a",
   "metadata": {},
   "outputs": [],
   "source": [
    "# 'Specialization' column has almost 21% values for which no option was selected along with almost 15% of missing values\n",
    "# since its an important column, we will fill NA values with 'others' and deal with the select option values\n",
    "df=df.replace(\"Select\", np.nan)"
   ]
  },
  {
   "cell_type": "code",
   "execution_count": 431,
   "id": "25363c70",
   "metadata": {},
   "outputs": [
    {
     "data": {
      "text/plain": [
       "NaN                                  36.580087\n",
       "Finance Management                   10.562771\n",
       "Human Resource Management             9.177489\n",
       "Marketing Management                  9.069264\n",
       "Operations Management                 5.443723\n",
       "Business Administration               4.361472\n",
       "IT Projects Management                3.961039\n",
       "Supply Chain Management               3.777056\n",
       "Banking, Investment And Insurance     3.658009\n",
       "Travel and Tourism                    2.196970\n",
       "Media and Advertising                 2.196970\n",
       "International Business                1.926407\n",
       "Healthcare Management                 1.720779\n",
       "Hospitality Management                1.233766\n",
       "E-COMMERCE                            1.212121\n",
       "Retail Management                     1.082251\n",
       "Rural and Agribusiness                0.790043\n",
       "E-Business                            0.616883\n",
       "Services Excellence                   0.432900\n",
       "Name: Specialization, dtype: float64"
      ]
     },
     "execution_count": 431,
     "metadata": {},
     "output_type": "execute_result"
    }
   ],
   "source": [
    "df['Specialization'].value_counts(dropna=False, normalize=True)*100"
   ]
  },
  {
   "cell_type": "code",
   "execution_count": 432,
   "id": "4361eea6",
   "metadata": {},
   "outputs": [],
   "source": [
    "\n",
    "df['Specialization'].fillna('others',inplace=True)"
   ]
  },
  {
   "cell_type": "code",
   "execution_count": 433,
   "id": "2ffc87e3",
   "metadata": {},
   "outputs": [
    {
     "data": {
      "text/plain": [
       "others                               36.580087\n",
       "Finance Management                   10.562771\n",
       "Human Resource Management             9.177489\n",
       "Marketing Management                  9.069264\n",
       "Operations Management                 5.443723\n",
       "Business Administration               4.361472\n",
       "IT Projects Management                3.961039\n",
       "Supply Chain Management               3.777056\n",
       "Banking, Investment And Insurance     3.658009\n",
       "Travel and Tourism                    2.196970\n",
       "Media and Advertising                 2.196970\n",
       "International Business                1.926407\n",
       "Healthcare Management                 1.720779\n",
       "Hospitality Management                1.233766\n",
       "E-COMMERCE                            1.212121\n",
       "Retail Management                     1.082251\n",
       "Rural and Agribusiness                0.790043\n",
       "E-Business                            0.616883\n",
       "Services Excellence                   0.432900\n",
       "Name: Specialization, dtype: float64"
      ]
     },
     "execution_count": 433,
     "metadata": {},
     "output_type": "execute_result"
    }
   ],
   "source": [
    "df['Specialization'].value_counts(normalize=True)*100\n"
   ]
  },
  {
   "cell_type": "code",
   "execution_count": 434,
   "id": "5b895af7",
   "metadata": {},
   "outputs": [
    {
     "data": {
      "text/plain": [
       "What is your current occupation                  2690\n",
       "TotalVisits                                       137\n",
       "Page Views Per Visit                              137\n",
       "Last Activity                                     103\n",
       "Prospect ID                                         0\n",
       "Newspaper Article                                   0\n",
       "A free copy of Mastering The Interview              0\n",
       "I agree to pay the amount through cheque            0\n",
       "Get updates on DM Content                           0\n",
       "Update me on Supply Chain Content                   0\n",
       "Receive More Updates About Our Courses              0\n",
       "Through Recommendations                             0\n",
       "Digital Advertisement                               0\n",
       "Newspaper                                           0\n",
       "X Education Forums                                  0\n",
       "What matters most to you in choosing a course       0\n",
       "Magazine                                            0\n",
       "Search                                              0\n",
       "Lead Number                                         0\n",
       "Specialization                                      0\n",
       "Total Time Spent on Website                         0\n",
       "Converted                                           0\n",
       "Do Not Call                                         0\n",
       "Do Not Email                                        0\n",
       "Lead Source                                         0\n",
       "Lead Origin                                         0\n",
       "Last Notable Activity                               0\n",
       "dtype: int64"
      ]
     },
     "execution_count": 434,
     "metadata": {},
     "output_type": "execute_result"
    }
   ],
   "source": [
    "df.isnull().sum().sort_values(ascending=False)"
   ]
  },
  {
   "cell_type": "code",
   "execution_count": 435,
   "id": "9e88807e",
   "metadata": {
    "scrolled": true
   },
   "outputs": [
    {
     "data": {
      "text/plain": [
       "What is your current occupation                  29.112554\n",
       "TotalVisits                                       1.482684\n",
       "Page Views Per Visit                              1.482684\n",
       "Last Activity                                     1.114719\n",
       "Prospect ID                                       0.000000\n",
       "Newspaper Article                                 0.000000\n",
       "A free copy of Mastering The Interview            0.000000\n",
       "I agree to pay the amount through cheque          0.000000\n",
       "Get updates on DM Content                         0.000000\n",
       "Update me on Supply Chain Content                 0.000000\n",
       "Receive More Updates About Our Courses            0.000000\n",
       "Through Recommendations                           0.000000\n",
       "Digital Advertisement                             0.000000\n",
       "Newspaper                                         0.000000\n",
       "X Education Forums                                0.000000\n",
       "What matters most to you in choosing a course     0.000000\n",
       "Magazine                                          0.000000\n",
       "Search                                            0.000000\n",
       "Lead Number                                       0.000000\n",
       "Specialization                                    0.000000\n",
       "Total Time Spent on Website                       0.000000\n",
       "Converted                                         0.000000\n",
       "Do Not Call                                       0.000000\n",
       "Do Not Email                                      0.000000\n",
       "Lead Source                                       0.000000\n",
       "Lead Origin                                       0.000000\n",
       "Last Notable Activity                             0.000000\n",
       "dtype: float64"
      ]
     },
     "execution_count": 435,
     "metadata": {},
     "output_type": "execute_result"
    }
   ],
   "source": [
    "df.isnull().sum().sort_values(ascending=False)/ len(df)*100"
   ]
  },
  {
   "cell_type": "code",
   "execution_count": 436,
   "id": "fe75bde1",
   "metadata": {},
   "outputs": [
    {
     "data": {
      "text/plain": [
       "Unemployed              60.606061\n",
       "NaN                     29.112554\n",
       "Working Professional     7.640693\n",
       "Student                  2.272727\n",
       "Other                    0.173160\n",
       "Housewife                0.108225\n",
       "Businessman              0.086580\n",
       "Name: What is your current occupation, dtype: float64"
      ]
     },
     "execution_count": 436,
     "metadata": {},
     "output_type": "execute_result"
    }
   ],
   "source": [
    "df['What is your current occupation'].value_counts(dropna=False,normalize=True)*100"
   ]
  },
  {
   "cell_type": "code",
   "execution_count": 437,
   "id": "50064a60",
   "metadata": {},
   "outputs": [],
   "source": [
    "# Since no information has been provided regarding occupation, we can replace missing values with new category 'Not provided'\n",
    "df['What is your current occupation'] = df['What is your current occupation'].replace(np.nan, 'Not provided')"
   ]
  },
  {
   "cell_type": "code",
   "execution_count": 438,
   "id": "d5b448d5",
   "metadata": {
    "scrolled": true
   },
   "outputs": [
    {
     "data": {
      "text/plain": [
       "Unemployed              60.606061\n",
       "Not provided            29.112554\n",
       "Working Professional     7.640693\n",
       "Student                  2.272727\n",
       "Other                    0.173160\n",
       "Housewife                0.108225\n",
       "Businessman              0.086580\n",
       "Name: What is your current occupation, dtype: float64"
      ]
     },
     "execution_count": 438,
     "metadata": {},
     "output_type": "execute_result"
    }
   ],
   "source": [
    "df['What is your current occupation'].value_counts(dropna=False,normalize=True)*100"
   ]
  },
  {
   "cell_type": "code",
   "execution_count": 439,
   "id": "ec233b0a",
   "metadata": {},
   "outputs": [
    {
     "data": {
      "text/plain": [
       "Email Opened                    37.196970\n",
       "SMS Sent                        29.707792\n",
       "Olark Chat Conversation         10.530303\n",
       "Page Visited on Website          6.926407\n",
       "Converted to Lead                4.632035\n",
       "Email Bounced                    3.528139\n",
       "Email Link Clicked               2.889610\n",
       "Form Submitted on Website        1.255411\n",
       "NaN                              1.114719\n",
       "Unreachable                      1.006494\n",
       "Unsubscribed                     0.660173\n",
       "Had a Phone Conversation         0.324675\n",
       "Approached upfront               0.097403\n",
       "View in browser link Clicked     0.064935\n",
       "Email Marked Spam                0.021645\n",
       "Email Received                   0.021645\n",
       "Visited Booth in Tradeshow       0.010823\n",
       "Resubscribed to emails           0.010823\n",
       "Name: Last Activity, dtype: float64"
      ]
     },
     "execution_count": 439,
     "metadata": {},
     "output_type": "execute_result"
    }
   ],
   "source": [
    "df['Last Activity'].value_counts(dropna=False,normalize=True)*100"
   ]
  },
  {
   "cell_type": "code",
   "execution_count": 440,
   "id": "9d0837ee",
   "metadata": {},
   "outputs": [],
   "source": [
    "# we have 0.38% missing values in 'Lead Source' column hence can be imputed NA values by mode value 'Google'\n",
    "df['Last Activity'].fillna(df['Last Activity'].mode()[0],inplace=True)"
   ]
  },
  {
   "cell_type": "code",
   "execution_count": 441,
   "id": "98129d8b",
   "metadata": {},
   "outputs": [
    {
     "data": {
      "text/plain": [
       "Email Opened                    38.311688\n",
       "SMS Sent                        29.707792\n",
       "Olark Chat Conversation         10.530303\n",
       "Page Visited on Website          6.926407\n",
       "Converted to Lead                4.632035\n",
       "Email Bounced                    3.528139\n",
       "Email Link Clicked               2.889610\n",
       "Form Submitted on Website        1.255411\n",
       "Unreachable                      1.006494\n",
       "Unsubscribed                     0.660173\n",
       "Had a Phone Conversation         0.324675\n",
       "Approached upfront               0.097403\n",
       "View in browser link Clicked     0.064935\n",
       "Email Marked Spam                0.021645\n",
       "Email Received                   0.021645\n",
       "Visited Booth in Tradeshow       0.010823\n",
       "Resubscribed to emails           0.010823\n",
       "Name: Last Activity, dtype: float64"
      ]
     },
     "execution_count": 441,
     "metadata": {},
     "output_type": "execute_result"
    }
   ],
   "source": [
    "df['Last Activity'].value_counts(normalize=True)*100"
   ]
  },
  {
   "cell_type": "code",
   "execution_count": 442,
   "id": "9cd52587",
   "metadata": {},
   "outputs": [],
   "source": [
    "# Below numerical columns has around 2% of the missing values hence dropping those missing value count\n",
    "#TotalVisits           1.984733\n",
    "#Page Views Per Visit  1.984733"
   ]
  },
  {
   "cell_type": "code",
   "execution_count": 443,
   "id": "6af950a5",
   "metadata": {},
   "outputs": [],
   "source": [
    "df=df[~pd.isnull(df['TotalVisits'])]"
   ]
  },
  {
   "cell_type": "code",
   "execution_count": 444,
   "id": "2f79fb1d",
   "metadata": {},
   "outputs": [
    {
     "data": {
      "text/plain": [
       "(9103, 27)"
      ]
     },
     "execution_count": 444,
     "metadata": {},
     "output_type": "execute_result"
    }
   ],
   "source": [
    "df.shape"
   ]
  },
  {
   "cell_type": "code",
   "execution_count": 445,
   "id": "08a254a7",
   "metadata": {},
   "outputs": [],
   "source": [
    "df=df[~pd.isnull(df['Page Views Per Visit'])]"
   ]
  },
  {
   "cell_type": "code",
   "execution_count": 446,
   "id": "10c3b700",
   "metadata": {},
   "outputs": [
    {
     "data": {
      "text/plain": [
       "(9103, 27)"
      ]
     },
     "execution_count": 446,
     "metadata": {},
     "output_type": "execute_result"
    }
   ],
   "source": [
    "df.shape"
   ]
  },
  {
   "cell_type": "code",
   "execution_count": 447,
   "id": "54550c36",
   "metadata": {},
   "outputs": [
    {
     "data": {
      "text/plain": [
       "Prospect ID                                      0.0\n",
       "Search                                           0.0\n",
       "A free copy of Mastering The Interview           0.0\n",
       "I agree to pay the amount through cheque         0.0\n",
       "Get updates on DM Content                        0.0\n",
       "Update me on Supply Chain Content                0.0\n",
       "Receive More Updates About Our Courses           0.0\n",
       "Through Recommendations                          0.0\n",
       "Digital Advertisement                            0.0\n",
       "Newspaper                                        0.0\n",
       "X Education Forums                               0.0\n",
       "Newspaper Article                                0.0\n",
       "Magazine                                         0.0\n",
       "What matters most to you in choosing a course    0.0\n",
       "Lead Number                                      0.0\n",
       "What is your current occupation                  0.0\n",
       "Specialization                                   0.0\n",
       "Last Activity                                    0.0\n",
       "Page Views Per Visit                             0.0\n",
       "Total Time Spent on Website                      0.0\n",
       "TotalVisits                                      0.0\n",
       "Converted                                        0.0\n",
       "Do Not Call                                      0.0\n",
       "Do Not Email                                     0.0\n",
       "Lead Source                                      0.0\n",
       "Lead Origin                                      0.0\n",
       "Last Notable Activity                            0.0\n",
       "dtype: float64"
      ]
     },
     "execution_count": 447,
     "metadata": {},
     "output_type": "execute_result"
    }
   ],
   "source": [
    "df.isnull().sum().sort_values(ascending=False)/ len(df)*100"
   ]
  },
  {
   "cell_type": "code",
   "execution_count": 448,
   "id": "9b4114f2",
   "metadata": {},
   "outputs": [],
   "source": [
    "# As we have handled all the missing values lets to some EDA"
   ]
  },
  {
   "cell_type": "code",
   "execution_count": 449,
   "id": "840e0469",
   "metadata": {},
   "outputs": [
    {
     "name": "stdout",
     "output_type": "stream",
     "text": [
      "<class 'pandas.core.frame.DataFrame'>\n",
      "Int64Index: 9103 entries, 0 to 9239\n",
      "Data columns (total 27 columns):\n",
      " #   Column                                         Non-Null Count  Dtype  \n",
      "---  ------                                         --------------  -----  \n",
      " 0   Prospect ID                                    9103 non-null   object \n",
      " 1   Lead Number                                    9103 non-null   int64  \n",
      " 2   Lead Origin                                    9103 non-null   object \n",
      " 3   Lead Source                                    9103 non-null   object \n",
      " 4   Do Not Email                                   9103 non-null   object \n",
      " 5   Do Not Call                                    9103 non-null   object \n",
      " 6   Converted                                      9103 non-null   int64  \n",
      " 7   TotalVisits                                    9103 non-null   float64\n",
      " 8   Total Time Spent on Website                    9103 non-null   int64  \n",
      " 9   Page Views Per Visit                           9103 non-null   float64\n",
      " 10  Last Activity                                  9103 non-null   object \n",
      " 11  Specialization                                 9103 non-null   object \n",
      " 12  What is your current occupation                9103 non-null   object \n",
      " 13  What matters most to you in choosing a course  9103 non-null   object \n",
      " 14  Search                                         9103 non-null   object \n",
      " 15  Magazine                                       9103 non-null   object \n",
      " 16  Newspaper Article                              9103 non-null   object \n",
      " 17  X Education Forums                             9103 non-null   object \n",
      " 18  Newspaper                                      9103 non-null   object \n",
      " 19  Digital Advertisement                          9103 non-null   object \n",
      " 20  Through Recommendations                        9103 non-null   object \n",
      " 21  Receive More Updates About Our Courses         9103 non-null   object \n",
      " 22  Update me on Supply Chain Content              9103 non-null   object \n",
      " 23  Get updates on DM Content                      9103 non-null   object \n",
      " 24  I agree to pay the amount through cheque       9103 non-null   object \n",
      " 25  A free copy of Mastering The Interview         9103 non-null   object \n",
      " 26  Last Notable Activity                          9103 non-null   object \n",
      "dtypes: float64(2), int64(3), object(22)\n",
      "memory usage: 1.9+ MB\n"
     ]
    }
   ],
   "source": [
    "df.info()"
   ]
  },
  {
   "cell_type": "code",
   "execution_count": 450,
   "id": "5a685d95",
   "metadata": {},
   "outputs": [
    {
     "data": {
      "text/plain": [
       "Index(['Prospect ID', 'Lead Number', 'Lead Origin', 'Lead Source',\n",
       "       'Do Not Email', 'Do Not Call', 'Converted', 'TotalVisits',\n",
       "       'Total Time Spent on Website', 'Page Views Per Visit', 'Last Activity',\n",
       "       'Specialization', 'What is your current occupation',\n",
       "       'What matters most to you in choosing a course', 'Search', 'Magazine',\n",
       "       'Newspaper Article', 'X Education Forums', 'Newspaper',\n",
       "       'Digital Advertisement', 'Through Recommendations',\n",
       "       'Receive More Updates About Our Courses',\n",
       "       'Update me on Supply Chain Content', 'Get updates on DM Content',\n",
       "       'I agree to pay the amount through cheque',\n",
       "       'A free copy of Mastering The Interview', 'Last Notable Activity'],\n",
       "      dtype='object')"
      ]
     },
     "execution_count": 450,
     "metadata": {},
     "output_type": "execute_result"
    }
   ],
   "source": [
    "cat_columns = df.columns.astype('object')\n",
    "cat_columns"
   ]
  },
  {
   "cell_type": "code",
   "execution_count": 451,
   "id": "c86fc1f1",
   "metadata": {},
   "outputs": [
    {
     "name": "stdout",
     "output_type": "stream",
     "text": [
      "******************************************************\n",
      "f927a35b-32e4-4d70-958f-fe53ed0f6927    1\n",
      "3bfccb90-3df4-4ebe-9a4e-8557e09327a0    1\n",
      "58d10ee6-7d87-447b-9d22-c41e9561451b    1\n",
      "524cfc0c-4a1a-4236-bab1-281d4560c37b    1\n",
      "e9cfe101-e794-455f-9c0d-b003ac44c3f6    1\n",
      "                                       ..\n",
      "4a959213-0cef-4b5f-bab0-9198557b5d8f    1\n",
      "5f12844e-d4d1-4316-b040-6eabb8695bde    1\n",
      "faa68f92-d56c-4411-bab0-fbf1cf9f0815    1\n",
      "80ffbb0e-a3e7-4afe-905d-0172fdd48a15    1\n",
      "585d56bd-027d-4dd0-ab3c-2c83a8031428    1\n",
      "Name: Prospect ID, Length: 9103, dtype: int64\n",
      "******************************************************\n",
      "655360    1\n",
      "633527    1\n",
      "631563    1\n",
      "633515    1\n",
      "584366    1\n",
      "         ..\n",
      "595222    1\n",
      "592698    1\n",
      "618841    1\n",
      "626281    1\n",
      "620768    1\n",
      "Name: Lead Number, Length: 9103, dtype: int64\n",
      "******************************************************\n",
      "Landing Page Submission    4886\n",
      "API                        3578\n",
      "Lead Add Form               608\n",
      "Lead Import                  31\n",
      "Name: Lead Origin, dtype: int64\n",
      "******************************************************\n",
      "Google               2897\n",
      "Direct Traffic       2543\n",
      "Olark Chat           1753\n",
      "Organic Search       1154\n",
      "Reference             443\n",
      "Welingak Website      129\n",
      "Referral Sites        125\n",
      "Facebook               31\n",
      "bing                    6\n",
      "google                  5\n",
      "Click2call              4\n",
      "Press_Release           2\n",
      "Live Chat               2\n",
      "Social Media            2\n",
      "Pay per Click Ads       1\n",
      "testone                 1\n",
      "blog                    1\n",
      "youtubechannel          1\n",
      "WeLearn                 1\n",
      "welearnblog_Home        1\n",
      "NC_EDM                  1\n",
      "Name: Lead Source, dtype: int64\n",
      "******************************************************\n",
      "No     8379\n",
      "Yes     724\n",
      "Name: Do Not Email, dtype: int64\n",
      "******************************************************\n",
      "No     9101\n",
      "Yes       2\n",
      "Name: Do Not Call, dtype: int64\n",
      "******************************************************\n",
      "0    5642\n",
      "1    3461\n",
      "Name: Converted, dtype: int64\n",
      "******************************************************\n",
      "0.0      2189\n",
      "2.0      1680\n",
      "3.0      1306\n",
      "4.0      1120\n",
      "5.0       783\n",
      "6.0       466\n",
      "1.0       395\n",
      "7.0       309\n",
      "8.0       224\n",
      "9.0       164\n",
      "10.0      114\n",
      "11.0       86\n",
      "13.0       48\n",
      "12.0       45\n",
      "14.0       36\n",
      "16.0       21\n",
      "15.0       18\n",
      "17.0       16\n",
      "18.0       15\n",
      "20.0       12\n",
      "19.0        9\n",
      "23.0        6\n",
      "21.0        6\n",
      "24.0        5\n",
      "25.0        5\n",
      "27.0        5\n",
      "22.0        3\n",
      "26.0        2\n",
      "28.0        2\n",
      "29.0        2\n",
      "54.0        1\n",
      "141.0       1\n",
      "115.0       1\n",
      "74.0        1\n",
      "55.0        1\n",
      "30.0        1\n",
      "43.0        1\n",
      "42.0        1\n",
      "41.0        1\n",
      "32.0        1\n",
      "251.0       1\n",
      "Name: TotalVisits, dtype: int64\n",
      "******************************************************\n",
      "0       2193\n",
      "60        19\n",
      "127       18\n",
      "75        18\n",
      "157       17\n",
      "        ... \n",
      "1355       1\n",
      "600        1\n",
      "601        1\n",
      "603        1\n",
      "2272       1\n",
      "Name: Total Time Spent on Website, Length: 1717, dtype: int64\n",
      "******************************************************\n",
      "0.00     2189\n",
      "2.00     1795\n",
      "3.00     1196\n",
      "4.00      896\n",
      "1.00      651\n",
      "         ... \n",
      "3.57        1\n",
      "1.48        1\n",
      "12.33       1\n",
      "1.64        1\n",
      "1.93        1\n",
      "Name: Page Views Per Visit, Length: 114, dtype: int64\n",
      "******************************************************\n",
      "Email Opened                    3437\n",
      "SMS Sent                        2738\n",
      "Olark Chat Conversation          972\n",
      "Page Visited on Website          640\n",
      "Converted to Lead                428\n",
      "Email Bounced                    312\n",
      "Email Link Clicked               267\n",
      "Form Submitted on Website        116\n",
      "Unreachable                       90\n",
      "Unsubscribed                      61\n",
      "Had a Phone Conversation          25\n",
      "View in browser link Clicked       6\n",
      "Approached upfront                 5\n",
      "Email Marked Spam                  2\n",
      "Email Received                     2\n",
      "Visited Booth in Tradeshow         1\n",
      "Resubscribed to emails             1\n",
      "Name: Last Activity, dtype: int64\n",
      "******************************************************\n",
      "others                               3304\n",
      "Finance Management                    962\n",
      "Human Resource Management             838\n",
      "Marketing Management                  824\n",
      "Operations Management                 500\n",
      "Business Administration               399\n",
      "IT Projects Management                366\n",
      "Supply Chain Management               346\n",
      "Banking, Investment And Insurance     335\n",
      "Travel and Tourism                    202\n",
      "Media and Advertising                 202\n",
      "International Business                176\n",
      "Healthcare Management                 157\n",
      "Hospitality Management                111\n",
      "E-COMMERCE                            111\n",
      "Retail Management                     100\n",
      "Rural and Agribusiness                 73\n",
      "E-Business                             57\n",
      "Services Excellence                    40\n",
      "Name: Specialization, dtype: int64\n",
      "******************************************************\n",
      "Unemployed              5502\n",
      "Not provided            2683\n",
      "Working Professional     679\n",
      "Student                  207\n",
      "Other                     15\n",
      "Housewife                  9\n",
      "Businessman                8\n",
      "Name: What is your current occupation, dtype: int64\n",
      "******************************************************\n",
      "Better Career Prospects      9101\n",
      "Flexibility & Convenience       1\n",
      "Other                           1\n",
      "Name: What matters most to you in choosing a course, dtype: int64\n",
      "******************************************************\n",
      "No     9089\n",
      "Yes      14\n",
      "Name: Search, dtype: int64\n",
      "******************************************************\n",
      "No    9103\n",
      "Name: Magazine, dtype: int64\n",
      "******************************************************\n",
      "No     9101\n",
      "Yes       2\n",
      "Name: Newspaper Article, dtype: int64\n",
      "******************************************************\n",
      "No     9102\n",
      "Yes       1\n",
      "Name: X Education Forums, dtype: int64\n",
      "******************************************************\n",
      "No     9102\n",
      "Yes       1\n",
      "Name: Newspaper, dtype: int64\n",
      "******************************************************\n",
      "No     9099\n",
      "Yes       4\n",
      "Name: Digital Advertisement, dtype: int64\n",
      "******************************************************\n",
      "No     9096\n",
      "Yes       7\n",
      "Name: Through Recommendations, dtype: int64\n",
      "******************************************************\n",
      "No    9103\n",
      "Name: Receive More Updates About Our Courses, dtype: int64\n",
      "******************************************************\n",
      "No    9103\n",
      "Name: Update me on Supply Chain Content, dtype: int64\n",
      "******************************************************\n",
      "No    9103\n",
      "Name: Get updates on DM Content, dtype: int64\n",
      "******************************************************\n",
      "No    9103\n",
      "Name: I agree to pay the amount through cheque, dtype: int64\n",
      "******************************************************\n",
      "No     6215\n",
      "Yes    2888\n",
      "Name: A free copy of Mastering The Interview, dtype: int64\n",
      "******************************************************\n",
      "Modified                        3270\n",
      "Email Opened                    2827\n",
      "SMS Sent                        2172\n",
      "Page Visited on Website          318\n",
      "Olark Chat Conversation          183\n",
      "Email Link Clicked               173\n",
      "Email Bounced                     60\n",
      "Unsubscribed                      47\n",
      "Unreachable                       32\n",
      "Had a Phone Conversation          14\n",
      "Email Marked Spam                  2\n",
      "Email Received                     1\n",
      "View in browser link Clicked       1\n",
      "Form Submitted on Website          1\n",
      "Approached upfront                 1\n",
      "Resubscribed to emails             1\n",
      "Name: Last Notable Activity, dtype: int64\n"
     ]
    }
   ],
   "source": [
    "for col in df:\n",
    "    print('******************************************************')\n",
    "    print(df[col].astype('object').value_counts())\n",
    "    "
   ]
  },
  {
   "cell_type": "markdown",
   "id": "1dc28d02",
   "metadata": {},
   "source": [
    "## Categorical Attributes Analysis\n",
    "## Imbalanced Variables\n",
    "    "
   ]
  },
  {
   "cell_type": "code",
   "execution_count": 452,
   "id": "a7e974bc",
   "metadata": {},
   "outputs": [
    {
     "data": {
      "image/png": "[encoded data removed]",
      "text/plain": [
       "<Figure size 1584x1008 with 16 Axes>"
      ]
     },
     "metadata": {
      "needs_background": "light"
     },
     "output_type": "display_data"
    }
   ],
   "source": [
    "# Visualzing binary categorical variables for imbalancing\n",
    "fig, axs = plt.subplots(4,4,figsize = (22,14))\n",
    "sns.countplot(x = \"Search\", hue = \"Converted\", data = df, ax = axs[0,0],palette = 'Set2')\n",
    "sns.countplot(x = \"Magazine\", hue = \"Converted\", data = df, ax = axs[0,1],palette = 'Set2')\n",
    "sns.countplot(x = \"Newspaper Article\", hue = \"Converted\", data = df, ax = axs[0,2],palette = 'Set2')\n",
    "sns.countplot(x = \"X Education Forums\", hue = \"Converted\", data = df, ax = axs[0,3],palette = 'Set2')\n",
    "sns.countplot(x = \"Newspaper\", hue = \"Converted\", data = df, ax = axs[1,0],palette = 'Set2')\n",
    "sns.countplot(x = \"Digital Advertisement\", hue = \"Converted\", data = df, ax = axs[1,1],palette = 'Set2')\n",
    "sns.countplot(x = \"Through Recommendations\", hue = \"Converted\", data = df, ax = axs[1,2],palette = 'Set2')\n",
    "sns.countplot(x = \"Receive More Updates About Our Courses\", hue = \"Converted\", data = df, ax = axs[1,3],palette = 'Set2')\n",
    "sns.countplot(x = \"Update me on Supply Chain Content\", hue = \"Converted\", data = df, ax = axs[2,0],palette = 'Set2')\n",
    "sns.countplot(x = \"Get updates on DM Content\", hue = \"Converted\", data = df, ax = axs[2,1],palette = 'Set2')\n",
    "sns.countplot(x = \"I agree to pay the amount through cheque\", hue = \"Converted\", data = df, ax = axs[2,2],palette = 'Set2')\n",
    "sns.countplot(x = \"A free copy of Mastering The Interview\", hue = \"Converted\", data = df, ax = axs[2,3],palette = 'Set2')\n",
    "sns.countplot(x = \"Do Not Email\", hue = \"Converted\", data = df, ax = axs[3,0],palette = 'Set2')\n",
    "sns.countplot(x = \"Do Not Call\", hue = \"Converted\", data = df, ax = axs[3,1],palette = 'Set2')\n",
    "plt.show()"
   ]
  },
  {
   "cell_type": "markdown",
   "id": "c4fbdc9a",
   "metadata": {},
   "source": [
    "# Inference\n",
    "\n",
    "For all these columns except 'A free copy of Mastering The Interview' and 'Do not email' data is highly imbalanced, thus we will drop them\n"
   ]
  },
  {
   "cell_type": "code",
   "execution_count": 453,
   "id": "dbfdee45",
   "metadata": {},
   "outputs": [],
   "source": [
    "cols_to_drop=(['Search','Magazine','Newspaper Article','X Education Forums','Newspaper',\n",
    "                 'Digital Advertisement','Through Recommendations','Receive More Updates About Our Courses',\n",
    "                 'Update me on Supply Chain Content','Get updates on DM Content','I agree to pay the amount through cheque',\n",
    "                 'Do Not Call'])"
   ]
  },
  {
   "cell_type": "code",
   "execution_count": 454,
   "id": "6f511c28",
   "metadata": {},
   "outputs": [],
   "source": [
    "# columns 'Prospect ID' and 'Lead Number' having unique values for each row , which does not add any value for the analysis \n",
    "# We will drop those columns\n"
   ]
  },
  {
   "cell_type": "code",
   "execution_count": 455,
   "id": "3b7fc251",
   "metadata": {},
   "outputs": [
    {
     "data": {
      "text/plain": [
       "['Search',\n",
       " 'Magazine',\n",
       " 'Newspaper Article',\n",
       " 'X Education Forums',\n",
       " 'Newspaper',\n",
       " 'Digital Advertisement',\n",
       " 'Through Recommendations',\n",
       " 'Receive More Updates About Our Courses',\n",
       " 'Update me on Supply Chain Content',\n",
       " 'Get updates on DM Content',\n",
       " 'I agree to pay the amount through cheque',\n",
       " 'Do Not Call']"
      ]
     },
     "execution_count": 455,
     "metadata": {},
     "output_type": "execute_result"
    }
   ],
   "source": [
    "cols_to_drop"
   ]
  },
  {
   "cell_type": "code",
   "execution_count": 456,
   "id": "36a101e2",
   "metadata": {},
   "outputs": [],
   "source": [
    "cols_to_drop.extend(['Prospect ID' , 'Lead Number'])"
   ]
  },
  {
   "cell_type": "code",
   "execution_count": 457,
   "id": "71524266",
   "metadata": {},
   "outputs": [
    {
     "data": {
      "text/plain": [
       "['Search',\n",
       " 'Magazine',\n",
       " 'Newspaper Article',\n",
       " 'X Education Forums',\n",
       " 'Newspaper',\n",
       " 'Digital Advertisement',\n",
       " 'Through Recommendations',\n",
       " 'Receive More Updates About Our Courses',\n",
       " 'Update me on Supply Chain Content',\n",
       " 'Get updates on DM Content',\n",
       " 'I agree to pay the amount through cheque',\n",
       " 'Do Not Call',\n",
       " 'Prospect ID',\n",
       " 'Lead Number']"
      ]
     },
     "execution_count": 457,
     "metadata": {},
     "output_type": "execute_result"
    }
   ],
   "source": [
    "cols_to_drop"
   ]
  },
  {
   "cell_type": "code",
   "execution_count": 458,
   "id": "ae74f97b",
   "metadata": {},
   "outputs": [],
   "source": [
    "# Remove the Not Required Columns \n",
    "df.drop(labels=cols_to_drop,axis=1,inplace=True)"
   ]
  },
  {
   "cell_type": "code",
   "execution_count": 459,
   "id": "f2810b1d",
   "metadata": {},
   "outputs": [
    {
     "data": {
      "text/plain": [
       "(9103, 13)"
      ]
     },
     "execution_count": 459,
     "metadata": {},
     "output_type": "execute_result"
    }
   ],
   "source": [
    "df.shape"
   ]
  },
  {
   "cell_type": "code",
   "execution_count": 460,
   "id": "f3cf684a",
   "metadata": {},
   "outputs": [
    {
     "data": {
      "text/html": [
       "<div>\n",
       "<style scoped>\n",
       "    .dataframe tbody tr th:only-of-type {\n",
       "        vertical-align: middle;\n",
       "    }\n",
       "\n",
       "    .dataframe tbody tr th {\n",
       "        vertical-align: top;\n",
       "    }\n",
       "\n",
       "    .dataframe thead th {\n",
       "        text-align: right;\n",
       "    }\n",
       "</style>\n",
       "<table border=\"1\" class=\"dataframe\">\n",
       "  <thead>\n",
       "    <tr style=\"text-align: right;\">\n",
       "      <th></th>\n",
       "      <th>Lead Origin</th>\n",
       "      <th>Lead Source</th>\n",
       "      <th>Do Not Email</th>\n",
       "      <th>Converted</th>\n",
       "      <th>TotalVisits</th>\n",
       "      <th>Total Time Spent on Website</th>\n",
       "      <th>Page Views Per Visit</th>\n",
       "      <th>Last Activity</th>\n",
       "      <th>Specialization</th>\n",
       "      <th>What is your current occupation</th>\n",
       "      <th>What matters most to you in choosing a course</th>\n",
       "      <th>A free copy of Mastering The Interview</th>\n",
       "      <th>Last Notable Activity</th>\n",
       "    </tr>\n",
       "  </thead>\n",
       "  <tbody>\n",
       "    <tr>\n",
       "      <th>0</th>\n",
       "      <td>API</td>\n",
       "      <td>Olark Chat</td>\n",
       "      <td>No</td>\n",
       "      <td>0</td>\n",
       "      <td>0.0</td>\n",
       "      <td>0</td>\n",
       "      <td>0.0</td>\n",
       "      <td>Page Visited on Website</td>\n",
       "      <td>others</td>\n",
       "      <td>Unemployed</td>\n",
       "      <td>Better Career Prospects</td>\n",
       "      <td>No</td>\n",
       "      <td>Modified</td>\n",
       "    </tr>\n",
       "    <tr>\n",
       "      <th>1</th>\n",
       "      <td>API</td>\n",
       "      <td>Organic Search</td>\n",
       "      <td>No</td>\n",
       "      <td>0</td>\n",
       "      <td>5.0</td>\n",
       "      <td>674</td>\n",
       "      <td>2.5</td>\n",
       "      <td>Email Opened</td>\n",
       "      <td>others</td>\n",
       "      <td>Unemployed</td>\n",
       "      <td>Better Career Prospects</td>\n",
       "      <td>No</td>\n",
       "      <td>Email Opened</td>\n",
       "    </tr>\n",
       "    <tr>\n",
       "      <th>2</th>\n",
       "      <td>Landing Page Submission</td>\n",
       "      <td>Direct Traffic</td>\n",
       "      <td>No</td>\n",
       "      <td>1</td>\n",
       "      <td>2.0</td>\n",
       "      <td>1532</td>\n",
       "      <td>2.0</td>\n",
       "      <td>Email Opened</td>\n",
       "      <td>Business Administration</td>\n",
       "      <td>Student</td>\n",
       "      <td>Better Career Prospects</td>\n",
       "      <td>Yes</td>\n",
       "      <td>Email Opened</td>\n",
       "    </tr>\n",
       "  </tbody>\n",
       "</table>\n",
       "</div>"
      ],
      "text/plain": [
       "               Lead Origin     Lead Source Do Not Email  Converted  \\\n",
       "0                      API      Olark Chat           No          0   \n",
       "1                      API  Organic Search           No          0   \n",
       "2  Landing Page Submission  Direct Traffic           No          1   \n",
       "\n",
       "   TotalVisits  Total Time Spent on Website  Page Views Per Visit  \\\n",
       "0          0.0                            0                   0.0   \n",
       "1          5.0                          674                   2.5   \n",
       "2          2.0                         1532                   2.0   \n",
       "\n",
       "             Last Activity           Specialization  \\\n",
       "0  Page Visited on Website                   others   \n",
       "1             Email Opened                   others   \n",
       "2             Email Opened  Business Administration   \n",
       "\n",
       "  What is your current occupation  \\\n",
       "0                      Unemployed   \n",
       "1                      Unemployed   \n",
       "2                         Student   \n",
       "\n",
       "  What matters most to you in choosing a course  \\\n",
       "0                       Better Career Prospects   \n",
       "1                       Better Career Prospects   \n",
       "2                       Better Career Prospects   \n",
       "\n",
       "  A free copy of Mastering The Interview Last Notable Activity  \n",
       "0                                     No              Modified  \n",
       "1                                     No          Email Opened  \n",
       "2                                    Yes          Email Opened  "
      ]
     },
     "execution_count": 460,
     "metadata": {},
     "output_type": "execute_result"
    }
   ],
   "source": [
    "df.head(3)"
   ]
  },
  {
   "cell_type": "code",
   "execution_count": 461,
   "id": "007c7aa2",
   "metadata": {},
   "outputs": [
    {
     "name": "stdout",
     "output_type": "stream",
     "text": [
      "<class 'pandas.core.frame.DataFrame'>\n",
      "Int64Index: 9103 entries, 0 to 9239\n",
      "Data columns (total 13 columns):\n",
      " #   Column                                         Non-Null Count  Dtype  \n",
      "---  ------                                         --------------  -----  \n",
      " 0   Lead Origin                                    9103 non-null   object \n",
      " 1   Lead Source                                    9103 non-null   object \n",
      " 2   Do Not Email                                   9103 non-null   object \n",
      " 3   Converted                                      9103 non-null   int64  \n",
      " 4   TotalVisits                                    9103 non-null   float64\n",
      " 5   Total Time Spent on Website                    9103 non-null   int64  \n",
      " 6   Page Views Per Visit                           9103 non-null   float64\n",
      " 7   Last Activity                                  9103 non-null   object \n",
      " 8   Specialization                                 9103 non-null   object \n",
      " 9   What is your current occupation                9103 non-null   object \n",
      " 10  What matters most to you in choosing a course  9103 non-null   object \n",
      " 11  A free copy of Mastering The Interview         9103 non-null   object \n",
      " 12  Last Notable Activity                          9103 non-null   object \n",
      "dtypes: float64(2), int64(2), object(9)\n",
      "memory usage: 1.2+ MB\n"
     ]
    }
   ],
   "source": [
    "df.info()"
   ]
  },
  {
   "cell_type": "markdown",
   "id": "abb48472",
   "metadata": {},
   "source": [
    "#### Lead Origin\n"
   ]
  },
  {
   "cell_type": "code",
   "execution_count": 462,
   "id": "45901412",
   "metadata": {},
   "outputs": [
    {
     "data": {
      "text/plain": [
       "Landing Page Submission    4886\n",
       "API                        3578\n",
       "Lead Add Form               608\n",
       "Lead Import                  31\n",
       "Name: Lead Origin, dtype: int64"
      ]
     },
     "execution_count": 462,
     "metadata": {},
     "output_type": "execute_result"
    }
   ],
   "source": [
    "#checking value counts of Lead origin column\n",
    "\n",
    "df['Lead Origin'].value_counts().sort_values(ascending=False)"
   ]
  },
  {
   "cell_type": "code",
   "execution_count": 463,
   "id": "d6b75951",
   "metadata": {},
   "outputs": [
    {
     "data": {
      "image/png": "[encoded data removed]",
      "text/plain": [
       "<Figure size 432x288 with 1 Axes>"
      ]
     },
     "metadata": {
      "needs_background": "light"
     },
     "output_type": "display_data"
    }
   ],
   "source": [
    "sns.countplot(x='Lead Origin', hue='Converted' , data = df)\n",
    "plt.xticks(rotation=90)\n",
    "plt.show()"
   ]
  },
  {
   "cell_type": "markdown",
   "id": "28a14a35",
   "metadata": {},
   "source": [
    "# Inference\n",
    "\n",
    "1) Maximum leads generated by 'Landing Page Submission' and their conversion rate is more than 50%.\n",
    "\n",
    "-- Leads generated by 'API' is also high but conversion rate is low. \n",
    "\n",
    "2) Leads generation with 'Lead add form' is low but Conversion rate very high."
   ]
  },
  {
   "cell_type": "markdown",
   "id": "5edaeddf",
   "metadata": {},
   "source": [
    "#### Lead Source"
   ]
  },
  {
   "cell_type": "code",
   "execution_count": 464,
   "id": "8c15bd58",
   "metadata": {},
   "outputs": [
    {
     "data": {
      "text/plain": [
       "Google               2897\n",
       "Direct Traffic       2543\n",
       "Olark Chat           1753\n",
       "Organic Search       1154\n",
       "Reference             443\n",
       "Welingak Website      129\n",
       "Referral Sites        125\n",
       "Facebook               31\n",
       "bing                    6\n",
       "google                  5\n",
       "Click2call              4\n",
       "Press_Release           2\n",
       "Live Chat               2\n",
       "Social Media            2\n",
       "Pay per Click Ads       1\n",
       "testone                 1\n",
       "blog                    1\n",
       "youtubechannel          1\n",
       "WeLearn                 1\n",
       "welearnblog_Home        1\n",
       "NC_EDM                  1\n",
       "Name: Lead Source, dtype: int64"
      ]
     },
     "execution_count": 464,
     "metadata": {},
     "output_type": "execute_result"
    }
   ],
   "source": [
    "#checking value counts of Lead Source column\n",
    "\n",
    "df['Lead Source'].value_counts().sort_values(ascending=False)"
   ]
  },
  {
   "cell_type": "code",
   "execution_count": 465,
   "id": "9727d43d",
   "metadata": {},
   "outputs": [],
   "source": [
    "#'Lead Source' is having same label name 'Google' but in different format i.e 'google', So converting google to Google\n",
    "df['Lead Source'] = df['Lead Source'].replace('google','Google')\n",
    "\n",
    "#combining low frequency values to Others\n",
    "\n",
    "df['Lead Source'] = df['Lead Source'].replace(['bing','Click2call','Press_Release','youtubechannel',\n",
    "                                                           'welearnblog_Home','WeLearn','blog','Pay per Click Ads',\n",
    "                                                           'testone','NC_EDM','Live Chat','Social Media'] ,'Others')"
   ]
  },
  {
   "cell_type": "code",
   "execution_count": 466,
   "id": "6762b488",
   "metadata": {},
   "outputs": [
    {
     "data": {
      "image/png": "[encoded data removed]",
      "text/plain": [
       "<Figure size 432x288 with 1 Axes>"
      ]
     },
     "metadata": {
      "needs_background": "light"
     },
     "output_type": "display_data"
    }
   ],
   "source": [
    "sns.countplot(x='Lead Source', hue='Converted' , data = df)\n",
    "plt.xticks(rotation=90)\n",
    "plt.show()"
   ]
  },
  {
   "cell_type": "markdown",
   "id": "42178247",
   "metadata": {},
   "source": [
    "# Inference\n",
    "\n",
    "Maximum Lead generated by Google and Direct Traffic and Google's conversion rate is more than 50% .\n",
    "\n",
    "Conversion rate of Reference leads and Welinkgak Website leads is very high."
   ]
  },
  {
   "cell_type": "markdown",
   "id": "70928ab1",
   "metadata": {},
   "source": [
    "#### Do Not Email"
   ]
  },
  {
   "cell_type": "code",
   "execution_count": 467,
   "id": "39741411",
   "metadata": {},
   "outputs": [
    {
     "data": {
      "text/plain": [
       "No     8379\n",
       "Yes     724\n",
       "Name: Do Not Email, dtype: int64"
      ]
     },
     "execution_count": 467,
     "metadata": {},
     "output_type": "execute_result"
    }
   ],
   "source": [
    "#checking value counts of Do Not Email\n",
    "\n",
    "df['Do Not Email'].value_counts().sort_values(ascending=False)"
   ]
  },
  {
   "cell_type": "code",
   "execution_count": 468,
   "id": "155b2e38",
   "metadata": {},
   "outputs": [
    {
     "data": {
      "image/png": "[encoded data removed]",
      "text/plain": [
       "<Figure size 432x288 with 1 Axes>"
      ]
     },
     "metadata": {
      "needs_background": "light"
     },
     "output_type": "display_data"
    }
   ],
   "source": [
    "sns.countplot(x='Do Not Email', hue='Converted' , data = df)\n",
    "plt.xticks(rotation=45)\n",
    "plt.show()"
   ]
  },
  {
   "cell_type": "markdown",
   "id": "c1dcb4d7",
   "metadata": {},
   "source": [
    "# Inferences\n",
    "\n",
    "Lead generation and conversion rate of 'do not Email'  YES   is very low. Nothing more can be inferred. "
   ]
  },
  {
   "cell_type": "markdown",
   "id": "b0d0e749",
   "metadata": {},
   "source": [
    "#### Last Activity"
   ]
  },
  {
   "cell_type": "code",
   "execution_count": 469,
   "id": "7a6eabe9",
   "metadata": {},
   "outputs": [
    {
     "data": {
      "text/plain": [
       "Email Opened                    3437\n",
       "SMS Sent                        2738\n",
       "Olark Chat Conversation          972\n",
       "Page Visited on Website          640\n",
       "Converted to Lead                428\n",
       "Email Bounced                    312\n",
       "Email Link Clicked               267\n",
       "Form Submitted on Website        116\n",
       "Unreachable                       90\n",
       "Unsubscribed                      61\n",
       "Had a Phone Conversation          25\n",
       "View in browser link Clicked       6\n",
       "Approached upfront                 5\n",
       "Email Marked Spam                  2\n",
       "Email Received                     2\n",
       "Visited Booth in Tradeshow         1\n",
       "Resubscribed to emails             1\n",
       "Name: Last Activity, dtype: int64"
      ]
     },
     "execution_count": 469,
     "metadata": {},
     "output_type": "execute_result"
    }
   ],
   "source": [
    "#checking value counts of Last Activity column\n",
    "\n",
    "df['Last Activity'].value_counts().sort_values(ascending=False)"
   ]
  },
  {
   "cell_type": "code",
   "execution_count": 470,
   "id": "54185603",
   "metadata": {},
   "outputs": [],
   "source": [
    "#combining low frequency values\n",
    "df['Last Activity'] = df['Last Activity'].replace(['Unreachable','Unsubscribed',\n",
    "                                                       'Had a Phone Conversation', \n",
    "                                                       'Approached upfront',\n",
    "                                                        'View in browser link Clicked',       \n",
    "                                                        'Email Marked Spam',                  \n",
    "                                                        'Email Received','Resubscribed to emails',\n",
    "                                                         'Visited Booth in Tradeshow'],'Others')"
   ]
  },
  {
   "cell_type": "code",
   "execution_count": 471,
   "id": "dc9d77d8",
   "metadata": {},
   "outputs": [
    {
     "data": {
      "image/png": "[encoded data removed]",
      "text/plain": [
       "<Figure size 432x288 with 1 Axes>"
      ]
     },
     "metadata": {
      "needs_background": "light"
     },
     "output_type": "display_data"
    }
   ],
   "source": [
    "sns.countplot(x='Last Activity', hue='Converted' , data = df)\n",
    "plt.xticks(rotation=90)\n",
    "plt.show()"
   ]
  },
  {
   "cell_type": "markdown",
   "id": "6157d2b5",
   "metadata": {},
   "source": [
    "# Inference\n",
    "\n",
    "1)Maximum leads are generated having last activity as Email opened but conversion rate is not too good.\n",
    "\n",
    "2)SMS sent as last acitivity has high conversion rate."
   ]
  },
  {
   "cell_type": "markdown",
   "id": "b64946d2",
   "metadata": {},
   "source": [
    "#### Specialization"
   ]
  },
  {
   "cell_type": "code",
   "execution_count": 472,
   "id": "1287a109",
   "metadata": {},
   "outputs": [
    {
     "data": {
      "text/plain": [
       "others                               3304\n",
       "Finance Management                    962\n",
       "Human Resource Management             838\n",
       "Marketing Management                  824\n",
       "Operations Management                 500\n",
       "Business Administration               399\n",
       "IT Projects Management                366\n",
       "Supply Chain Management               346\n",
       "Banking, Investment And Insurance     335\n",
       "Media and Advertising                 202\n",
       "Travel and Tourism                    202\n",
       "International Business                176\n",
       "Healthcare Management                 157\n",
       "Hospitality Management                111\n",
       "E-COMMERCE                            111\n",
       "Retail Management                     100\n",
       "Rural and Agribusiness                 73\n",
       "E-Business                             57\n",
       "Services Excellence                    40\n",
       "Name: Specialization, dtype: int64"
      ]
     },
     "execution_count": 472,
     "metadata": {},
     "output_type": "execute_result"
    }
   ],
   "source": [
    "#checking value counts of Specialization column\n",
    "\n",
    "df['Specialization'].value_counts().sort_values(ascending=False)"
   ]
  },
  {
   "cell_type": "code",
   "execution_count": 473,
   "id": "57772c9c",
   "metadata": {},
   "outputs": [
    {
     "data": {
      "image/png": "[encoded data removed]",
      "text/plain": [
       "<Figure size 432x288 with 1 Axes>"
      ]
     },
     "metadata": {
      "needs_background": "light"
     },
     "output_type": "display_data"
    }
   ],
   "source": [
    "sns.countplot(x='Specialization', hue='Converted' , data = df)\n",
    "plt.xticks(rotation=90)\n",
    "plt.show()"
   ]
  },
  {
   "cell_type": "markdown",
   "id": "b68d1a7f",
   "metadata": {},
   "source": [
    "# Inference\n",
    "\n",
    "Nothing significant can be inferred from 'Specialization'."
   ]
  },
  {
   "cell_type": "markdown",
   "id": "d2117955",
   "metadata": {},
   "source": [
    "#### What is your current occupation"
   ]
  },
  {
   "cell_type": "code",
   "execution_count": 474,
   "id": "bb9a477d",
   "metadata": {},
   "outputs": [
    {
     "data": {
      "text/plain": [
       "Unemployed              5502\n",
       "Not provided            2683\n",
       "Working Professional     679\n",
       "Student                  207\n",
       "Other                     15\n",
       "Housewife                  9\n",
       "Businessman                8\n",
       "Name: What is your current occupation, dtype: int64"
      ]
     },
     "execution_count": 474,
     "metadata": {},
     "output_type": "execute_result"
    }
   ],
   "source": [
    "#checking value counts of What is your current occupation column\n",
    "\n",
    "df['What is your current occupation'].value_counts().sort_values(ascending=False)"
   ]
  },
  {
   "cell_type": "code",
   "execution_count": 475,
   "id": "cfa208f2",
   "metadata": {},
   "outputs": [
    {
     "data": {
      "image/png": "[encoded data removed]",
      "text/plain": [
       "<Figure size 432x288 with 1 Axes>"
      ]
     },
     "metadata": {
      "needs_background": "light"
     },
     "output_type": "display_data"
    }
   ],
   "source": [
    "sns.countplot(x='What is your current occupation', hue='Converted' , data = df)\n",
    "plt.xticks(rotation=70)\n",
    "plt.show()"
   ]
  },
  {
   "cell_type": "markdown",
   "id": "87bfff29",
   "metadata": {},
   "source": [
    "# Inference\n",
    "\n",
    "Maximum leads generated are unemployed and their conversion rate is more than 50%.\n",
    "\n",
    "Conversion rate of working professionals is very high."
   ]
  },
  {
   "cell_type": "markdown",
   "id": "4879c1f9",
   "metadata": {},
   "source": [
    "#### What matters most to you in choosing a course"
   ]
  },
  {
   "cell_type": "code",
   "execution_count": 476,
   "id": "49e25c66",
   "metadata": {},
   "outputs": [
    {
     "data": {
      "text/plain": [
       "Better Career Prospects      9101\n",
       "Flexibility & Convenience       1\n",
       "Other                           1\n",
       "Name: What matters most to you in choosing a course, dtype: int64"
      ]
     },
     "execution_count": 476,
     "metadata": {},
     "output_type": "execute_result"
    }
   ],
   "source": [
    "#checking value counts of What matters most to you in choosing a course column\n",
    "\n",
    "df['What matters most to you in choosing a course'].value_counts().sort_values(ascending=False)"
   ]
  },
  {
   "cell_type": "code",
   "execution_count": 477,
   "id": "d59e5f5a",
   "metadata": {},
   "outputs": [
    {
     "data": {
      "image/png": "[encoded data removed]",
      "text/plain": [
       "<Figure size 432x288 with 1 Axes>"
      ]
     },
     "metadata": {
      "needs_background": "light"
     },
     "output_type": "display_data"
    }
   ],
   "source": [
    "sns.countplot(x='What matters most to you in choosing a course', hue='Converted' , data = df)\n",
    "plt.xticks(rotation=90)\n",
    "plt.show()"
   ]
  },
  {
   "cell_type": "markdown",
   "id": "69c8d746",
   "metadata": {},
   "source": [
    "# Inference\n",
    "This column spread of variance is very low , hence it can be dropped"
   ]
  },
  {
   "cell_type": "code",
   "execution_count": 478,
   "id": "63632366",
   "metadata": {},
   "outputs": [],
   "source": [
    "df.drop('What matters most to you in choosing a course', axis =1 , inplace = True)"
   ]
  },
  {
   "cell_type": "code",
   "execution_count": 479,
   "id": "60db325f",
   "metadata": {},
   "outputs": [
    {
     "data": {
      "text/plain": [
       "(9103, 12)"
      ]
     },
     "execution_count": 479,
     "metadata": {},
     "output_type": "execute_result"
    }
   ],
   "source": [
    "df.shape"
   ]
  },
  {
   "cell_type": "markdown",
   "id": "6dfc536d",
   "metadata": {},
   "source": [
    "#### A free copy of Mastering The Interview"
   ]
  },
  {
   "cell_type": "code",
   "execution_count": 480,
   "id": "8ec8e582",
   "metadata": {},
   "outputs": [
    {
     "data": {
      "text/plain": [
       "No     6215\n",
       "Yes    2888\n",
       "Name: A free copy of Mastering The Interview, dtype: int64"
      ]
     },
     "execution_count": 480,
     "metadata": {},
     "output_type": "execute_result"
    }
   ],
   "source": [
    "#checking value counts of A free copy of Mastering The Interview column\n",
    "\n",
    "df['A free copy of Mastering The Interview'].value_counts().sort_values(ascending=False)"
   ]
  },
  {
   "cell_type": "code",
   "execution_count": 481,
   "id": "537893d2",
   "metadata": {},
   "outputs": [
    {
     "data": {
      "image/png": "[encoded data removed]",
      "text/plain": [
       "<Figure size 432x288 with 1 Axes>"
      ]
     },
     "metadata": {
      "needs_background": "light"
     },
     "output_type": "display_data"
    }
   ],
   "source": [
    "sns.countplot(x='A free copy of Mastering The Interview', hue='Converted' , data = df)\n",
    "plt.xticks(rotation=90)\n",
    "plt.show()"
   ]
  },
  {
   "cell_type": "markdown",
   "id": "793c386b",
   "metadata": {},
   "source": [
    "# Inference\n",
    "\n",
    "\"A free copy of Mastering The Interview\" do not have a spread still we will keep this feature for now\n"
   ]
  },
  {
   "cell_type": "markdown",
   "id": "3487ac17",
   "metadata": {},
   "source": [
    "#### Last Notable Activity "
   ]
  },
  {
   "cell_type": "code",
   "execution_count": 482,
   "id": "bcbda84d",
   "metadata": {},
   "outputs": [
    {
     "data": {
      "text/plain": [
       "Modified                        3270\n",
       "Email Opened                    2827\n",
       "SMS Sent                        2172\n",
       "Page Visited on Website          318\n",
       "Olark Chat Conversation          183\n",
       "Email Link Clicked               173\n",
       "Email Bounced                     60\n",
       "Unsubscribed                      47\n",
       "Unreachable                       32\n",
       "Had a Phone Conversation          14\n",
       "Email Marked Spam                  2\n",
       "Email Received                     1\n",
       "View in browser link Clicked       1\n",
       "Form Submitted on Website          1\n",
       "Approached upfront                 1\n",
       "Resubscribed to emails             1\n",
       "Name: Last Notable Activity, dtype: int64"
      ]
     },
     "execution_count": 482,
     "metadata": {},
     "output_type": "execute_result"
    }
   ],
   "source": [
    "#checking value counts of A Last Notable Activity column\n",
    "\n",
    "df['Last Notable Activity'].value_counts().sort_values(ascending=False)"
   ]
  },
  {
   "cell_type": "code",
   "execution_count": 483,
   "id": "3cc2212b",
   "metadata": {},
   "outputs": [],
   "source": [
    "#combining low frequency values\n",
    "\n",
    "df['Last Notable Activity'] = df['Last Notable Activity'].replace(['Had a Phone Conversation',\n",
    "                                                                       'Email Marked Spam',\n",
    "                                                                         'Unreachable',\n",
    "                                                                         'Unsubscribed',\n",
    "                                                                         'Email Bounced',                                                                    \n",
    "                                                                       'Resubscribed to emails',\n",
    "                                                                       'View in browser link Clicked',\n",
    "                                                                       'Approached upfront', \n",
    "                                                                       'Form Submitted on Website', \n",
    "                                                                       'Email Received'],'Others')"
   ]
  },
  {
   "cell_type": "code",
   "execution_count": 484,
   "id": "6bdd1bac",
   "metadata": {},
   "outputs": [
    {
     "data": {
      "image/png": "[encoded data removed]",
      "text/plain": [
       "<Figure size 432x288 with 1 Axes>"
      ]
     },
     "metadata": {
      "needs_background": "light"
     },
     "output_type": "display_data"
    }
   ],
   "source": [
    "sns.countplot(x='Last Notable Activity', hue='Converted' , data = df)\n",
    "plt.xticks(rotation=90)\n",
    "plt.show()"
   ]
  },
  {
   "cell_type": "markdown",
   "id": "d51da1d4",
   "metadata": {},
   "source": [
    "# Inference\n",
    "\n",
    "1)Maximum leads are generated having last activity as Email opened but conversion rate is not too good.\n",
    "\n",
    "2)SMS sent as last acitivity has high conversion rate."
   ]
  },
  {
   "cell_type": "code",
   "execution_count": 485,
   "id": "938c3855",
   "metadata": {},
   "outputs": [
    {
     "name": "stdout",
     "output_type": "stream",
     "text": [
      "<class 'pandas.core.frame.DataFrame'>\n",
      "Int64Index: 9103 entries, 0 to 9239\n",
      "Data columns (total 12 columns):\n",
      " #   Column                                  Non-Null Count  Dtype  \n",
      "---  ------                                  --------------  -----  \n",
      " 0   Lead Origin                             9103 non-null   object \n",
      " 1   Lead Source                             9103 non-null   object \n",
      " 2   Do Not Email                            9103 non-null   object \n",
      " 3   Converted                               9103 non-null   int64  \n",
      " 4   TotalVisits                             9103 non-null   float64\n",
      " 5   Total Time Spent on Website             9103 non-null   int64  \n",
      " 6   Page Views Per Visit                    9103 non-null   float64\n",
      " 7   Last Activity                           9103 non-null   object \n",
      " 8   Specialization                          9103 non-null   object \n",
      " 9   What is your current occupation         9103 non-null   object \n",
      " 10  A free copy of Mastering The Interview  9103 non-null   object \n",
      " 11  Last Notable Activity                   9103 non-null   object \n",
      "dtypes: float64(2), int64(2), object(8)\n",
      "memory usage: 1.2+ MB\n"
     ]
    }
   ],
   "source": [
    "df.info()"
   ]
  },
  {
   "cell_type": "markdown",
   "id": "10a1870e",
   "metadata": {},
   "source": [
    "## Now that we have handled the Categorical columns, Lets handle numeric columns"
   ]
  },
  {
   "cell_type": "markdown",
   "id": "72d1cf13",
   "metadata": {},
   "source": [
    "#### Total Visits"
   ]
  },
  {
   "cell_type": "code",
   "execution_count": 486,
   "id": "a1b07eaf",
   "metadata": {},
   "outputs": [],
   "source": [
    "#visualizing spread of variable Total Visits"
   ]
  },
  {
   "cell_type": "code",
   "execution_count": 487,
   "id": "2b9b8c06",
   "metadata": {},
   "outputs": [
    {
     "data": {
      "image/png": "[encoded data removed]",
      "text/plain": [
       "<Figure size 432x288 with 1 Axes>"
      ]
     },
     "metadata": {
      "needs_background": "light"
     },
     "output_type": "display_data"
    }
   ],
   "source": [
    "sns.boxplot(y=df['TotalVisits'])\n",
    "plt.show()"
   ]
  },
  {
   "cell_type": "markdown",
   "id": "8685c089",
   "metadata": {},
   "source": [
    "Presence of outliers can be seen clearly\n",
    "\n",
    "#checking percentile values for \"Total Visits\""
   ]
  },
  {
   "cell_type": "code",
   "execution_count": 488,
   "id": "d7ed3c7c",
   "metadata": {},
   "outputs": [
    {
     "data": {
      "text/plain": [
       "count    9103.000000\n",
       "mean        3.445238\n",
       "std         4.854853\n",
       "min         0.000000\n",
       "5%          0.000000\n",
       "25%         1.000000\n",
       "50%         3.000000\n",
       "75%         5.000000\n",
       "90%         7.000000\n",
       "95%        10.000000\n",
       "99%        17.000000\n",
       "max       251.000000\n",
       "Name: TotalVisits, dtype: float64"
      ]
     },
     "execution_count": 488,
     "metadata": {},
     "output_type": "execute_result"
    }
   ],
   "source": [
    "df['TotalVisits'].describe(percentiles=[0.05,.25, .5, .75, .90, .95, .99])"
   ]
  },
  {
   "cell_type": "code",
   "execution_count": 489,
   "id": "c3bef736",
   "metadata": {},
   "outputs": [],
   "source": [
    "#Outlier Treatment: capping the outliers to 95% value for analysis"
   ]
  },
  {
   "cell_type": "code",
   "execution_count": 490,
   "id": "256c116e",
   "metadata": {},
   "outputs": [],
   "source": [
    "percentiles = df['TotalVisits'].quantile([0.05,0.95]).values\n",
    "df['TotalVisits'][df['TotalVisits'] <= percentiles[0]] = percentiles[0]\n",
    "df['TotalVisits'][df['TotalVisits'] >= percentiles[1]] = percentiles[1]"
   ]
  },
  {
   "cell_type": "code",
   "execution_count": 491,
   "id": "2423dcf8",
   "metadata": {},
   "outputs": [
    {
     "data": {
      "image/png": "[encoded data removed]",
      "text/plain": [
       "<Figure size 432x288 with 1 Axes>"
      ]
     },
     "metadata": {
      "needs_background": "light"
     },
     "output_type": "display_data"
    }
   ],
   "source": [
    "#visualizing variable after outlier treatment\n",
    "sns.boxplot(y=df['TotalVisits'])\n",
    "plt.show()"
   ]
  },
  {
   "cell_type": "code",
   "execution_count": 492,
   "id": "1a475cdc",
   "metadata": {},
   "outputs": [
    {
     "data": {
      "image/png": "[encoded data removed]",
      "text/plain": [
       "<Figure size 432x288 with 1 Axes>"
      ]
     },
     "metadata": {
      "needs_background": "light"
     },
     "output_type": "display_data"
    }
   ],
   "source": [
    "# Visualizing TotalVisits w.r.t Target Variable 'Converted'\n",
    "sns.boxplot(y = 'TotalVisits', x = 'Converted', data = df)\n",
    "plt.show()"
   ]
  },
  {
   "cell_type": "markdown",
   "id": "3ad10523",
   "metadata": {},
   "source": [
    "# Inference\n",
    "\n",
    "As the median for both converted and non-converted leads are same , nothing coclusive can be said on the basis of variable TotalVisits"
   ]
  },
  {
   "cell_type": "markdown",
   "id": "4e3976db",
   "metadata": {},
   "source": [
    "#### Total time spent on website"
   ]
  },
  {
   "cell_type": "code",
   "execution_count": 493,
   "id": "4d99cacf",
   "metadata": {},
   "outputs": [
    {
     "data": {
      "text/plain": [
       "count    9103.000000\n",
       "mean      481.350104\n",
       "std       545.066142\n",
       "min         0.000000\n",
       "5%          0.000000\n",
       "25%         9.000000\n",
       "50%       244.000000\n",
       "75%       919.500000\n",
       "90%      1372.000000\n",
       "95%      1556.900000\n",
       "99%      1838.960000\n",
       "max      2272.000000\n",
       "Name: Total Time Spent on Website, dtype: float64"
      ]
     },
     "execution_count": 493,
     "metadata": {},
     "output_type": "execute_result"
    }
   ],
   "source": [
    "#checking percentiles for \"Total Time Spent on Website\"\n",
    "df['Total Time Spent on Website'].describe(percentiles=[0.05,.25, .5, .75, .90, .95, .99])"
   ]
  },
  {
   "cell_type": "code",
   "execution_count": 494,
   "id": "3cd6ee6e",
   "metadata": {},
   "outputs": [
    {
     "data": {
      "image/png": "[encoded data removed]",
      "text/plain": [
       "<Figure size 432x288 with 1 Axes>"
      ]
     },
     "metadata": {
      "needs_background": "light"
     },
     "output_type": "display_data"
    }
   ],
   "source": [
    "#visualizing spread of variable 'Total Time Spent on Website'\n",
    "sns.boxplot(y = df['Total Time Spent on Website'])\n",
    "plt.show()"
   ]
  },
  {
   "cell_type": "raw",
   "id": "8524b82f",
   "metadata": {},
   "source": [
    "Since there are no major outliers for the above variable, outlier treatment is not required for it"
   ]
  },
  {
   "cell_type": "code",
   "execution_count": 495,
   "id": "a34bb03f",
   "metadata": {},
   "outputs": [
    {
     "data": {
      "image/png": "[encoded data removed]",
      "text/plain": [
       "<Figure size 432x288 with 1 Axes>"
      ]
     },
     "metadata": {
      "needs_background": "light"
     },
     "output_type": "display_data"
    }
   ],
   "source": [
    "# Visualizing 'Total Time Spent on Website' w.r.t Target Variable 'converted'\n",
    "sns.boxplot(y = 'Total Time Spent on Website', x = 'Converted', data = df)\n",
    "plt.show()"
   ]
  },
  {
   "cell_type": "markdown",
   "id": "533eb87f",
   "metadata": {},
   "source": [
    "# Inference\n",
    "\n",
    "As can be seen, leads spending more time on website are more likely to convert , thus website should be made more enagaging to increase conversion rate"
   ]
  },
  {
   "cell_type": "markdown",
   "id": "de966130",
   "metadata": {},
   "source": [
    "#### Page views per visit"
   ]
  },
  {
   "cell_type": "code",
   "execution_count": 496,
   "id": "e56a5a4f",
   "metadata": {},
   "outputs": [
    {
     "data": {
      "text/plain": [
       "count    9103.000000\n",
       "mean        2.362820\n",
       "std         2.161418\n",
       "min         0.000000\n",
       "5%          0.000000\n",
       "25%         1.000000\n",
       "50%         2.000000\n",
       "75%         3.000000\n",
       "90%         5.000000\n",
       "95%         6.000000\n",
       "99%         9.000000\n",
       "max        55.000000\n",
       "Name: Page Views Per Visit, dtype: float64"
      ]
     },
     "execution_count": 496,
     "metadata": {},
     "output_type": "execute_result"
    }
   ],
   "source": [
    "df['Page Views Per Visit'].describe(percentiles=[0.05,.25, .5, .75, .90, .95, .99])"
   ]
  },
  {
   "cell_type": "code",
   "execution_count": 497,
   "id": "515e9a12",
   "metadata": {},
   "outputs": [
    {
     "data": {
      "image/png": "[encoded data removed]",
      "text/plain": [
       "<Figure size 432x288 with 1 Axes>"
      ]
     },
     "metadata": {
      "needs_background": "light"
     },
     "output_type": "display_data"
    }
   ],
   "source": [
    "#visualizing spread of variable 'Page Views Per Visit'\n",
    "sns.boxplot(y =df['Page Views Per Visit'])\n",
    "plt.show()"
   ]
  },
  {
   "cell_type": "code",
   "execution_count": 498,
   "id": "84bca8e8",
   "metadata": {},
   "outputs": [
    {
     "data": {
      "text/plain": [
       "array([ 0.  ,  2.5 ,  2.  ,  1.  ,  4.  ,  8.  ,  2.67, 11.  ,  5.  ,\n",
       "        6.  ,  3.  ,  1.33,  1.5 ,  3.5 ,  7.  ,  2.33, 13.  ,  8.5 ,\n",
       "        5.5 ,  1.67,  4.5 ,  3.33, 16.  , 12.  ,  1.71,  1.8 ,  6.5 ,\n",
       "        4.33, 14.  ,  3.4 , 10.  ,  1.25,  1.75,  2.63, 15.  ,  2.25,\n",
       "        3.67,  1.43,  9.  ,  2.6 ,  4.75,  1.27,  3.25,  5.33,  2.57,\n",
       "        2.17,  2.75,  2.8 ,  2.2 ,  2.86,  3.91,  1.4 ,  5.67,  3.2 ,\n",
       "        1.38,  2.09,  2.4 , 55.  ,  5.25,  6.71,  3.57,  2.22,  1.83,\n",
       "        3.6 ,  1.2 ,  1.57,  1.56,  5.4 ,  4.25,  1.31,  1.6 ,  2.9 ,\n",
       "        1.23,  1.78,  3.83,  7.5 ,  1.14,  2.71,  1.45,  2.38,  1.86,\n",
       "        2.29,  1.21, 12.33,  3.43,  2.56,  6.33,  1.64,  8.21,  4.4 ,\n",
       "        3.17,  8.33,  1.48,  1.22, 24.  ,  3.75,  6.67,  1.54,  2.13,\n",
       "        2.14,  2.45,  3.29,  4.17,  1.63,  3.38,  1.17, 14.5 ,  3.8 ,\n",
       "        1.19,  3.82,  2.83,  1.93, 11.5 ,  2.08])"
      ]
     },
     "execution_count": 498,
     "metadata": {},
     "output_type": "execute_result"
    }
   ],
   "source": [
    "df['Page Views Per Visit'].unique()"
   ]
  },
  {
   "cell_type": "raw",
   "id": "40d93d12",
   "metadata": {},
   "source": [
    "Presence of outliers can be clearly seen in the above boxplot, thus outlier treatment need to be done for this variable"
   ]
  },
  {
   "cell_type": "code",
   "execution_count": 499,
   "id": "0c8ae9e7",
   "metadata": {},
   "outputs": [],
   "source": [
    "#Outlier Treatment: capping the outliers to 95% value for analysis\n",
    "percentiles = df['Page Views Per Visit'].quantile([0.05,0.95]).values\n",
    "df['Page Views Per Visit'][df['Page Views Per Visit'] <= percentiles[0]] = percentiles[0]\n",
    "df['Page Views Per Visit'][df['Page Views Per Visit'] >= percentiles[1]] = percentiles[1]"
   ]
  },
  {
   "cell_type": "code",
   "execution_count": 500,
   "id": "942776d7",
   "metadata": {},
   "outputs": [
    {
     "data": {
      "image/png": "[encoded data removed]",
      "text/plain": [
       "<Figure size 432x288 with 1 Axes>"
      ]
     },
     "metadata": {
      "needs_background": "light"
     },
     "output_type": "display_data"
    }
   ],
   "source": [
    "#visualizing variable after outlier treatment\n",
    "sns.boxplot(y=df['Page Views Per Visit'])\n",
    "plt.show()"
   ]
  },
  {
   "cell_type": "code",
   "execution_count": 501,
   "id": "1e8425de",
   "metadata": {},
   "outputs": [
    {
     "data": {
      "image/png": "[encoded data removed]",
      "text/plain": [
       "<Figure size 432x288 with 1 Axes>"
      ]
     },
     "metadata": {
      "needs_background": "light"
     },
     "output_type": "display_data"
    }
   ],
   "source": [
    "#visualizing 'Page Views Per Visit' w.r.t Target variable 'Converted'\n",
    "sns.boxplot(y = 'Page Views Per Visit', x = 'Converted', data = df)\n",
    "plt.show()"
   ]
  },
  {
   "cell_type": "markdown",
   "id": "31763b59",
   "metadata": {},
   "source": [
    "# Inference\n",
    "\n",
    "Median for converted and not converted leads is almost same.\n",
    "\n",
    "Nothing conclusive can be said on the basis of Page Views Per Visit."
   ]
  },
  {
   "cell_type": "code",
   "execution_count": 502,
   "id": "9d8b4dfc",
   "metadata": {},
   "outputs": [],
   "source": [
    "# Now check the conversions for all numeric values"
   ]
  },
  {
   "cell_type": "code",
   "execution_count": 503,
   "id": "a0e7ef95",
   "metadata": {},
   "outputs": [
    {
     "data": {
      "image/png": "[encoded data removed]",
      "text/plain": [
       "<Figure size 1440x1440 with 3 Axes>"
      ]
     },
     "metadata": {
      "needs_background": "light"
     },
     "output_type": "display_data"
    }
   ],
   "source": [
    "plt.figure(figsize=(20,20))\n",
    "plt.subplot(4,3,1)\n",
    "sns.barplot(y = 'TotalVisits', x='Converted', palette='Set2', data = df)\n",
    "plt.subplot(4,3,2)\n",
    "sns.barplot(y = 'Total Time Spent on Website', x='Converted', palette='Set2', data = df)\n",
    "plt.subplot(4,3,3)\n",
    "sns.barplot(y = 'Page Views Per Visit', x='Converted', palette='Set2', data = df)\n",
    "plt.show()"
   ]
  },
  {
   "cell_type": "markdown",
   "id": "fe6b95ab",
   "metadata": {},
   "source": [
    "# Inference\n",
    "\n",
    "The conversion rate is high for Total Visits, Total Time Spent on Website and Page Views Per Visit\n"
   ]
  },
  {
   "cell_type": "markdown",
   "id": "1ca34960",
   "metadata": {},
   "source": [
    "### Now, all data labels are in good shape , we will proceed to our next step which is Data Preparation"
   ]
  },
  {
   "cell_type": "code",
   "execution_count": 504,
   "id": "daa61919",
   "metadata": {},
   "outputs": [
    {
     "data": {
      "text/plain": [
       "38.02043282434362"
      ]
     },
     "execution_count": 504,
     "metadata": {},
     "output_type": "execute_result"
    }
   ],
   "source": [
    "#Check the % of Data that has Converted Values = 1:\n",
    "\n",
    "Converted = (sum(df['Converted'])/len(df['Converted'].index))*100\n",
    "Converted"
   ]
  },
  {
   "cell_type": "code",
   "execution_count": 505,
   "id": "a7612bde",
   "metadata": {
    "scrolled": true
   },
   "outputs": [
    {
     "name": "stdout",
     "output_type": "stream",
     "text": [
      "<class 'pandas.core.frame.DataFrame'>\n",
      "Int64Index: 9103 entries, 0 to 9239\n",
      "Data columns (total 12 columns):\n",
      " #   Column                                  Non-Null Count  Dtype  \n",
      "---  ------                                  --------------  -----  \n",
      " 0   Lead Origin                             9103 non-null   object \n",
      " 1   Lead Source                             9103 non-null   object \n",
      " 2   Do Not Email                            9103 non-null   object \n",
      " 3   Converted                               9103 non-null   int64  \n",
      " 4   TotalVisits                             9103 non-null   float64\n",
      " 5   Total Time Spent on Website             9103 non-null   int64  \n",
      " 6   Page Views Per Visit                    9103 non-null   float64\n",
      " 7   Last Activity                           9103 non-null   object \n",
      " 8   Specialization                          9103 non-null   object \n",
      " 9   What is your current occupation         9103 non-null   object \n",
      " 10  A free copy of Mastering The Interview  9103 non-null   object \n",
      " 11  Last Notable Activity                   9103 non-null   object \n",
      "dtypes: float64(2), int64(2), object(8)\n",
      "memory usage: 1.2+ MB\n"
     ]
    }
   ],
   "source": [
    "df.info()"
   ]
  },
  {
   "cell_type": "markdown",
   "id": "0b931044",
   "metadata": {},
   "source": [
    "# Dummy Variable Creation"
   ]
  },
  {
   "cell_type": "code",
   "execution_count": 506,
   "id": "001ee4f2",
   "metadata": {
    "scrolled": true
   },
   "outputs": [
    {
     "data": {
      "text/plain": [
       "Index(['Lead Origin', 'Lead Source', 'Do Not Email', 'Last Activity',\n",
       "       'Specialization', 'What is your current occupation',\n",
       "       'A free copy of Mastering The Interview', 'Last Notable Activity'],\n",
       "      dtype='object')"
      ]
     },
     "execution_count": 506,
     "metadata": {},
     "output_type": "execute_result"
    }
   ],
   "source": [
    "#getting a list of categorical columns\n",
    "\n",
    "cat_cols= df.select_dtypes(include=['object']).columns\n",
    "cat_cols"
   ]
  },
  {
   "cell_type": "code",
   "execution_count": 507,
   "id": "ca1d4b93",
   "metadata": {},
   "outputs": [
    {
     "name": "stdout",
     "output_type": "stream",
     "text": [
      "******************************************************\n",
      "Landing Page Submission    4886\n",
      "API                        3578\n",
      "Lead Add Form               608\n",
      "Lead Import                  31\n",
      "Name: Lead Origin, dtype: int64\n",
      "******************************************************\n",
      "Google              2902\n",
      "Direct Traffic      2543\n",
      "Olark Chat          1753\n",
      "Organic Search      1154\n",
      "Reference            443\n",
      "Welingak Website     129\n",
      "Referral Sites       125\n",
      "Facebook              31\n",
      "Others                23\n",
      "Name: Lead Source, dtype: int64\n",
      "******************************************************\n",
      "No     8379\n",
      "Yes     724\n",
      "Name: Do Not Email, dtype: int64\n",
      "******************************************************\n",
      "0    5642\n",
      "1    3461\n",
      "Name: Converted, dtype: int64\n",
      "******************************************************\n",
      "0.0     2189\n",
      "2.0     1680\n",
      "3.0     1306\n",
      "4.0     1120\n",
      "5.0      783\n",
      "10.0     467\n",
      "6.0      466\n",
      "1.0      395\n",
      "7.0      309\n",
      "8.0      224\n",
      "9.0      164\n",
      "Name: TotalVisits, dtype: int64\n",
      "******************************************************\n",
      "0       2193\n",
      "60        19\n",
      "127       18\n",
      "75        18\n",
      "157       17\n",
      "        ... \n",
      "1355       1\n",
      "600        1\n",
      "601        1\n",
      "603        1\n",
      "2272       1\n",
      "Name: Total Time Spent on Website, Length: 1717, dtype: int64\n",
      "******************************************************\n",
      "0.00    2189\n",
      "2.00    1795\n",
      "3.00    1196\n",
      "4.00     896\n",
      "1.00     651\n",
      "        ... \n",
      "2.86       1\n",
      "1.64       1\n",
      "3.80       1\n",
      "3.57       1\n",
      "2.29       1\n",
      "Name: Page Views Per Visit, Length: 91, dtype: int64\n",
      "******************************************************\n",
      "Email Opened                 3437\n",
      "SMS Sent                     2738\n",
      "Olark Chat Conversation       972\n",
      "Page Visited on Website       640\n",
      "Converted to Lead             428\n",
      "Email Bounced                 312\n",
      "Email Link Clicked            267\n",
      "Others                        193\n",
      "Form Submitted on Website     116\n",
      "Name: Last Activity, dtype: int64\n",
      "******************************************************\n",
      "others                               3304\n",
      "Finance Management                    962\n",
      "Human Resource Management             838\n",
      "Marketing Management                  824\n",
      "Operations Management                 500\n",
      "Business Administration               399\n",
      "IT Projects Management                366\n",
      "Supply Chain Management               346\n",
      "Banking, Investment And Insurance     335\n",
      "Travel and Tourism                    202\n",
      "Media and Advertising                 202\n",
      "International Business                176\n",
      "Healthcare Management                 157\n",
      "Hospitality Management                111\n",
      "E-COMMERCE                            111\n",
      "Retail Management                     100\n",
      "Rural and Agribusiness                 73\n",
      "E-Business                             57\n",
      "Services Excellence                    40\n",
      "Name: Specialization, dtype: int64\n",
      "******************************************************\n",
      "Unemployed              5502\n",
      "Not provided            2683\n",
      "Working Professional     679\n",
      "Student                  207\n",
      "Other                     15\n",
      "Housewife                  9\n",
      "Businessman                8\n",
      "Name: What is your current occupation, dtype: int64\n",
      "******************************************************\n",
      "No     6215\n",
      "Yes    2888\n",
      "Name: A free copy of Mastering The Interview, dtype: int64\n",
      "******************************************************\n",
      "Modified                   3270\n",
      "Email Opened               2827\n",
      "SMS Sent                   2172\n",
      "Page Visited on Website     318\n",
      "Olark Chat Conversation     183\n",
      "Email Link Clicked          173\n",
      "Others                      160\n",
      "Name: Last Notable Activity, dtype: int64\n"
     ]
    }
   ],
   "source": [
    "for col in df:\n",
    "    print('******************************************************')\n",
    "    print(df[col].astype('object').value_counts())"
   ]
  },
  {
   "cell_type": "code",
   "execution_count": 508,
   "id": "462858c9",
   "metadata": {},
   "outputs": [],
   "source": [
    "# List of variables to map\n",
    "\n",
    "varlist =  ['A free copy of Mastering The Interview','Do Not Email']\n",
    "\n",
    "# Defining the map function\n",
    "def binary_map(x):\n",
    "    return x.map({'Yes': 1, \"No\": 0})\n",
    "\n",
    "\n",
    "df[varlist] = df[varlist].apply(binary_map)"
   ]
  },
  {
   "cell_type": "code",
   "execution_count": 509,
   "id": "1ebe4565",
   "metadata": {},
   "outputs": [
    {
     "data": {
      "text/html": [
       "<div>\n",
       "<style scoped>\n",
       "    .dataframe tbody tr th:only-of-type {\n",
       "        vertical-align: middle;\n",
       "    }\n",
       "\n",
       "    .dataframe tbody tr th {\n",
       "        vertical-align: top;\n",
       "    }\n",
       "\n",
       "    .dataframe thead th {\n",
       "        text-align: right;\n",
       "    }\n",
       "</style>\n",
       "<table border=\"1\" class=\"dataframe\">\n",
       "  <thead>\n",
       "    <tr style=\"text-align: right;\">\n",
       "      <th></th>\n",
       "      <th>Lead Origin</th>\n",
       "      <th>Lead Source</th>\n",
       "      <th>Do Not Email</th>\n",
       "      <th>Converted</th>\n",
       "      <th>TotalVisits</th>\n",
       "      <th>Total Time Spent on Website</th>\n",
       "      <th>Page Views Per Visit</th>\n",
       "      <th>Last Activity</th>\n",
       "      <th>Specialization</th>\n",
       "      <th>What is your current occupation</th>\n",
       "      <th>A free copy of Mastering The Interview</th>\n",
       "      <th>Last Notable Activity</th>\n",
       "    </tr>\n",
       "  </thead>\n",
       "  <tbody>\n",
       "    <tr>\n",
       "      <th>0</th>\n",
       "      <td>API</td>\n",
       "      <td>Olark Chat</td>\n",
       "      <td>0</td>\n",
       "      <td>0</td>\n",
       "      <td>0.0</td>\n",
       "      <td>0</td>\n",
       "      <td>0.0</td>\n",
       "      <td>Page Visited on Website</td>\n",
       "      <td>others</td>\n",
       "      <td>Unemployed</td>\n",
       "      <td>0</td>\n",
       "      <td>Modified</td>\n",
       "    </tr>\n",
       "    <tr>\n",
       "      <th>1</th>\n",
       "      <td>API</td>\n",
       "      <td>Organic Search</td>\n",
       "      <td>0</td>\n",
       "      <td>0</td>\n",
       "      <td>5.0</td>\n",
       "      <td>674</td>\n",
       "      <td>2.5</td>\n",
       "      <td>Email Opened</td>\n",
       "      <td>others</td>\n",
       "      <td>Unemployed</td>\n",
       "      <td>0</td>\n",
       "      <td>Email Opened</td>\n",
       "    </tr>\n",
       "    <tr>\n",
       "      <th>2</th>\n",
       "      <td>Landing Page Submission</td>\n",
       "      <td>Direct Traffic</td>\n",
       "      <td>0</td>\n",
       "      <td>1</td>\n",
       "      <td>2.0</td>\n",
       "      <td>1532</td>\n",
       "      <td>2.0</td>\n",
       "      <td>Email Opened</td>\n",
       "      <td>Business Administration</td>\n",
       "      <td>Student</td>\n",
       "      <td>1</td>\n",
       "      <td>Email Opened</td>\n",
       "    </tr>\n",
       "    <tr>\n",
       "      <th>3</th>\n",
       "      <td>Landing Page Submission</td>\n",
       "      <td>Direct Traffic</td>\n",
       "      <td>0</td>\n",
       "      <td>0</td>\n",
       "      <td>1.0</td>\n",
       "      <td>305</td>\n",
       "      <td>1.0</td>\n",
       "      <td>Others</td>\n",
       "      <td>Media and Advertising</td>\n",
       "      <td>Unemployed</td>\n",
       "      <td>0</td>\n",
       "      <td>Modified</td>\n",
       "    </tr>\n",
       "    <tr>\n",
       "      <th>4</th>\n",
       "      <td>Landing Page Submission</td>\n",
       "      <td>Google</td>\n",
       "      <td>0</td>\n",
       "      <td>1</td>\n",
       "      <td>2.0</td>\n",
       "      <td>1428</td>\n",
       "      <td>1.0</td>\n",
       "      <td>Converted to Lead</td>\n",
       "      <td>others</td>\n",
       "      <td>Unemployed</td>\n",
       "      <td>0</td>\n",
       "      <td>Modified</td>\n",
       "    </tr>\n",
       "  </tbody>\n",
       "</table>\n",
       "</div>"
      ],
      "text/plain": [
       "               Lead Origin     Lead Source  Do Not Email  Converted  \\\n",
       "0                      API      Olark Chat             0          0   \n",
       "1                      API  Organic Search             0          0   \n",
       "2  Landing Page Submission  Direct Traffic             0          1   \n",
       "3  Landing Page Submission  Direct Traffic             0          0   \n",
       "4  Landing Page Submission          Google             0          1   \n",
       "\n",
       "   TotalVisits  Total Time Spent on Website  Page Views Per Visit  \\\n",
       "0          0.0                            0                   0.0   \n",
       "1          5.0                          674                   2.5   \n",
       "2          2.0                         1532                   2.0   \n",
       "3          1.0                          305                   1.0   \n",
       "4          2.0                         1428                   1.0   \n",
       "\n",
       "             Last Activity           Specialization  \\\n",
       "0  Page Visited on Website                   others   \n",
       "1             Email Opened                   others   \n",
       "2             Email Opened  Business Administration   \n",
       "3                   Others    Media and Advertising   \n",
       "4        Converted to Lead                   others   \n",
       "\n",
       "  What is your current occupation  A free copy of Mastering The Interview  \\\n",
       "0                      Unemployed                                       0   \n",
       "1                      Unemployed                                       0   \n",
       "2                         Student                                       1   \n",
       "3                      Unemployed                                       0   \n",
       "4                      Unemployed                                       0   \n",
       "\n",
       "  Last Notable Activity  \n",
       "0              Modified  \n",
       "1          Email Opened  \n",
       "2          Email Opened  \n",
       "3              Modified  \n",
       "4              Modified  "
      ]
     },
     "execution_count": 509,
     "metadata": {},
     "output_type": "execute_result"
    }
   ],
   "source": [
    "df.head()"
   ]
  },
  {
   "cell_type": "code",
   "execution_count": null,
   "id": "d796e26b",
   "metadata": {},
   "outputs": [],
   "source": []
  },
  {
   "cell_type": "code",
   "execution_count": 510,
   "id": "ebde20fb",
   "metadata": {},
   "outputs": [],
   "source": [
    "#getting dummies and dropping the first column and adding the results to the master dataframe\n",
    "dummy = pd.get_dummies(df[['Lead Origin', 'Lead Source', 'Do Not Email', 'Last Activity',\n",
    "       'Specialization', 'What is your current occupation',\n",
    "       'A free copy of Mastering The Interview', 'Last Notable Activity']], drop_first=True)\n",
    "\n",
    "df = pd.concat([df,dummy],1)"
   ]
  },
  {
   "cell_type": "code",
   "execution_count": 511,
   "id": "ca54a280",
   "metadata": {},
   "outputs": [
    {
     "data": {
      "text/plain": [
       "(9103, 63)"
      ]
     },
     "execution_count": 511,
     "metadata": {},
     "output_type": "execute_result"
    }
   ],
   "source": [
    "df.shape"
   ]
  },
  {
   "cell_type": "code",
   "execution_count": 512,
   "id": "ee5fc1be",
   "metadata": {},
   "outputs": [
    {
     "data": {
      "text/html": [
       "<div>\n",
       "<style scoped>\n",
       "    .dataframe tbody tr th:only-of-type {\n",
       "        vertical-align: middle;\n",
       "    }\n",
       "\n",
       "    .dataframe tbody tr th {\n",
       "        vertical-align: top;\n",
       "    }\n",
       "\n",
       "    .dataframe thead th {\n",
       "        text-align: right;\n",
       "    }\n",
       "</style>\n",
       "<table border=\"1\" class=\"dataframe\">\n",
       "  <thead>\n",
       "    <tr style=\"text-align: right;\">\n",
       "      <th></th>\n",
       "      <th>Lead Origin</th>\n",
       "      <th>Lead Source</th>\n",
       "      <th>Do Not Email</th>\n",
       "      <th>Converted</th>\n",
       "      <th>TotalVisits</th>\n",
       "      <th>Total Time Spent on Website</th>\n",
       "      <th>Page Views Per Visit</th>\n",
       "      <th>Last Activity</th>\n",
       "      <th>Specialization</th>\n",
       "      <th>What is your current occupation</th>\n",
       "      <th>...</th>\n",
       "      <th>What is your current occupation_Other</th>\n",
       "      <th>What is your current occupation_Student</th>\n",
       "      <th>What is your current occupation_Unemployed</th>\n",
       "      <th>What is your current occupation_Working Professional</th>\n",
       "      <th>Last Notable Activity_Email Opened</th>\n",
       "      <th>Last Notable Activity_Modified</th>\n",
       "      <th>Last Notable Activity_Olark Chat Conversation</th>\n",
       "      <th>Last Notable Activity_Others</th>\n",
       "      <th>Last Notable Activity_Page Visited on Website</th>\n",
       "      <th>Last Notable Activity_SMS Sent</th>\n",
       "    </tr>\n",
       "  </thead>\n",
       "  <tbody>\n",
       "    <tr>\n",
       "      <th>0</th>\n",
       "      <td>API</td>\n",
       "      <td>Olark Chat</td>\n",
       "      <td>0</td>\n",
       "      <td>0</td>\n",
       "      <td>0.0</td>\n",
       "      <td>0</td>\n",
       "      <td>0.0</td>\n",
       "      <td>Page Visited on Website</td>\n",
       "      <td>others</td>\n",
       "      <td>Unemployed</td>\n",
       "      <td>...</td>\n",
       "      <td>0</td>\n",
       "      <td>0</td>\n",
       "      <td>1</td>\n",
       "      <td>0</td>\n",
       "      <td>0</td>\n",
       "      <td>1</td>\n",
       "      <td>0</td>\n",
       "      <td>0</td>\n",
       "      <td>0</td>\n",
       "      <td>0</td>\n",
       "    </tr>\n",
       "    <tr>\n",
       "      <th>1</th>\n",
       "      <td>API</td>\n",
       "      <td>Organic Search</td>\n",
       "      <td>0</td>\n",
       "      <td>0</td>\n",
       "      <td>5.0</td>\n",
       "      <td>674</td>\n",
       "      <td>2.5</td>\n",
       "      <td>Email Opened</td>\n",
       "      <td>others</td>\n",
       "      <td>Unemployed</td>\n",
       "      <td>...</td>\n",
       "      <td>0</td>\n",
       "      <td>0</td>\n",
       "      <td>1</td>\n",
       "      <td>0</td>\n",
       "      <td>1</td>\n",
       "      <td>0</td>\n",
       "      <td>0</td>\n",
       "      <td>0</td>\n",
       "      <td>0</td>\n",
       "      <td>0</td>\n",
       "    </tr>\n",
       "    <tr>\n",
       "      <th>2</th>\n",
       "      <td>Landing Page Submission</td>\n",
       "      <td>Direct Traffic</td>\n",
       "      <td>0</td>\n",
       "      <td>1</td>\n",
       "      <td>2.0</td>\n",
       "      <td>1532</td>\n",
       "      <td>2.0</td>\n",
       "      <td>Email Opened</td>\n",
       "      <td>Business Administration</td>\n",
       "      <td>Student</td>\n",
       "      <td>...</td>\n",
       "      <td>0</td>\n",
       "      <td>1</td>\n",
       "      <td>0</td>\n",
       "      <td>0</td>\n",
       "      <td>1</td>\n",
       "      <td>0</td>\n",
       "      <td>0</td>\n",
       "      <td>0</td>\n",
       "      <td>0</td>\n",
       "      <td>0</td>\n",
       "    </tr>\n",
       "    <tr>\n",
       "      <th>3</th>\n",
       "      <td>Landing Page Submission</td>\n",
       "      <td>Direct Traffic</td>\n",
       "      <td>0</td>\n",
       "      <td>0</td>\n",
       "      <td>1.0</td>\n",
       "      <td>305</td>\n",
       "      <td>1.0</td>\n",
       "      <td>Others</td>\n",
       "      <td>Media and Advertising</td>\n",
       "      <td>Unemployed</td>\n",
       "      <td>...</td>\n",
       "      <td>0</td>\n",
       "      <td>0</td>\n",
       "      <td>1</td>\n",
       "      <td>0</td>\n",
       "      <td>0</td>\n",
       "      <td>1</td>\n",
       "      <td>0</td>\n",
       "      <td>0</td>\n",
       "      <td>0</td>\n",
       "      <td>0</td>\n",
       "    </tr>\n",
       "    <tr>\n",
       "      <th>4</th>\n",
       "      <td>Landing Page Submission</td>\n",
       "      <td>Google</td>\n",
       "      <td>0</td>\n",
       "      <td>1</td>\n",
       "      <td>2.0</td>\n",
       "      <td>1428</td>\n",
       "      <td>1.0</td>\n",
       "      <td>Converted to Lead</td>\n",
       "      <td>others</td>\n",
       "      <td>Unemployed</td>\n",
       "      <td>...</td>\n",
       "      <td>0</td>\n",
       "      <td>0</td>\n",
       "      <td>1</td>\n",
       "      <td>0</td>\n",
       "      <td>0</td>\n",
       "      <td>1</td>\n",
       "      <td>0</td>\n",
       "      <td>0</td>\n",
       "      <td>0</td>\n",
       "      <td>0</td>\n",
       "    </tr>\n",
       "  </tbody>\n",
       "</table>\n",
       "<p>5 rows × 63 columns</p>\n",
       "</div>"
      ],
      "text/plain": [
       "               Lead Origin     Lead Source  Do Not Email  Converted  \\\n",
       "0                      API      Olark Chat             0          0   \n",
       "1                      API  Organic Search             0          0   \n",
       "2  Landing Page Submission  Direct Traffic             0          1   \n",
       "3  Landing Page Submission  Direct Traffic             0          0   \n",
       "4  Landing Page Submission          Google             0          1   \n",
       "\n",
       "   TotalVisits  Total Time Spent on Website  Page Views Per Visit  \\\n",
       "0          0.0                            0                   0.0   \n",
       "1          5.0                          674                   2.5   \n",
       "2          2.0                         1532                   2.0   \n",
       "3          1.0                          305                   1.0   \n",
       "4          2.0                         1428                   1.0   \n",
       "\n",
       "             Last Activity           Specialization  \\\n",
       "0  Page Visited on Website                   others   \n",
       "1             Email Opened                   others   \n",
       "2             Email Opened  Business Administration   \n",
       "3                   Others    Media and Advertising   \n",
       "4        Converted to Lead                   others   \n",
       "\n",
       "  What is your current occupation  ...  What is your current occupation_Other  \\\n",
       "0                      Unemployed  ...                                      0   \n",
       "1                      Unemployed  ...                                      0   \n",
       "2                         Student  ...                                      0   \n",
       "3                      Unemployed  ...                                      0   \n",
       "4                      Unemployed  ...                                      0   \n",
       "\n",
       "  What is your current occupation_Student  \\\n",
       "0                                       0   \n",
       "1                                       0   \n",
       "2                                       1   \n",
       "3                                       0   \n",
       "4                                       0   \n",
       "\n",
       "   What is your current occupation_Unemployed  \\\n",
       "0                                           1   \n",
       "1                                           1   \n",
       "2                                           0   \n",
       "3                                           1   \n",
       "4                                           1   \n",
       "\n",
       "   What is your current occupation_Working Professional  \\\n",
       "0                                                  0      \n",
       "1                                                  0      \n",
       "2                                                  0      \n",
       "3                                                  0      \n",
       "4                                                  0      \n",
       "\n",
       "   Last Notable Activity_Email Opened  Last Notable Activity_Modified  \\\n",
       "0                                   0                               1   \n",
       "1                                   1                               0   \n",
       "2                                   1                               0   \n",
       "3                                   0                               1   \n",
       "4                                   0                               1   \n",
       "\n",
       "   Last Notable Activity_Olark Chat Conversation  \\\n",
       "0                                              0   \n",
       "1                                              0   \n",
       "2                                              0   \n",
       "3                                              0   \n",
       "4                                              0   \n",
       "\n",
       "   Last Notable Activity_Others  \\\n",
       "0                             0   \n",
       "1                             0   \n",
       "2                             0   \n",
       "3                             0   \n",
       "4                             0   \n",
       "\n",
       "   Last Notable Activity_Page Visited on Website  \\\n",
       "0                                              0   \n",
       "1                                              0   \n",
       "2                                              0   \n",
       "3                                              0   \n",
       "4                                              0   \n",
       "\n",
       "   Last Notable Activity_SMS Sent  \n",
       "0                               0  \n",
       "1                               0  \n",
       "2                               0  \n",
       "3                               0  \n",
       "4                               0  \n",
       "\n",
       "[5 rows x 63 columns]"
      ]
     },
     "execution_count": 512,
     "metadata": {},
     "output_type": "execute_result"
    }
   ],
   "source": [
    "df.head()"
   ]
  },
  {
   "cell_type": "code",
   "execution_count": 513,
   "id": "7fa9b654",
   "metadata": {},
   "outputs": [],
   "source": [
    "#dropping the original columns after dummy variable creation\n",
    "\n",
    "df.drop(cat_cols,axis = 1,inplace = True)"
   ]
  },
  {
   "cell_type": "code",
   "execution_count": 514,
   "id": "29d86b60",
   "metadata": {},
   "outputs": [
    {
     "name": "stdout",
     "output_type": "stream",
     "text": [
      "<class 'pandas.core.frame.DataFrame'>\n",
      "Int64Index: 9103 entries, 0 to 9239\n",
      "Data columns (total 53 columns):\n",
      " #   Column                                                Non-Null Count  Dtype  \n",
      "---  ------                                                --------------  -----  \n",
      " 0   Converted                                             9103 non-null   int64  \n",
      " 1   TotalVisits                                           9103 non-null   float64\n",
      " 2   Total Time Spent on Website                           9103 non-null   int64  \n",
      " 3   Page Views Per Visit                                  9103 non-null   float64\n",
      " 4   Lead Origin_Landing Page Submission                   9103 non-null   uint8  \n",
      " 5   Lead Origin_Lead Add Form                             9103 non-null   uint8  \n",
      " 6   Lead Origin_Lead Import                               9103 non-null   uint8  \n",
      " 7   Lead Source_Facebook                                  9103 non-null   uint8  \n",
      " 8   Lead Source_Google                                    9103 non-null   uint8  \n",
      " 9   Lead Source_Olark Chat                                9103 non-null   uint8  \n",
      " 10  Lead Source_Organic Search                            9103 non-null   uint8  \n",
      " 11  Lead Source_Others                                    9103 non-null   uint8  \n",
      " 12  Lead Source_Reference                                 9103 non-null   uint8  \n",
      " 13  Lead Source_Referral Sites                            9103 non-null   uint8  \n",
      " 14  Lead Source_Welingak Website                          9103 non-null   uint8  \n",
      " 15  Last Activity_Email Bounced                           9103 non-null   uint8  \n",
      " 16  Last Activity_Email Link Clicked                      9103 non-null   uint8  \n",
      " 17  Last Activity_Email Opened                            9103 non-null   uint8  \n",
      " 18  Last Activity_Form Submitted on Website               9103 non-null   uint8  \n",
      " 19  Last Activity_Olark Chat Conversation                 9103 non-null   uint8  \n",
      " 20  Last Activity_Others                                  9103 non-null   uint8  \n",
      " 21  Last Activity_Page Visited on Website                 9103 non-null   uint8  \n",
      " 22  Last Activity_SMS Sent                                9103 non-null   uint8  \n",
      " 23  Specialization_Business Administration                9103 non-null   uint8  \n",
      " 24  Specialization_E-Business                             9103 non-null   uint8  \n",
      " 25  Specialization_E-COMMERCE                             9103 non-null   uint8  \n",
      " 26  Specialization_Finance Management                     9103 non-null   uint8  \n",
      " 27  Specialization_Healthcare Management                  9103 non-null   uint8  \n",
      " 28  Specialization_Hospitality Management                 9103 non-null   uint8  \n",
      " 29  Specialization_Human Resource Management              9103 non-null   uint8  \n",
      " 30  Specialization_IT Projects Management                 9103 non-null   uint8  \n",
      " 31  Specialization_International Business                 9103 non-null   uint8  \n",
      " 32  Specialization_Marketing Management                   9103 non-null   uint8  \n",
      " 33  Specialization_Media and Advertising                  9103 non-null   uint8  \n",
      " 34  Specialization_Operations Management                  9103 non-null   uint8  \n",
      " 35  Specialization_Retail Management                      9103 non-null   uint8  \n",
      " 36  Specialization_Rural and Agribusiness                 9103 non-null   uint8  \n",
      " 37  Specialization_Services Excellence                    9103 non-null   uint8  \n",
      " 38  Specialization_Supply Chain Management                9103 non-null   uint8  \n",
      " 39  Specialization_Travel and Tourism                     9103 non-null   uint8  \n",
      " 40  Specialization_others                                 9103 non-null   uint8  \n",
      " 41  What is your current occupation_Housewife             9103 non-null   uint8  \n",
      " 42  What is your current occupation_Not provided          9103 non-null   uint8  \n",
      " 43  What is your current occupation_Other                 9103 non-null   uint8  \n",
      " 44  What is your current occupation_Student               9103 non-null   uint8  \n",
      " 45  What is your current occupation_Unemployed            9103 non-null   uint8  \n",
      " 46  What is your current occupation_Working Professional  9103 non-null   uint8  \n",
      " 47  Last Notable Activity_Email Opened                    9103 non-null   uint8  \n",
      " 48  Last Notable Activity_Modified                        9103 non-null   uint8  \n",
      " 49  Last Notable Activity_Olark Chat Conversation         9103 non-null   uint8  \n",
      " 50  Last Notable Activity_Others                          9103 non-null   uint8  \n",
      " 51  Last Notable Activity_Page Visited on Website         9103 non-null   uint8  \n",
      " 52  Last Notable Activity_SMS Sent                        9103 non-null   uint8  \n",
      "dtypes: float64(2), int64(2), uint8(49)\n",
      "memory usage: 1.0 MB\n"
     ]
    }
   ],
   "source": [
    "df.info()"
   ]
  },
  {
   "cell_type": "code",
   "execution_count": 515,
   "id": "6ffabaf8",
   "metadata": {
    "scrolled": true
   },
   "outputs": [
    {
     "data": {
      "text/html": [
       "<div>\n",
       "<style scoped>\n",
       "    .dataframe tbody tr th:only-of-type {\n",
       "        vertical-align: middle;\n",
       "    }\n",
       "\n",
       "    .dataframe tbody tr th {\n",
       "        vertical-align: top;\n",
       "    }\n",
       "\n",
       "    .dataframe thead th {\n",
       "        text-align: right;\n",
       "    }\n",
       "</style>\n",
       "<table border=\"1\" class=\"dataframe\">\n",
       "  <thead>\n",
       "    <tr style=\"text-align: right;\">\n",
       "      <th></th>\n",
       "      <th>Converted</th>\n",
       "      <th>TotalVisits</th>\n",
       "      <th>Total Time Spent on Website</th>\n",
       "      <th>Page Views Per Visit</th>\n",
       "      <th>Lead Origin_Landing Page Submission</th>\n",
       "      <th>Lead Origin_Lead Add Form</th>\n",
       "      <th>Lead Origin_Lead Import</th>\n",
       "      <th>Lead Source_Facebook</th>\n",
       "      <th>Lead Source_Google</th>\n",
       "      <th>Lead Source_Olark Chat</th>\n",
       "      <th>...</th>\n",
       "      <th>What is your current occupation_Other</th>\n",
       "      <th>What is your current occupation_Student</th>\n",
       "      <th>What is your current occupation_Unemployed</th>\n",
       "      <th>What is your current occupation_Working Professional</th>\n",
       "      <th>Last Notable Activity_Email Opened</th>\n",
       "      <th>Last Notable Activity_Modified</th>\n",
       "      <th>Last Notable Activity_Olark Chat Conversation</th>\n",
       "      <th>Last Notable Activity_Others</th>\n",
       "      <th>Last Notable Activity_Page Visited on Website</th>\n",
       "      <th>Last Notable Activity_SMS Sent</th>\n",
       "    </tr>\n",
       "  </thead>\n",
       "  <tbody>\n",
       "    <tr>\n",
       "      <th>0</th>\n",
       "      <td>0</td>\n",
       "      <td>0.0</td>\n",
       "      <td>0</td>\n",
       "      <td>0.0</td>\n",
       "      <td>0</td>\n",
       "      <td>0</td>\n",
       "      <td>0</td>\n",
       "      <td>0</td>\n",
       "      <td>0</td>\n",
       "      <td>1</td>\n",
       "      <td>...</td>\n",
       "      <td>0</td>\n",
       "      <td>0</td>\n",
       "      <td>1</td>\n",
       "      <td>0</td>\n",
       "      <td>0</td>\n",
       "      <td>1</td>\n",
       "      <td>0</td>\n",
       "      <td>0</td>\n",
       "      <td>0</td>\n",
       "      <td>0</td>\n",
       "    </tr>\n",
       "    <tr>\n",
       "      <th>1</th>\n",
       "      <td>0</td>\n",
       "      <td>5.0</td>\n",
       "      <td>674</td>\n",
       "      <td>2.5</td>\n",
       "      <td>0</td>\n",
       "      <td>0</td>\n",
       "      <td>0</td>\n",
       "      <td>0</td>\n",
       "      <td>0</td>\n",
       "      <td>0</td>\n",
       "      <td>...</td>\n",
       "      <td>0</td>\n",
       "      <td>0</td>\n",
       "      <td>1</td>\n",
       "      <td>0</td>\n",
       "      <td>1</td>\n",
       "      <td>0</td>\n",
       "      <td>0</td>\n",
       "      <td>0</td>\n",
       "      <td>0</td>\n",
       "      <td>0</td>\n",
       "    </tr>\n",
       "    <tr>\n",
       "      <th>2</th>\n",
       "      <td>1</td>\n",
       "      <td>2.0</td>\n",
       "      <td>1532</td>\n",
       "      <td>2.0</td>\n",
       "      <td>1</td>\n",
       "      <td>0</td>\n",
       "      <td>0</td>\n",
       "      <td>0</td>\n",
       "      <td>0</td>\n",
       "      <td>0</td>\n",
       "      <td>...</td>\n",
       "      <td>0</td>\n",
       "      <td>1</td>\n",
       "      <td>0</td>\n",
       "      <td>0</td>\n",
       "      <td>1</td>\n",
       "      <td>0</td>\n",
       "      <td>0</td>\n",
       "      <td>0</td>\n",
       "      <td>0</td>\n",
       "      <td>0</td>\n",
       "    </tr>\n",
       "    <tr>\n",
       "      <th>3</th>\n",
       "      <td>0</td>\n",
       "      <td>1.0</td>\n",
       "      <td>305</td>\n",
       "      <td>1.0</td>\n",
       "      <td>1</td>\n",
       "      <td>0</td>\n",
       "      <td>0</td>\n",
       "      <td>0</td>\n",
       "      <td>0</td>\n",
       "      <td>0</td>\n",
       "      <td>...</td>\n",
       "      <td>0</td>\n",
       "      <td>0</td>\n",
       "      <td>1</td>\n",
       "      <td>0</td>\n",
       "      <td>0</td>\n",
       "      <td>1</td>\n",
       "      <td>0</td>\n",
       "      <td>0</td>\n",
       "      <td>0</td>\n",
       "      <td>0</td>\n",
       "    </tr>\n",
       "    <tr>\n",
       "      <th>4</th>\n",
       "      <td>1</td>\n",
       "      <td>2.0</td>\n",
       "      <td>1428</td>\n",
       "      <td>1.0</td>\n",
       "      <td>1</td>\n",
       "      <td>0</td>\n",
       "      <td>0</td>\n",
       "      <td>0</td>\n",
       "      <td>1</td>\n",
       "      <td>0</td>\n",
       "      <td>...</td>\n",
       "      <td>0</td>\n",
       "      <td>0</td>\n",
       "      <td>1</td>\n",
       "      <td>0</td>\n",
       "      <td>0</td>\n",
       "      <td>1</td>\n",
       "      <td>0</td>\n",
       "      <td>0</td>\n",
       "      <td>0</td>\n",
       "      <td>0</td>\n",
       "    </tr>\n",
       "  </tbody>\n",
       "</table>\n",
       "<p>5 rows × 53 columns</p>\n",
       "</div>"
      ],
      "text/plain": [
       "   Converted  TotalVisits  Total Time Spent on Website  Page Views Per Visit  \\\n",
       "0          0          0.0                            0                   0.0   \n",
       "1          0          5.0                          674                   2.5   \n",
       "2          1          2.0                         1532                   2.0   \n",
       "3          0          1.0                          305                   1.0   \n",
       "4          1          2.0                         1428                   1.0   \n",
       "\n",
       "   Lead Origin_Landing Page Submission  Lead Origin_Lead Add Form  \\\n",
       "0                                    0                          0   \n",
       "1                                    0                          0   \n",
       "2                                    1                          0   \n",
       "3                                    1                          0   \n",
       "4                                    1                          0   \n",
       "\n",
       "   Lead Origin_Lead Import  Lead Source_Facebook  Lead Source_Google  \\\n",
       "0                        0                     0                   0   \n",
       "1                        0                     0                   0   \n",
       "2                        0                     0                   0   \n",
       "3                        0                     0                   0   \n",
       "4                        0                     0                   1   \n",
       "\n",
       "   Lead Source_Olark Chat  ...  What is your current occupation_Other  \\\n",
       "0                       1  ...                                      0   \n",
       "1                       0  ...                                      0   \n",
       "2                       0  ...                                      0   \n",
       "3                       0  ...                                      0   \n",
       "4                       0  ...                                      0   \n",
       "\n",
       "   What is your current occupation_Student  \\\n",
       "0                                        0   \n",
       "1                                        0   \n",
       "2                                        1   \n",
       "3                                        0   \n",
       "4                                        0   \n",
       "\n",
       "   What is your current occupation_Unemployed  \\\n",
       "0                                           1   \n",
       "1                                           1   \n",
       "2                                           0   \n",
       "3                                           1   \n",
       "4                                           1   \n",
       "\n",
       "   What is your current occupation_Working Professional  \\\n",
       "0                                                  0      \n",
       "1                                                  0      \n",
       "2                                                  0      \n",
       "3                                                  0      \n",
       "4                                                  0      \n",
       "\n",
       "   Last Notable Activity_Email Opened  Last Notable Activity_Modified  \\\n",
       "0                                   0                               1   \n",
       "1                                   1                               0   \n",
       "2                                   1                               0   \n",
       "3                                   0                               1   \n",
       "4                                   0                               1   \n",
       "\n",
       "   Last Notable Activity_Olark Chat Conversation  \\\n",
       "0                                              0   \n",
       "1                                              0   \n",
       "2                                              0   \n",
       "3                                              0   \n",
       "4                                              0   \n",
       "\n",
       "   Last Notable Activity_Others  \\\n",
       "0                             0   \n",
       "1                             0   \n",
       "2                             0   \n",
       "3                             0   \n",
       "4                             0   \n",
       "\n",
       "   Last Notable Activity_Page Visited on Website  \\\n",
       "0                                              0   \n",
       "1                                              0   \n",
       "2                                              0   \n",
       "3                                              0   \n",
       "4                                              0   \n",
       "\n",
       "   Last Notable Activity_SMS Sent  \n",
       "0                               0  \n",
       "1                               0  \n",
       "2                               0  \n",
       "3                               0  \n",
       "4                               0  \n",
       "\n",
       "[5 rows x 53 columns]"
      ]
     },
     "execution_count": 515,
     "metadata": {},
     "output_type": "execute_result"
    }
   ],
   "source": [
    "df.head()"
   ]
  },
  {
   "cell_type": "code",
   "execution_count": 516,
   "id": "e30deb5f",
   "metadata": {},
   "outputs": [
    {
     "name": "stdout",
     "output_type": "stream",
     "text": [
      "******************************************************\n",
      "0    5642\n",
      "1    3461\n",
      "Name: Converted, dtype: int64\n",
      "******************************************************\n",
      "0     2189\n",
      "2     1680\n",
      "3     1306\n",
      "4     1120\n",
      "5      783\n",
      "10     467\n",
      "6      466\n",
      "1      395\n",
      "7      309\n",
      "8      224\n",
      "9      164\n",
      "Name: TotalVisits, dtype: int64\n",
      "******************************************************\n",
      "0      2208\n",
      "31       42\n",
      "15       41\n",
      "86       40\n",
      "74       39\n",
      "       ... \n",
      "175      15\n",
      "220      15\n",
      "218      14\n",
      "229      13\n",
      "194      13\n",
      "Name: Total Time Spent on Website, Length: 256, dtype: int64\n",
      "******************************************************\n",
      "2    2235\n",
      "0    2189\n",
      "3    1360\n",
      "1    1212\n",
      "4     956\n",
      "6     604\n",
      "5     547\n",
      "Name: Page Views Per Visit, dtype: int64\n",
      "******************************************************\n",
      "1    4886\n",
      "0    4217\n",
      "Name: Lead Origin_Landing Page Submission, dtype: int64\n",
      "******************************************************\n",
      "0    8495\n",
      "1     608\n",
      "Name: Lead Origin_Lead Add Form, dtype: int64\n",
      "******************************************************\n",
      "0    9072\n",
      "1      31\n",
      "Name: Lead Origin_Lead Import, dtype: int64\n",
      "******************************************************\n",
      "0    9072\n",
      "1      31\n",
      "Name: Lead Source_Facebook, dtype: int64\n",
      "******************************************************\n",
      "0    6201\n",
      "1    2902\n",
      "Name: Lead Source_Google, dtype: int64\n",
      "******************************************************\n",
      "0    7350\n",
      "1    1753\n",
      "Name: Lead Source_Olark Chat, dtype: int64\n",
      "******************************************************\n",
      "0    7949\n",
      "1    1154\n",
      "Name: Lead Source_Organic Search, dtype: int64\n",
      "******************************************************\n",
      "0    9080\n",
      "1      23\n",
      "Name: Lead Source_Others, dtype: int64\n",
      "******************************************************\n",
      "0    8660\n",
      "1     443\n",
      "Name: Lead Source_Reference, dtype: int64\n",
      "******************************************************\n",
      "0    8978\n",
      "1     125\n",
      "Name: Lead Source_Referral Sites, dtype: int64\n",
      "******************************************************\n",
      "0    8974\n",
      "1     129\n",
      "Name: Lead Source_Welingak Website, dtype: int64\n",
      "******************************************************\n",
      "0    8791\n",
      "1     312\n",
      "Name: Last Activity_Email Bounced, dtype: int64\n",
      "******************************************************\n",
      "0    8836\n",
      "1     267\n",
      "Name: Last Activity_Email Link Clicked, dtype: int64\n",
      "******************************************************\n",
      "0    5666\n",
      "1    3437\n",
      "Name: Last Activity_Email Opened, dtype: int64\n",
      "******************************************************\n",
      "0    8987\n",
      "1     116\n",
      "Name: Last Activity_Form Submitted on Website, dtype: int64\n",
      "******************************************************\n",
      "0    8131\n",
      "1     972\n",
      "Name: Last Activity_Olark Chat Conversation, dtype: int64\n",
      "******************************************************\n",
      "0    8910\n",
      "1     193\n",
      "Name: Last Activity_Others, dtype: int64\n",
      "******************************************************\n",
      "0    8463\n",
      "1     640\n",
      "Name: Last Activity_Page Visited on Website, dtype: int64\n",
      "******************************************************\n",
      "0    6365\n",
      "1    2738\n",
      "Name: Last Activity_SMS Sent, dtype: int64\n",
      "******************************************************\n",
      "0    8704\n",
      "1     399\n",
      "Name: Specialization_Business Administration, dtype: int64\n",
      "******************************************************\n",
      "0    9046\n",
      "1      57\n",
      "Name: Specialization_E-Business, dtype: int64\n",
      "******************************************************\n",
      "0    8992\n",
      "1     111\n",
      "Name: Specialization_E-COMMERCE, dtype: int64\n",
      "******************************************************\n",
      "0    8141\n",
      "1     962\n",
      "Name: Specialization_Finance Management, dtype: int64\n",
      "******************************************************\n",
      "0    8946\n",
      "1     157\n",
      "Name: Specialization_Healthcare Management, dtype: int64\n",
      "******************************************************\n",
      "0    8992\n",
      "1     111\n",
      "Name: Specialization_Hospitality Management, dtype: int64\n",
      "******************************************************\n",
      "0    8265\n",
      "1     838\n",
      "Name: Specialization_Human Resource Management, dtype: int64\n",
      "******************************************************\n",
      "0    8737\n",
      "1     366\n",
      "Name: Specialization_IT Projects Management, dtype: int64\n",
      "******************************************************\n",
      "0    8927\n",
      "1     176\n",
      "Name: Specialization_International Business, dtype: int64\n",
      "******************************************************\n",
      "0    8279\n",
      "1     824\n",
      "Name: Specialization_Marketing Management, dtype: int64\n",
      "******************************************************\n",
      "0    8901\n",
      "1     202\n",
      "Name: Specialization_Media and Advertising, dtype: int64\n",
      "******************************************************\n",
      "0    8603\n",
      "1     500\n",
      "Name: Specialization_Operations Management, dtype: int64\n",
      "******************************************************\n",
      "0    9003\n",
      "1     100\n",
      "Name: Specialization_Retail Management, dtype: int64\n",
      "******************************************************\n",
      "0    9030\n",
      "1      73\n",
      "Name: Specialization_Rural and Agribusiness, dtype: int64\n",
      "******************************************************\n",
      "0    9063\n",
      "1      40\n",
      "Name: Specialization_Services Excellence, dtype: int64\n",
      "******************************************************\n",
      "0    8757\n",
      "1     346\n",
      "Name: Specialization_Supply Chain Management, dtype: int64\n",
      "******************************************************\n",
      "0    8901\n",
      "1     202\n",
      "Name: Specialization_Travel and Tourism, dtype: int64\n",
      "******************************************************\n",
      "0    5799\n",
      "1    3304\n",
      "Name: Specialization_others, dtype: int64\n",
      "******************************************************\n",
      "0    9094\n",
      "1       9\n",
      "Name: What is your current occupation_Housewife, dtype: int64\n",
      "******************************************************\n",
      "0    6420\n",
      "1    2683\n",
      "Name: What is your current occupation_Not provided, dtype: int64\n",
      "******************************************************\n",
      "0    9088\n",
      "1      15\n",
      "Name: What is your current occupation_Other, dtype: int64\n",
      "******************************************************\n",
      "0    8896\n",
      "1     207\n",
      "Name: What is your current occupation_Student, dtype: int64\n",
      "******************************************************\n",
      "1    5502\n",
      "0    3601\n",
      "Name: What is your current occupation_Unemployed, dtype: int64\n",
      "******************************************************\n",
      "0    8424\n",
      "1     679\n",
      "Name: What is your current occupation_Working Professional, dtype: int64\n",
      "******************************************************\n",
      "0    6276\n",
      "1    2827\n",
      "Name: Last Notable Activity_Email Opened, dtype: int64\n",
      "******************************************************\n",
      "0    5833\n",
      "1    3270\n",
      "Name: Last Notable Activity_Modified, dtype: int64\n",
      "******************************************************\n",
      "0    8920\n",
      "1     183\n",
      "Name: Last Notable Activity_Olark Chat Conversation, dtype: int64\n",
      "******************************************************\n",
      "0    8943\n",
      "1     160\n",
      "Name: Last Notable Activity_Others, dtype: int64\n",
      "******************************************************\n",
      "0    8785\n",
      "1     318\n",
      "Name: Last Notable Activity_Page Visited on Website, dtype: int64\n",
      "******************************************************\n",
      "0    6931\n",
      "1    2172\n",
      "Name: Last Notable Activity_SMS Sent, dtype: int64\n"
     ]
    }
   ],
   "source": [
    "for col in df:\n",
    "    print('******************************************************')\n",
    "    print(df[col].astype('uint8').value_counts())"
   ]
  },
  {
   "cell_type": "markdown",
   "id": "f662d07e",
   "metadata": {},
   "source": [
    "# Model Building "
   ]
  },
  {
   "cell_type": "markdown",
   "id": "751a124a",
   "metadata": {},
   "source": [
    "#### Train-Test Split"
   ]
  },
  {
   "cell_type": "code",
   "execution_count": 517,
   "id": "06ae737d",
   "metadata": {},
   "outputs": [
    {
     "data": {
      "text/plain": [
       "0    0\n",
       "1    0\n",
       "2    1\n",
       "3    0\n",
       "4    1\n",
       "Name: Converted, dtype: int64"
      ]
     },
     "execution_count": 517,
     "metadata": {},
     "output_type": "execute_result"
    }
   ],
   "source": [
    "# Putting target variable to y\n",
    "\n",
    "X=df.drop('Converted', axis=1)\n",
    "\n",
    "y = df['Converted']\n",
    "\n",
    "y.head()"
   ]
  },
  {
   "cell_type": "code",
   "execution_count": 518,
   "id": "b66642b1",
   "metadata": {},
   "outputs": [],
   "source": [
    "# Splitting the data into train and test\n",
    "X_train, X_test, y_train, y_test = train_test_split(X, y, train_size=0.7, test_size=0.3, random_state=100)"
   ]
  },
  {
   "cell_type": "code",
   "execution_count": 519,
   "id": "a54b1e67",
   "metadata": {},
   "outputs": [
    {
     "name": "stdout",
     "output_type": "stream",
     "text": [
      "<class 'pandas.core.frame.DataFrame'>\n",
      "Int64Index: 6372 entries, 7962 to 5734\n",
      "Data columns (total 52 columns):\n",
      " #   Column                                                Non-Null Count  Dtype  \n",
      "---  ------                                                --------------  -----  \n",
      " 0   TotalVisits                                           6372 non-null   float64\n",
      " 1   Total Time Spent on Website                           6372 non-null   int64  \n",
      " 2   Page Views Per Visit                                  6372 non-null   float64\n",
      " 3   Lead Origin_Landing Page Submission                   6372 non-null   uint8  \n",
      " 4   Lead Origin_Lead Add Form                             6372 non-null   uint8  \n",
      " 5   Lead Origin_Lead Import                               6372 non-null   uint8  \n",
      " 6   Lead Source_Facebook                                  6372 non-null   uint8  \n",
      " 7   Lead Source_Google                                    6372 non-null   uint8  \n",
      " 8   Lead Source_Olark Chat                                6372 non-null   uint8  \n",
      " 9   Lead Source_Organic Search                            6372 non-null   uint8  \n",
      " 10  Lead Source_Others                                    6372 non-null   uint8  \n",
      " 11  Lead Source_Reference                                 6372 non-null   uint8  \n",
      " 12  Lead Source_Referral Sites                            6372 non-null   uint8  \n",
      " 13  Lead Source_Welingak Website                          6372 non-null   uint8  \n",
      " 14  Last Activity_Email Bounced                           6372 non-null   uint8  \n",
      " 15  Last Activity_Email Link Clicked                      6372 non-null   uint8  \n",
      " 16  Last Activity_Email Opened                            6372 non-null   uint8  \n",
      " 17  Last Activity_Form Submitted on Website               6372 non-null   uint8  \n",
      " 18  Last Activity_Olark Chat Conversation                 6372 non-null   uint8  \n",
      " 19  Last Activity_Others                                  6372 non-null   uint8  \n",
      " 20  Last Activity_Page Visited on Website                 6372 non-null   uint8  \n",
      " 21  Last Activity_SMS Sent                                6372 non-null   uint8  \n",
      " 22  Specialization_Business Administration                6372 non-null   uint8  \n",
      " 23  Specialization_E-Business                             6372 non-null   uint8  \n",
      " 24  Specialization_E-COMMERCE                             6372 non-null   uint8  \n",
      " 25  Specialization_Finance Management                     6372 non-null   uint8  \n",
      " 26  Specialization_Healthcare Management                  6372 non-null   uint8  \n",
      " 27  Specialization_Hospitality Management                 6372 non-null   uint8  \n",
      " 28  Specialization_Human Resource Management              6372 non-null   uint8  \n",
      " 29  Specialization_IT Projects Management                 6372 non-null   uint8  \n",
      " 30  Specialization_International Business                 6372 non-null   uint8  \n",
      " 31  Specialization_Marketing Management                   6372 non-null   uint8  \n",
      " 32  Specialization_Media and Advertising                  6372 non-null   uint8  \n",
      " 33  Specialization_Operations Management                  6372 non-null   uint8  \n",
      " 34  Specialization_Retail Management                      6372 non-null   uint8  \n",
      " 35  Specialization_Rural and Agribusiness                 6372 non-null   uint8  \n",
      " 36  Specialization_Services Excellence                    6372 non-null   uint8  \n",
      " 37  Specialization_Supply Chain Management                6372 non-null   uint8  \n",
      " 38  Specialization_Travel and Tourism                     6372 non-null   uint8  \n",
      " 39  Specialization_others                                 6372 non-null   uint8  \n",
      " 40  What is your current occupation_Housewife             6372 non-null   uint8  \n",
      " 41  What is your current occupation_Not provided          6372 non-null   uint8  \n",
      " 42  What is your current occupation_Other                 6372 non-null   uint8  \n",
      " 43  What is your current occupation_Student               6372 non-null   uint8  \n",
      " 44  What is your current occupation_Unemployed            6372 non-null   uint8  \n",
      " 45  What is your current occupation_Working Professional  6372 non-null   uint8  \n",
      " 46  Last Notable Activity_Email Opened                    6372 non-null   uint8  \n",
      " 47  Last Notable Activity_Modified                        6372 non-null   uint8  \n",
      " 48  Last Notable Activity_Olark Chat Conversation         6372 non-null   uint8  \n",
      " 49  Last Notable Activity_Others                          6372 non-null   uint8  \n",
      " 50  Last Notable Activity_Page Visited on Website         6372 non-null   uint8  \n",
      " 51  Last Notable Activity_SMS Sent                        6372 non-null   uint8  \n",
      "dtypes: float64(2), int64(1), uint8(49)\n",
      "memory usage: 504.0 KB\n"
     ]
    }
   ],
   "source": [
    "X_train.info()"
   ]
  },
  {
   "cell_type": "markdown",
   "id": "39d8a2cf",
   "metadata": {},
   "source": [
    "#### Scaling of Data"
   ]
  },
  {
   "cell_type": "code",
   "execution_count": 520,
   "id": "43adfdc9",
   "metadata": {},
   "outputs": [
    {
     "data": {
      "text/html": [
       "<div>\n",
       "<style scoped>\n",
       "    .dataframe tbody tr th:only-of-type {\n",
       "        vertical-align: middle;\n",
       "    }\n",
       "\n",
       "    .dataframe tbody tr th {\n",
       "        vertical-align: top;\n",
       "    }\n",
       "\n",
       "    .dataframe thead th {\n",
       "        text-align: right;\n",
       "    }\n",
       "</style>\n",
       "<table border=\"1\" class=\"dataframe\">\n",
       "  <thead>\n",
       "    <tr style=\"text-align: right;\">\n",
       "      <th></th>\n",
       "      <th>TotalVisits</th>\n",
       "      <th>Total Time Spent on Website</th>\n",
       "      <th>Page Views Per Visit</th>\n",
       "      <th>Lead Origin_Landing Page Submission</th>\n",
       "      <th>Lead Origin_Lead Add Form</th>\n",
       "      <th>Lead Origin_Lead Import</th>\n",
       "      <th>Lead Source_Facebook</th>\n",
       "      <th>Lead Source_Google</th>\n",
       "      <th>Lead Source_Olark Chat</th>\n",
       "      <th>Lead Source_Organic Search</th>\n",
       "      <th>...</th>\n",
       "      <th>What is your current occupation_Other</th>\n",
       "      <th>What is your current occupation_Student</th>\n",
       "      <th>What is your current occupation_Unemployed</th>\n",
       "      <th>What is your current occupation_Working Professional</th>\n",
       "      <th>Last Notable Activity_Email Opened</th>\n",
       "      <th>Last Notable Activity_Modified</th>\n",
       "      <th>Last Notable Activity_Olark Chat Conversation</th>\n",
       "      <th>Last Notable Activity_Others</th>\n",
       "      <th>Last Notable Activity_Page Visited on Website</th>\n",
       "      <th>Last Notable Activity_SMS Sent</th>\n",
       "    </tr>\n",
       "  </thead>\n",
       "  <tbody>\n",
       "    <tr>\n",
       "      <th>7962</th>\n",
       "      <td>-0.068258</td>\n",
       "      <td>1.476324</td>\n",
       "      <td>-0.423364</td>\n",
       "      <td>1</td>\n",
       "      <td>0</td>\n",
       "      <td>0</td>\n",
       "      <td>0</td>\n",
       "      <td>1</td>\n",
       "      <td>0</td>\n",
       "      <td>0</td>\n",
       "      <td>...</td>\n",
       "      <td>0</td>\n",
       "      <td>0</td>\n",
       "      <td>1</td>\n",
       "      <td>0</td>\n",
       "      <td>0</td>\n",
       "      <td>0</td>\n",
       "      <td>0</td>\n",
       "      <td>0</td>\n",
       "      <td>0</td>\n",
       "      <td>1</td>\n",
       "    </tr>\n",
       "    <tr>\n",
       "      <th>5520</th>\n",
       "      <td>1.362470</td>\n",
       "      <td>-0.771066</td>\n",
       "      <td>2.083179</td>\n",
       "      <td>1</td>\n",
       "      <td>0</td>\n",
       "      <td>0</td>\n",
       "      <td>0</td>\n",
       "      <td>0</td>\n",
       "      <td>0</td>\n",
       "      <td>0</td>\n",
       "      <td>...</td>\n",
       "      <td>0</td>\n",
       "      <td>0</td>\n",
       "      <td>1</td>\n",
       "      <td>0</td>\n",
       "      <td>1</td>\n",
       "      <td>0</td>\n",
       "      <td>0</td>\n",
       "      <td>0</td>\n",
       "      <td>0</td>\n",
       "      <td>0</td>\n",
       "    </tr>\n",
       "    <tr>\n",
       "      <th>1962</th>\n",
       "      <td>0.647106</td>\n",
       "      <td>-0.571257</td>\n",
       "      <td>0.133646</td>\n",
       "      <td>1</td>\n",
       "      <td>0</td>\n",
       "      <td>0</td>\n",
       "      <td>0</td>\n",
       "      <td>1</td>\n",
       "      <td>0</td>\n",
       "      <td>0</td>\n",
       "      <td>...</td>\n",
       "      <td>0</td>\n",
       "      <td>0</td>\n",
       "      <td>1</td>\n",
       "      <td>0</td>\n",
       "      <td>0</td>\n",
       "      <td>1</td>\n",
       "      <td>0</td>\n",
       "      <td>0</td>\n",
       "      <td>0</td>\n",
       "      <td>0</td>\n",
       "    </tr>\n",
       "    <tr>\n",
       "      <th>1566</th>\n",
       "      <td>2.435517</td>\n",
       "      <td>1.393834</td>\n",
       "      <td>0.690655</td>\n",
       "      <td>1</td>\n",
       "      <td>0</td>\n",
       "      <td>0</td>\n",
       "      <td>0</td>\n",
       "      <td>1</td>\n",
       "      <td>0</td>\n",
       "      <td>0</td>\n",
       "      <td>...</td>\n",
       "      <td>0</td>\n",
       "      <td>0</td>\n",
       "      <td>0</td>\n",
       "      <td>1</td>\n",
       "      <td>1</td>\n",
       "      <td>0</td>\n",
       "      <td>0</td>\n",
       "      <td>0</td>\n",
       "      <td>0</td>\n",
       "      <td>0</td>\n",
       "    </tr>\n",
       "    <tr>\n",
       "      <th>9170</th>\n",
       "      <td>-1.141305</td>\n",
       "      <td>-0.881052</td>\n",
       "      <td>-1.258878</td>\n",
       "      <td>0</td>\n",
       "      <td>0</td>\n",
       "      <td>0</td>\n",
       "      <td>0</td>\n",
       "      <td>0</td>\n",
       "      <td>1</td>\n",
       "      <td>0</td>\n",
       "      <td>...</td>\n",
       "      <td>0</td>\n",
       "      <td>0</td>\n",
       "      <td>1</td>\n",
       "      <td>0</td>\n",
       "      <td>1</td>\n",
       "      <td>0</td>\n",
       "      <td>0</td>\n",
       "      <td>0</td>\n",
       "      <td>0</td>\n",
       "      <td>0</td>\n",
       "    </tr>\n",
       "  </tbody>\n",
       "</table>\n",
       "<p>5 rows × 52 columns</p>\n",
       "</div>"
      ],
      "text/plain": [
       "      TotalVisits  Total Time Spent on Website  Page Views Per Visit  \\\n",
       "7962    -0.068258                     1.476324             -0.423364   \n",
       "5520     1.362470                    -0.771066              2.083179   \n",
       "1962     0.647106                    -0.571257              0.133646   \n",
       "1566     2.435517                     1.393834              0.690655   \n",
       "9170    -1.141305                    -0.881052             -1.258878   \n",
       "\n",
       "      Lead Origin_Landing Page Submission  Lead Origin_Lead Add Form  \\\n",
       "7962                                    1                          0   \n",
       "5520                                    1                          0   \n",
       "1962                                    1                          0   \n",
       "1566                                    1                          0   \n",
       "9170                                    0                          0   \n",
       "\n",
       "      Lead Origin_Lead Import  Lead Source_Facebook  Lead Source_Google  \\\n",
       "7962                        0                     0                   1   \n",
       "5520                        0                     0                   0   \n",
       "1962                        0                     0                   1   \n",
       "1566                        0                     0                   1   \n",
       "9170                        0                     0                   0   \n",
       "\n",
       "      Lead Source_Olark Chat  Lead Source_Organic Search  ...  \\\n",
       "7962                       0                           0  ...   \n",
       "5520                       0                           0  ...   \n",
       "1962                       0                           0  ...   \n",
       "1566                       0                           0  ...   \n",
       "9170                       1                           0  ...   \n",
       "\n",
       "      What is your current occupation_Other  \\\n",
       "7962                                      0   \n",
       "5520                                      0   \n",
       "1962                                      0   \n",
       "1566                                      0   \n",
       "9170                                      0   \n",
       "\n",
       "      What is your current occupation_Student  \\\n",
       "7962                                        0   \n",
       "5520                                        0   \n",
       "1962                                        0   \n",
       "1566                                        0   \n",
       "9170                                        0   \n",
       "\n",
       "      What is your current occupation_Unemployed  \\\n",
       "7962                                           1   \n",
       "5520                                           1   \n",
       "1962                                           1   \n",
       "1566                                           0   \n",
       "9170                                           1   \n",
       "\n",
       "      What is your current occupation_Working Professional  \\\n",
       "7962                                                  0      \n",
       "5520                                                  0      \n",
       "1962                                                  0      \n",
       "1566                                                  1      \n",
       "9170                                                  0      \n",
       "\n",
       "      Last Notable Activity_Email Opened  Last Notable Activity_Modified  \\\n",
       "7962                                   0                               0   \n",
       "5520                                   1                               0   \n",
       "1962                                   0                               1   \n",
       "1566                                   1                               0   \n",
       "9170                                   1                               0   \n",
       "\n",
       "      Last Notable Activity_Olark Chat Conversation  \\\n",
       "7962                                              0   \n",
       "5520                                              0   \n",
       "1962                                              0   \n",
       "1566                                              0   \n",
       "9170                                              0   \n",
       "\n",
       "      Last Notable Activity_Others  \\\n",
       "7962                             0   \n",
       "5520                             0   \n",
       "1962                             0   \n",
       "1566                             0   \n",
       "9170                             0   \n",
       "\n",
       "      Last Notable Activity_Page Visited on Website  \\\n",
       "7962                                              0   \n",
       "5520                                              0   \n",
       "1962                                              0   \n",
       "1566                                              0   \n",
       "9170                                              0   \n",
       "\n",
       "      Last Notable Activity_SMS Sent  \n",
       "7962                               1  \n",
       "5520                               0  \n",
       "1962                               0  \n",
       "1566                               0  \n",
       "9170                               0  \n",
       "\n",
       "[5 rows x 52 columns]"
      ]
     },
     "execution_count": 520,
     "metadata": {},
     "output_type": "execute_result"
    }
   ],
   "source": [
    "#scaling numeric columns\n",
    "\n",
    "from sklearn.preprocessing import StandardScaler\n",
    "\n",
    "scaler = StandardScaler()\n",
    "\n",
    "num_cols=X_train.select_dtypes(include=['float64', 'int64']).columns\n",
    "\n",
    "X_train[num_cols] = scaler.fit_transform(X_train[num_cols])\n",
    "\n",
    "X_train.head()"
   ]
  },
  {
   "cell_type": "markdown",
   "id": "73807973",
   "metadata": {},
   "source": [
    "### Model Building using Stats Model & RFE"
   ]
  },
  {
   "cell_type": "code",
   "execution_count": 521,
   "id": "6b2923df",
   "metadata": {},
   "outputs": [],
   "source": [
    "import statsmodels.api as sm"
   ]
  },
  {
   "cell_type": "code",
   "execution_count": 522,
   "id": "7a70e6e2",
   "metadata": {},
   "outputs": [],
   "source": [
    "from sklearn.linear_model import LogisticRegression\n",
    "logreg = LogisticRegression()\n",
    "\n",
    "from sklearn.feature_selection import RFE\n",
    "rfe = RFE(logreg, 15)             # running RFE with 15 variables as output\n",
    "rfe = rfe.fit(X_train, y_train)"
   ]
  },
  {
   "cell_type": "code",
   "execution_count": 523,
   "id": "6a10f1e1",
   "metadata": {},
   "outputs": [
    {
     "data": {
      "text/plain": [
       "array([False,  True, False,  True,  True, False, False, False,  True,\n",
       "       False, False, False, False,  True,  True, False,  True, False,\n",
       "        True, False, False,  True, False, False, False, False, False,\n",
       "       False, False, False, False, False, False, False, False, False,\n",
       "       False, False, False,  True,  True,  True, False, False, False,\n",
       "        True, False, False, False,  True, False,  True])"
      ]
     },
     "execution_count": 523,
     "metadata": {},
     "output_type": "execute_result"
    }
   ],
   "source": [
    "rfe.support_"
   ]
  },
  {
   "cell_type": "code",
   "execution_count": 524,
   "id": "4abf9ff0",
   "metadata": {},
   "outputs": [
    {
     "data": {
      "text/plain": [
       "[('TotalVisits', False, 9),\n",
       " ('Total Time Spent on Website', True, 1),\n",
       " ('Page Views Per Visit', False, 10),\n",
       " ('Lead Origin_Landing Page Submission', True, 1),\n",
       " ('Lead Origin_Lead Add Form', True, 1),\n",
       " ('Lead Origin_Lead Import', False, 5),\n",
       " ('Lead Source_Facebook', False, 15),\n",
       " ('Lead Source_Google', False, 16),\n",
       " ('Lead Source_Olark Chat', True, 1),\n",
       " ('Lead Source_Organic Search', False, 27),\n",
       " ('Lead Source_Others', False, 19),\n",
       " ('Lead Source_Reference', False, 14),\n",
       " ('Lead Source_Referral Sites', False, 37),\n",
       " ('Lead Source_Welingak Website', True, 1),\n",
       " ('Last Activity_Email Bounced', True, 1),\n",
       " ('Last Activity_Email Link Clicked', False, 11),\n",
       " ('Last Activity_Email Opened', True, 1),\n",
       " ('Last Activity_Form Submitted on Website', False, 18),\n",
       " ('Last Activity_Olark Chat Conversation', True, 1),\n",
       " ('Last Activity_Others', False, 4),\n",
       " ('Last Activity_Page Visited on Website', False, 13),\n",
       " ('Last Activity_SMS Sent', True, 1),\n",
       " ('Specialization_Business Administration', False, 21),\n",
       " ('Specialization_E-Business', False, 2),\n",
       " ('Specialization_E-COMMERCE', False, 23),\n",
       " ('Specialization_Finance Management', False, 30),\n",
       " ('Specialization_Healthcare Management', False, 20),\n",
       " ('Specialization_Hospitality Management', False, 3),\n",
       " ('Specialization_Human Resource Management', False, 29),\n",
       " ('Specialization_IT Projects Management', False, 31),\n",
       " ('Specialization_International Business', False, 24),\n",
       " ('Specialization_Marketing Management', False, 38),\n",
       " ('Specialization_Media and Advertising', False, 22),\n",
       " ('Specialization_Operations Management', False, 25),\n",
       " ('Specialization_Retail Management', False, 28),\n",
       " ('Specialization_Rural and Agribusiness', False, 33),\n",
       " ('Specialization_Services Excellence', False, 6),\n",
       " ('Specialization_Supply Chain Management', False, 34),\n",
       " ('Specialization_Travel and Tourism', False, 32),\n",
       " ('Specialization_others', True, 1),\n",
       " ('What is your current occupation_Housewife', True, 1),\n",
       " ('What is your current occupation_Not provided', True, 1),\n",
       " ('What is your current occupation_Other', False, 12),\n",
       " ('What is your current occupation_Student', False, 8),\n",
       " ('What is your current occupation_Unemployed', False, 7),\n",
       " ('What is your current occupation_Working Professional', True, 1),\n",
       " ('Last Notable Activity_Email Opened', False, 26),\n",
       " ('Last Notable Activity_Modified', False, 17),\n",
       " ('Last Notable Activity_Olark Chat Conversation', False, 36),\n",
       " ('Last Notable Activity_Others', True, 1),\n",
       " ('Last Notable Activity_Page Visited on Website', False, 35),\n",
       " ('Last Notable Activity_SMS Sent', True, 1)]"
      ]
     },
     "execution_count": 524,
     "metadata": {},
     "output_type": "execute_result"
    }
   ],
   "source": [
    "list(zip(X_train.columns, rfe.support_, rfe.ranking_))"
   ]
  },
  {
   "cell_type": "code",
   "execution_count": 525,
   "id": "b306af18",
   "metadata": {},
   "outputs": [
    {
     "data": {
      "text/plain": [
       "Index(['TotalVisits', 'Page Views Per Visit', 'Lead Origin_Lead Import',\n",
       "       'Lead Source_Facebook', 'Lead Source_Google',\n",
       "       'Lead Source_Organic Search', 'Lead Source_Others',\n",
       "       'Lead Source_Reference', 'Lead Source_Referral Sites',\n",
       "       'Last Activity_Email Link Clicked',\n",
       "       'Last Activity_Form Submitted on Website', 'Last Activity_Others',\n",
       "       'Last Activity_Page Visited on Website',\n",
       "       'Specialization_Business Administration', 'Specialization_E-Business',\n",
       "       'Specialization_E-COMMERCE', 'Specialization_Finance Management',\n",
       "       'Specialization_Healthcare Management',\n",
       "       'Specialization_Hospitality Management',\n",
       "       'Specialization_Human Resource Management',\n",
       "       'Specialization_IT Projects Management',\n",
       "       'Specialization_International Business',\n",
       "       'Specialization_Marketing Management',\n",
       "       'Specialization_Media and Advertising',\n",
       "       'Specialization_Operations Management',\n",
       "       'Specialization_Retail Management',\n",
       "       'Specialization_Rural and Agribusiness',\n",
       "       'Specialization_Services Excellence',\n",
       "       'Specialization_Supply Chain Management',\n",
       "       'Specialization_Travel and Tourism',\n",
       "       'What is your current occupation_Other',\n",
       "       'What is your current occupation_Student',\n",
       "       'What is your current occupation_Unemployed',\n",
       "       'Last Notable Activity_Email Opened', 'Last Notable Activity_Modified',\n",
       "       'Last Notable Activity_Olark Chat Conversation',\n",
       "       'Last Notable Activity_Page Visited on Website'],\n",
       "      dtype='object')"
      ]
     },
     "execution_count": 525,
     "metadata": {},
     "output_type": "execute_result"
    }
   ],
   "source": [
    "X_train.columns[~rfe.support_]"
   ]
  },
  {
   "cell_type": "code",
   "execution_count": 526,
   "id": "270a9fc3",
   "metadata": {
    "scrolled": true
   },
   "outputs": [
    {
     "data": {
      "text/plain": [
       "Index(['Total Time Spent on Website', 'Lead Origin_Landing Page Submission',\n",
       "       'Lead Origin_Lead Add Form', 'Lead Source_Olark Chat',\n",
       "       'Lead Source_Welingak Website', 'Last Activity_Email Bounced',\n",
       "       'Last Activity_Email Opened', 'Last Activity_Olark Chat Conversation',\n",
       "       'Last Activity_SMS Sent', 'Specialization_others',\n",
       "       'What is your current occupation_Housewife',\n",
       "       'What is your current occupation_Not provided',\n",
       "       'What is your current occupation_Working Professional',\n",
       "       'Last Notable Activity_Others', 'Last Notable Activity_SMS Sent'],\n",
       "      dtype='object')"
      ]
     },
     "execution_count": 526,
     "metadata": {},
     "output_type": "execute_result"
    }
   ],
   "source": [
    "#list of RFE supported columns\n",
    "col = X_train.columns[rfe.support_]\n",
    "col"
   ]
  },
  {
   "cell_type": "markdown",
   "id": "90d36e2f",
   "metadata": {},
   "source": [
    "#### BUILDING MODEL 1"
   ]
  },
  {
   "cell_type": "code",
   "execution_count": 527,
   "id": "68f6aad4",
   "metadata": {
    "scrolled": false
   },
   "outputs": [
    {
     "data": {
      "text/plain": [
       "const                                                   -0.914297\n",
       "Total Time Spent on Website                              1.086854\n",
       "Lead Origin_Landing Page Submission                     -0.907278\n",
       "Lead Origin_Lead Add Form                                3.146228\n",
       "Lead Source_Olark Chat                                   1.076590\n",
       "Lead Source_Welingak Website                             2.194556\n",
       "Last Activity_Email Bounced                             -1.856346\n",
       "Last Activity_Email Opened                               0.763275\n",
       "Last Activity_Olark Chat Conversation                   -0.720883\n",
       "Last Activity_SMS Sent                                   0.961846\n",
       "Specialization_others                                   -0.838050\n",
       "What is your current occupation_Housewife               23.029317\n",
       "What is your current occupation_Not provided            -1.090457\n",
       "What is your current occupation_Working Professional     2.428388\n",
       "Last Notable Activity_Others                             1.490647\n",
       "Last Notable Activity_SMS Sent                           1.048743\n",
       "dtype: float64"
      ]
     },
     "execution_count": 527,
     "metadata": {},
     "output_type": "execute_result"
    }
   ],
   "source": [
    "X_train_sm = sm.add_constant(X_train[col])\n",
    "logm1 = sm.GLM(y_train,X_train_sm, family = sm.families.Binomial()).fit()\n",
    "logm1.params\n",
    "\n"
   ]
  },
  {
   "cell_type": "code",
   "execution_count": 528,
   "id": "08fba6c0",
   "metadata": {},
   "outputs": [
    {
     "name": "stdout",
     "output_type": "stream",
     "text": [
      "                 Generalized Linear Model Regression Results                  \n",
      "==============================================================================\n",
      "Dep. Variable:              Converted   No. Observations:                 6372\n",
      "Model:                            GLM   Df Residuals:                     6356\n",
      "Model Family:                Binomial   Df Model:                           15\n",
      "Link Function:                  logit   Scale:                          1.0000\n",
      "Method:                          IRLS   Log-Likelihood:                -2571.0\n",
      "Date:                Tue, 22 Aug 2023   Deviance:                       5142.0\n",
      "Time:                        21:51:54   Pearson chi2:                 6.23e+03\n",
      "No. Iterations:                    21                                         \n",
      "Covariance Type:            nonrobust                                         \n",
      "========================================================================================================================\n",
      "                                                           coef    std err          z      P>|z|      [0.025      0.975]\n",
      "------------------------------------------------------------------------------------------------------------------------\n",
      "const                                                   -0.9143      0.146     -6.281      0.000      -1.200      -0.629\n",
      "Total Time Spent on Website                              1.0869      0.040     26.971      0.000       1.008       1.166\n",
      "Lead Origin_Landing Page Submission                     -0.9073      0.126     -7.211      0.000      -1.154      -0.661\n",
      "Lead Origin_Lead Add Form                                3.1462      0.235     13.415      0.000       2.687       3.606\n",
      "Lead Source_Olark Chat                                   1.0766      0.124      8.696      0.000       0.834       1.319\n",
      "Lead Source_Welingak Website                             2.1946      0.755      2.909      0.004       0.716       3.673\n",
      "Last Activity_Email Bounced                             -1.8563      0.356     -5.208      0.000      -2.555      -1.158\n",
      "Last Activity_Email Opened                               0.7633      0.106      7.193      0.000       0.555       0.971\n",
      "Last Activity_Olark Chat Conversation                   -0.7209      0.186     -3.866      0.000      -1.086      -0.355\n",
      "Last Activity_SMS Sent                                   0.9618      0.166      5.786      0.000       0.636       1.288\n",
      "Specialization_others                                   -0.8381      0.121     -6.898      0.000      -1.076      -0.600\n",
      "What is your current occupation_Housewife               23.0293   1.59e+04      0.001      0.999   -3.11e+04    3.11e+04\n",
      "What is your current occupation_Not provided            -1.0905      0.089    -12.226      0.000      -1.265      -0.916\n",
      "What is your current occupation_Working Professional     2.4284      0.189     12.847      0.000       2.058       2.799\n",
      "Last Notable Activity_Others                             1.4906      0.277      5.380      0.000       0.948       2.034\n",
      "Last Notable Activity_SMS Sent                           1.0487      0.154      6.811      0.000       0.747       1.351\n",
      "========================================================================================================================\n"
     ]
    }
   ],
   "source": [
    "#Let's see the summary of our logistic regression model\n",
    "print(logm1.summary())"
   ]
  },
  {
   "cell_type": "code",
   "execution_count": 529,
   "id": "47755dc4",
   "metadata": {},
   "outputs": [],
   "source": [
    "# Check for the VIF values of the feature variables. \n",
    "from statsmodels.stats.outliers_influence import variance_inflation_factor"
   ]
  },
  {
   "cell_type": "code",
   "execution_count": 530,
   "id": "980753a1",
   "metadata": {},
   "outputs": [
    {
     "data": {
      "text/html": [
       "<div>\n",
       "<style scoped>\n",
       "    .dataframe tbody tr th:only-of-type {\n",
       "        vertical-align: middle;\n",
       "    }\n",
       "\n",
       "    .dataframe tbody tr th {\n",
       "        vertical-align: top;\n",
       "    }\n",
       "\n",
       "    .dataframe thead th {\n",
       "        text-align: right;\n",
       "    }\n",
       "</style>\n",
       "<table border=\"1\" class=\"dataframe\">\n",
       "  <thead>\n",
       "    <tr style=\"text-align: right;\">\n",
       "      <th></th>\n",
       "      <th>Features</th>\n",
       "      <th>VIF</th>\n",
       "    </tr>\n",
       "  </thead>\n",
       "  <tbody>\n",
       "    <tr>\n",
       "      <th>8</th>\n",
       "      <td>Last Activity_SMS Sent</td>\n",
       "      <td>6.31</td>\n",
       "    </tr>\n",
       "    <tr>\n",
       "      <th>14</th>\n",
       "      <td>Last Notable Activity_SMS Sent</td>\n",
       "      <td>5.17</td>\n",
       "    </tr>\n",
       "    <tr>\n",
       "      <th>1</th>\n",
       "      <td>Lead Origin_Landing Page Submission</td>\n",
       "      <td>2.86</td>\n",
       "    </tr>\n",
       "    <tr>\n",
       "      <th>9</th>\n",
       "      <td>Specialization_others</td>\n",
       "      <td>2.69</td>\n",
       "    </tr>\n",
       "    <tr>\n",
       "      <th>6</th>\n",
       "      <td>Last Activity_Email Opened</td>\n",
       "      <td>2.43</td>\n",
       "    </tr>\n",
       "    <tr>\n",
       "      <th>3</th>\n",
       "      <td>Lead Source_Olark Chat</td>\n",
       "      <td>2.19</td>\n",
       "    </tr>\n",
       "    <tr>\n",
       "      <th>7</th>\n",
       "      <td>Last Activity_Olark Chat Conversation</td>\n",
       "      <td>1.78</td>\n",
       "    </tr>\n",
       "    <tr>\n",
       "      <th>2</th>\n",
       "      <td>Lead Origin_Lead Add Form</td>\n",
       "      <td>1.68</td>\n",
       "    </tr>\n",
       "    <tr>\n",
       "      <th>11</th>\n",
       "      <td>What is your current occupation_Not provided</td>\n",
       "      <td>1.62</td>\n",
       "    </tr>\n",
       "    <tr>\n",
       "      <th>4</th>\n",
       "      <td>Lead Source_Welingak Website</td>\n",
       "      <td>1.35</td>\n",
       "    </tr>\n",
       "    <tr>\n",
       "      <th>0</th>\n",
       "      <td>Total Time Spent on Website</td>\n",
       "      <td>1.30</td>\n",
       "    </tr>\n",
       "    <tr>\n",
       "      <th>5</th>\n",
       "      <td>Last Activity_Email Bounced</td>\n",
       "      <td>1.22</td>\n",
       "    </tr>\n",
       "    <tr>\n",
       "      <th>12</th>\n",
       "      <td>What is your current occupation_Working Profes...</td>\n",
       "      <td>1.19</td>\n",
       "    </tr>\n",
       "    <tr>\n",
       "      <th>13</th>\n",
       "      <td>Last Notable Activity_Others</td>\n",
       "      <td>1.11</td>\n",
       "    </tr>\n",
       "    <tr>\n",
       "      <th>10</th>\n",
       "      <td>What is your current occupation_Housewife</td>\n",
       "      <td>1.00</td>\n",
       "    </tr>\n",
       "  </tbody>\n",
       "</table>\n",
       "</div>"
      ],
      "text/plain": [
       "                                             Features   VIF\n",
       "8                              Last Activity_SMS Sent  6.31\n",
       "14                     Last Notable Activity_SMS Sent  5.17\n",
       "1                 Lead Origin_Landing Page Submission  2.86\n",
       "9                               Specialization_others  2.69\n",
       "6                          Last Activity_Email Opened  2.43\n",
       "3                              Lead Source_Olark Chat  2.19\n",
       "7               Last Activity_Olark Chat Conversation  1.78\n",
       "2                           Lead Origin_Lead Add Form  1.68\n",
       "11       What is your current occupation_Not provided  1.62\n",
       "4                        Lead Source_Welingak Website  1.35\n",
       "0                         Total Time Spent on Website  1.30\n",
       "5                         Last Activity_Email Bounced  1.22\n",
       "12  What is your current occupation_Working Profes...  1.19\n",
       "13                       Last Notable Activity_Others  1.11\n",
       "10          What is your current occupation_Housewife  1.00"
      ]
     },
     "execution_count": 530,
     "metadata": {},
     "output_type": "execute_result"
    }
   ],
   "source": [
    "# Create a dataframe that will contain the names of all the feature variables and their respective VIFs\n",
    "vif = pd.DataFrame()\n",
    "vif['Features'] = X_train[col].columns\n",
    "vif['VIF'] = [variance_inflation_factor(X_train[col].values, i) for i in range(X_train[col].shape[1])]\n",
    "vif['VIF'] = round(vif['VIF'], 2)\n",
    "vif = vif.sort_values(by = \"VIF\", ascending = False)\n",
    "vif"
   ]
  },
  {
   "cell_type": "code",
   "execution_count": 531,
   "id": "9d128bbe",
   "metadata": {},
   "outputs": [],
   "source": [
    "#dropping column with high p-value\n",
    "\n",
    "col = col.drop('What is your current occupation_Housewife',1)"
   ]
  },
  {
   "cell_type": "markdown",
   "id": "371241b5",
   "metadata": {},
   "source": [
    "#### BUILDING MODEL 2"
   ]
  },
  {
   "cell_type": "code",
   "execution_count": 532,
   "id": "aba75319",
   "metadata": {
    "scrolled": true
   },
   "outputs": [
    {
     "data": {
      "text/plain": [
       "const                                                  -0.906383\n",
       "Total Time Spent on Website                             1.086096\n",
       "Lead Origin_Landing Page Submission                    -0.903407\n",
       "Lead Origin_Lead Add Form                               3.152448\n",
       "Lead Source_Olark Chat                                  1.075529\n",
       "Lead Source_Welingak Website                            2.186975\n",
       "Last Activity_Email Bounced                            -1.860147\n",
       "Last Activity_Email Opened                              0.762595\n",
       "Last Activity_Olark Chat Conversation                  -0.725083\n",
       "Last Activity_SMS Sent                                  0.954254\n",
       "Specialization_others                                  -0.841055\n",
       "What is your current occupation_Not provided           -1.094892\n",
       "What is your current occupation_Working Professional    2.420773\n",
       "Last Notable Activity_Others                            1.484050\n",
       "Last Notable Activity_SMS Sent                          1.047833\n",
       "dtype: float64"
      ]
     },
     "execution_count": 532,
     "metadata": {},
     "output_type": "execute_result"
    }
   ],
   "source": [
    "X_train_sm = sm.add_constant(X_train[col])\n",
    "logm2 = sm.GLM(y_train,X_train_sm, family = sm.families.Binomial()).fit()\n",
    "logm2.params"
   ]
  },
  {
   "cell_type": "code",
   "execution_count": 533,
   "id": "fb95f24a",
   "metadata": {},
   "outputs": [
    {
     "name": "stdout",
     "output_type": "stream",
     "text": [
      "                 Generalized Linear Model Regression Results                  \n",
      "==============================================================================\n",
      "Dep. Variable:              Converted   No. Observations:                 6372\n",
      "Model:                            GLM   Df Residuals:                     6357\n",
      "Model Family:                Binomial   Df Model:                           14\n",
      "Link Function:                  logit   Scale:                          1.0000\n",
      "Method:                          IRLS   Log-Likelihood:                -2577.2\n",
      "Date:                Tue, 22 Aug 2023   Deviance:                       5154.4\n",
      "Time:                        21:51:57   Pearson chi2:                 6.24e+03\n",
      "No. Iterations:                     7                                         \n",
      "Covariance Type:            nonrobust                                         \n",
      "========================================================================================================================\n",
      "                                                           coef    std err          z      P>|z|      [0.025      0.975]\n",
      "------------------------------------------------------------------------------------------------------------------------\n",
      "const                                                   -0.9064      0.145     -6.239      0.000      -1.191      -0.622\n",
      "Total Time Spent on Website                              1.0861      0.040     26.987      0.000       1.007       1.165\n",
      "Lead Origin_Landing Page Submission                     -0.9034      0.126     -7.190      0.000      -1.150      -0.657\n",
      "Lead Origin_Lead Add Form                                3.1524      0.234     13.447      0.000       2.693       3.612\n",
      "Lead Source_Olark Chat                                   1.0755      0.124      8.691      0.000       0.833       1.318\n",
      "Lead Source_Welingak Website                             2.1870      0.754      2.899      0.004       0.708       3.666\n",
      "Last Activity_Email Bounced                             -1.8601      0.356     -5.223      0.000      -2.558      -1.162\n",
      "Last Activity_Email Opened                               0.7626      0.106      7.208      0.000       0.555       0.970\n",
      "Last Activity_Olark Chat Conversation                   -0.7251      0.186     -3.891      0.000      -1.090      -0.360\n",
      "Last Activity_SMS Sent                                   0.9543      0.166      5.746      0.000       0.629       1.280\n",
      "Specialization_others                                   -0.8411      0.121     -6.929      0.000      -1.079      -0.603\n",
      "What is your current occupation_Not provided            -1.0949      0.089    -12.283      0.000      -1.270      -0.920\n",
      "What is your current occupation_Working Professional     2.4208      0.189     12.811      0.000       2.050       2.791\n",
      "Last Notable Activity_Others                             1.4840      0.277      5.358      0.000       0.941       2.027\n",
      "Last Notable Activity_SMS Sent                           1.0478      0.154      6.805      0.000       0.746       1.350\n",
      "========================================================================================================================\n"
     ]
    }
   ],
   "source": [
    "#Let's see the summary of our logistic regression model\n",
    "print(logm2.summary())"
   ]
  },
  {
   "cell_type": "code",
   "execution_count": 534,
   "id": "d9c14dd9",
   "metadata": {},
   "outputs": [
    {
     "data": {
      "text/html": [
       "<div>\n",
       "<style scoped>\n",
       "    .dataframe tbody tr th:only-of-type {\n",
       "        vertical-align: middle;\n",
       "    }\n",
       "\n",
       "    .dataframe tbody tr th {\n",
       "        vertical-align: top;\n",
       "    }\n",
       "\n",
       "    .dataframe thead th {\n",
       "        text-align: right;\n",
       "    }\n",
       "</style>\n",
       "<table border=\"1\" class=\"dataframe\">\n",
       "  <thead>\n",
       "    <tr style=\"text-align: right;\">\n",
       "      <th></th>\n",
       "      <th>Features</th>\n",
       "      <th>VIF</th>\n",
       "    </tr>\n",
       "  </thead>\n",
       "  <tbody>\n",
       "    <tr>\n",
       "      <th>8</th>\n",
       "      <td>Last Activity_SMS Sent</td>\n",
       "      <td>6.31</td>\n",
       "    </tr>\n",
       "    <tr>\n",
       "      <th>13</th>\n",
       "      <td>Last Notable Activity_SMS Sent</td>\n",
       "      <td>5.17</td>\n",
       "    </tr>\n",
       "    <tr>\n",
       "      <th>1</th>\n",
       "      <td>Lead Origin_Landing Page Submission</td>\n",
       "      <td>2.86</td>\n",
       "    </tr>\n",
       "    <tr>\n",
       "      <th>9</th>\n",
       "      <td>Specialization_others</td>\n",
       "      <td>2.69</td>\n",
       "    </tr>\n",
       "    <tr>\n",
       "      <th>6</th>\n",
       "      <td>Last Activity_Email Opened</td>\n",
       "      <td>2.43</td>\n",
       "    </tr>\n",
       "    <tr>\n",
       "      <th>3</th>\n",
       "      <td>Lead Source_Olark Chat</td>\n",
       "      <td>2.19</td>\n",
       "    </tr>\n",
       "    <tr>\n",
       "      <th>7</th>\n",
       "      <td>Last Activity_Olark Chat Conversation</td>\n",
       "      <td>1.78</td>\n",
       "    </tr>\n",
       "    <tr>\n",
       "      <th>2</th>\n",
       "      <td>Lead Origin_Lead Add Form</td>\n",
       "      <td>1.68</td>\n",
       "    </tr>\n",
       "    <tr>\n",
       "      <th>10</th>\n",
       "      <td>What is your current occupation_Not provided</td>\n",
       "      <td>1.62</td>\n",
       "    </tr>\n",
       "    <tr>\n",
       "      <th>4</th>\n",
       "      <td>Lead Source_Welingak Website</td>\n",
       "      <td>1.35</td>\n",
       "    </tr>\n",
       "    <tr>\n",
       "      <th>0</th>\n",
       "      <td>Total Time Spent on Website</td>\n",
       "      <td>1.30</td>\n",
       "    </tr>\n",
       "    <tr>\n",
       "      <th>5</th>\n",
       "      <td>Last Activity_Email Bounced</td>\n",
       "      <td>1.22</td>\n",
       "    </tr>\n",
       "    <tr>\n",
       "      <th>11</th>\n",
       "      <td>What is your current occupation_Working Profes...</td>\n",
       "      <td>1.19</td>\n",
       "    </tr>\n",
       "    <tr>\n",
       "      <th>12</th>\n",
       "      <td>Last Notable Activity_Others</td>\n",
       "      <td>1.11</td>\n",
       "    </tr>\n",
       "  </tbody>\n",
       "</table>\n",
       "</div>"
      ],
      "text/plain": [
       "                                             Features   VIF\n",
       "8                              Last Activity_SMS Sent  6.31\n",
       "13                     Last Notable Activity_SMS Sent  5.17\n",
       "1                 Lead Origin_Landing Page Submission  2.86\n",
       "9                               Specialization_others  2.69\n",
       "6                          Last Activity_Email Opened  2.43\n",
       "3                              Lead Source_Olark Chat  2.19\n",
       "7               Last Activity_Olark Chat Conversation  1.78\n",
       "2                           Lead Origin_Lead Add Form  1.68\n",
       "10       What is your current occupation_Not provided  1.62\n",
       "4                        Lead Source_Welingak Website  1.35\n",
       "0                         Total Time Spent on Website  1.30\n",
       "5                         Last Activity_Email Bounced  1.22\n",
       "11  What is your current occupation_Working Profes...  1.19\n",
       "12                       Last Notable Activity_Others  1.11"
      ]
     },
     "execution_count": 534,
     "metadata": {},
     "output_type": "execute_result"
    }
   ],
   "source": [
    "# Create a dataframe that will contain the names of all the remaining feature variables and their respective VIFs\n",
    "vif = pd.DataFrame()\n",
    "vif['Features'] = X_train[col].columns\n",
    "vif['VIF'] = [variance_inflation_factor(X_train[col].values, i) for i in range(X_train[col].shape[1])]\n",
    "vif['VIF'] = round(vif['VIF'], 2)\n",
    "vif = vif.sort_values(by = \"VIF\", ascending = False)\n",
    "vif"
   ]
  },
  {
   "cell_type": "code",
   "execution_count": 535,
   "id": "8346a759",
   "metadata": {},
   "outputs": [],
   "source": [
    "#dropping column with high p-value\n",
    "\n",
    "col = col.drop('Lead Source_Welingak Website',1)"
   ]
  },
  {
   "cell_type": "markdown",
   "id": "4355f173",
   "metadata": {},
   "source": [
    "#### BUILDING MODEL 3"
   ]
  },
  {
   "cell_type": "code",
   "execution_count": 536,
   "id": "8319479f",
   "metadata": {
    "scrolled": true
   },
   "outputs": [
    {
     "data": {
      "text/plain": [
       "const                                                  -0.950798\n",
       "Total Time Spent on Website                             1.086294\n",
       "Lead Origin_Landing Page Submission                    -0.862587\n",
       "Lead Origin_Lead Add Form                               3.579815\n",
       "Lead Source_Olark Chat                                  1.071622\n",
       "Last Activity_Email Bounced                            -1.834326\n",
       "Last Activity_Email Opened                              0.764532\n",
       "Last Activity_Olark Chat Conversation                  -0.715237\n",
       "Last Activity_SMS Sent                                  0.970336\n",
       "Specialization_others                                  -0.784977\n",
       "What is your current occupation_Not provided           -1.100162\n",
       "What is your current occupation_Working Professional    2.415885\n",
       "Last Notable Activity_Others                            1.492549\n",
       "Last Notable Activity_SMS Sent                          1.035196\n",
       "dtype: float64"
      ]
     },
     "execution_count": 536,
     "metadata": {},
     "output_type": "execute_result"
    }
   ],
   "source": [
    "X_train_sm = sm.add_constant(X_train[col])\n",
    "logm3 = sm.GLM(y_train,X_train_sm, family = sm.families.Binomial()).fit()\n",
    "logm3.params"
   ]
  },
  {
   "cell_type": "code",
   "execution_count": 537,
   "id": "61a97d26",
   "metadata": {},
   "outputs": [
    {
     "name": "stdout",
     "output_type": "stream",
     "text": [
      "                 Generalized Linear Model Regression Results                  \n",
      "==============================================================================\n",
      "Dep. Variable:              Converted   No. Observations:                 6372\n",
      "Model:                            GLM   Df Residuals:                     6358\n",
      "Model Family:                Binomial   Df Model:                           13\n",
      "Link Function:                  logit   Scale:                          1.0000\n",
      "Method:                          IRLS   Log-Likelihood:                -2584.2\n",
      "Date:                Tue, 22 Aug 2023   Deviance:                       5168.5\n",
      "Time:                        21:52:01   Pearson chi2:                 6.42e+03\n",
      "No. Iterations:                     6                                         \n",
      "Covariance Type:            nonrobust                                         \n",
      "========================================================================================================================\n",
      "                                                           coef    std err          z      P>|z|      [0.025      0.975]\n",
      "------------------------------------------------------------------------------------------------------------------------\n",
      "const                                                   -0.9508      0.145     -6.549      0.000      -1.235      -0.666\n",
      "Total Time Spent on Website                              1.0863      0.040     26.996      0.000       1.007       1.165\n",
      "Lead Origin_Landing Page Submission                     -0.8626      0.125     -6.887      0.000      -1.108      -0.617\n",
      "Lead Origin_Lead Add Form                                3.5798      0.223     16.072      0.000       3.143       4.016\n",
      "Lead Source_Olark Chat                                   1.0716      0.124      8.676      0.000       0.830       1.314\n",
      "Last Activity_Email Bounced                             -1.8343      0.352     -5.212      0.000      -2.524      -1.145\n",
      "Last Activity_Email Opened                               0.7645      0.106      7.221      0.000       0.557       0.972\n",
      "Last Activity_Olark Chat Conversation                   -0.7152      0.186     -3.852      0.000      -1.079      -0.351\n",
      "Last Activity_SMS Sent                                   0.9703      0.165      5.869      0.000       0.646       1.294\n",
      "Specialization_others                                   -0.7850      0.121     -6.491      0.000      -1.022      -0.548\n",
      "What is your current occupation_Not provided            -1.1002      0.089    -12.347      0.000      -1.275      -0.926\n",
      "What is your current occupation_Working Professional     2.4159      0.189     12.785      0.000       2.046       2.786\n",
      "Last Notable Activity_Others                             1.4925      0.277      5.396      0.000       0.950       2.035\n",
      "Last Notable Activity_SMS Sent                           1.0352      0.153      6.764      0.000       0.735       1.335\n",
      "========================================================================================================================\n"
     ]
    }
   ],
   "source": [
    "#Let's see the summary of our logistic regression model\n",
    "print(logm3.summary())"
   ]
  },
  {
   "cell_type": "code",
   "execution_count": 538,
   "id": "7ded6857",
   "metadata": {
    "scrolled": true
   },
   "outputs": [
    {
     "data": {
      "text/html": [
       "<div>\n",
       "<style scoped>\n",
       "    .dataframe tbody tr th:only-of-type {\n",
       "        vertical-align: middle;\n",
       "    }\n",
       "\n",
       "    .dataframe tbody tr th {\n",
       "        vertical-align: top;\n",
       "    }\n",
       "\n",
       "    .dataframe thead th {\n",
       "        text-align: right;\n",
       "    }\n",
       "</style>\n",
       "<table border=\"1\" class=\"dataframe\">\n",
       "  <thead>\n",
       "    <tr style=\"text-align: right;\">\n",
       "      <th></th>\n",
       "      <th>Features</th>\n",
       "      <th>VIF</th>\n",
       "    </tr>\n",
       "  </thead>\n",
       "  <tbody>\n",
       "    <tr>\n",
       "      <th>7</th>\n",
       "      <td>Last Activity_SMS Sent</td>\n",
       "      <td>6.31</td>\n",
       "    </tr>\n",
       "    <tr>\n",
       "      <th>12</th>\n",
       "      <td>Last Notable Activity_SMS Sent</td>\n",
       "      <td>5.17</td>\n",
       "    </tr>\n",
       "    <tr>\n",
       "      <th>1</th>\n",
       "      <td>Lead Origin_Landing Page Submission</td>\n",
       "      <td>2.84</td>\n",
       "    </tr>\n",
       "    <tr>\n",
       "      <th>8</th>\n",
       "      <td>Specialization_others</td>\n",
       "      <td>2.63</td>\n",
       "    </tr>\n",
       "    <tr>\n",
       "      <th>5</th>\n",
       "      <td>Last Activity_Email Opened</td>\n",
       "      <td>2.42</td>\n",
       "    </tr>\n",
       "    <tr>\n",
       "      <th>3</th>\n",
       "      <td>Lead Source_Olark Chat</td>\n",
       "      <td>2.18</td>\n",
       "    </tr>\n",
       "    <tr>\n",
       "      <th>6</th>\n",
       "      <td>Last Activity_Olark Chat Conversation</td>\n",
       "      <td>1.78</td>\n",
       "    </tr>\n",
       "    <tr>\n",
       "      <th>9</th>\n",
       "      <td>What is your current occupation_Not provided</td>\n",
       "      <td>1.62</td>\n",
       "    </tr>\n",
       "    <tr>\n",
       "      <th>2</th>\n",
       "      <td>Lead Origin_Lead Add Form</td>\n",
       "      <td>1.36</td>\n",
       "    </tr>\n",
       "    <tr>\n",
       "      <th>0</th>\n",
       "      <td>Total Time Spent on Website</td>\n",
       "      <td>1.30</td>\n",
       "    </tr>\n",
       "    <tr>\n",
       "      <th>4</th>\n",
       "      <td>Last Activity_Email Bounced</td>\n",
       "      <td>1.22</td>\n",
       "    </tr>\n",
       "    <tr>\n",
       "      <th>10</th>\n",
       "      <td>What is your current occupation_Working Profes...</td>\n",
       "      <td>1.17</td>\n",
       "    </tr>\n",
       "    <tr>\n",
       "      <th>11</th>\n",
       "      <td>Last Notable Activity_Others</td>\n",
       "      <td>1.11</td>\n",
       "    </tr>\n",
       "  </tbody>\n",
       "</table>\n",
       "</div>"
      ],
      "text/plain": [
       "                                             Features   VIF\n",
       "7                              Last Activity_SMS Sent  6.31\n",
       "12                     Last Notable Activity_SMS Sent  5.17\n",
       "1                 Lead Origin_Landing Page Submission  2.84\n",
       "8                               Specialization_others  2.63\n",
       "5                          Last Activity_Email Opened  2.42\n",
       "3                              Lead Source_Olark Chat  2.18\n",
       "6               Last Activity_Olark Chat Conversation  1.78\n",
       "9        What is your current occupation_Not provided  1.62\n",
       "2                           Lead Origin_Lead Add Form  1.36\n",
       "0                         Total Time Spent on Website  1.30\n",
       "4                         Last Activity_Email Bounced  1.22\n",
       "10  What is your current occupation_Working Profes...  1.17\n",
       "11                       Last Notable Activity_Others  1.11"
      ]
     },
     "execution_count": 538,
     "metadata": {},
     "output_type": "execute_result"
    }
   ],
   "source": [
    "# Create a dataframe that will contain the names of all the remaining feature variables and their respective VIFs\n",
    "vif = pd.DataFrame()\n",
    "vif['Features'] = X_train[col].columns\n",
    "vif['VIF'] = [variance_inflation_factor(X_train[col].values, i) for i in range(X_train[col].shape[1])]\n",
    "vif['VIF'] = round(vif['VIF'], 2)\n",
    "vif = vif.sort_values(by = \"VIF\", ascending = False)\n",
    "vif"
   ]
  },
  {
   "cell_type": "code",
   "execution_count": 539,
   "id": "e148b8ce",
   "metadata": {},
   "outputs": [],
   "source": [
    "#dropping column with high VIF score\n",
    "\n",
    "col = col.drop('Last Activity_SMS Sent',1)"
   ]
  },
  {
   "cell_type": "markdown",
   "id": "b936569a",
   "metadata": {},
   "source": [
    "#### BUILDING MODEL 4"
   ]
  },
  {
   "cell_type": "code",
   "execution_count": 540,
   "id": "6f682eab",
   "metadata": {},
   "outputs": [
    {
     "data": {
      "text/plain": [
       "const                                                  -0.692037\n",
       "Total Time Spent on Website                             1.084906\n",
       "Lead Origin_Landing Page Submission                    -0.862484\n",
       "Lead Origin_Lead Add Form                               3.676997\n",
       "Lead Source_Olark Chat                                  1.069396\n",
       "Last Activity_Email Bounced                            -1.984642\n",
       "Last Activity_Email Opened                              0.495319\n",
       "Last Activity_Olark Chat Conversation                  -0.986203\n",
       "Specialization_others                                  -0.782362\n",
       "What is your current occupation_Not provided           -1.062644\n",
       "What is your current occupation_Working Professional    2.401253\n",
       "Last Notable Activity_Others                            1.269851\n",
       "Last Notable Activity_SMS Sent                          1.737940\n",
       "dtype: float64"
      ]
     },
     "execution_count": 540,
     "metadata": {},
     "output_type": "execute_result"
    }
   ],
   "source": [
    "X_train_sm = sm.add_constant(X_train[col])\n",
    "logm4 = sm.GLM(y_train,X_train_sm, family = sm.families.Binomial()).fit()\n",
    "logm4.params"
   ]
  },
  {
   "cell_type": "code",
   "execution_count": 541,
   "id": "66e818f6",
   "metadata": {
    "scrolled": true
   },
   "outputs": [
    {
     "name": "stdout",
     "output_type": "stream",
     "text": [
      "                 Generalized Linear Model Regression Results                  \n",
      "==============================================================================\n",
      "Dep. Variable:              Converted   No. Observations:                 6372\n",
      "Model:                            GLM   Df Residuals:                     6359\n",
      "Model Family:                Binomial   Df Model:                           12\n",
      "Link Function:                  logit   Scale:                          1.0000\n",
      "Method:                          IRLS   Log-Likelihood:                -2601.1\n",
      "Date:                Tue, 22 Aug 2023   Deviance:                       5202.2\n",
      "Time:                        21:52:06   Pearson chi2:                 6.41e+03\n",
      "No. Iterations:                     6                                         \n",
      "Covariance Type:            nonrobust                                         \n",
      "========================================================================================================================\n",
      "                                                           coef    std err          z      P>|z|      [0.025      0.975]\n",
      "------------------------------------------------------------------------------------------------------------------------\n",
      "const                                                   -0.6920      0.136     -5.097      0.000      -0.958      -0.426\n",
      "Total Time Spent on Website                              1.0849      0.040     27.087      0.000       1.006       1.163\n",
      "Lead Origin_Landing Page Submission                     -0.8625      0.125     -6.918      0.000      -1.107      -0.618\n",
      "Lead Origin_Lead Add Form                                3.6770      0.223     16.489      0.000       3.240       4.114\n",
      "Lead Source_Olark Chat                                   1.0694      0.123      8.691      0.000       0.828       1.311\n",
      "Last Activity_Email Bounced                             -1.9846      0.345     -5.748      0.000      -2.661      -1.308\n",
      "Last Activity_Email Opened                               0.4953      0.092      5.370      0.000       0.315       0.676\n",
      "Last Activity_Olark Chat Conversation                   -0.9862      0.178     -5.538      0.000      -1.335      -0.637\n",
      "Specialization_others                                   -0.7824      0.120     -6.493      0.000      -1.019      -0.546\n",
      "What is your current occupation_Not provided            -1.0626      0.089    -12.003      0.000      -1.236      -0.889\n",
      "What is your current occupation_Working Professional     2.4013      0.188     12.788      0.000       2.033       2.769\n",
      "Last Notable Activity_Others                             1.2699      0.272      4.666      0.000       0.736       1.803\n",
      "Last Notable Activity_SMS Sent                           1.7379      0.100     17.353      0.000       1.542       1.934\n",
      "========================================================================================================================\n"
     ]
    }
   ],
   "source": [
    "#Let's see the summary of our logistic regression model\n",
    "print(logm4.summary())"
   ]
  },
  {
   "cell_type": "code",
   "execution_count": null,
   "id": "e35763ac",
   "metadata": {},
   "outputs": [],
   "source": []
  },
  {
   "cell_type": "code",
   "execution_count": 542,
   "id": "97a969f8",
   "metadata": {},
   "outputs": [
    {
     "data": {
      "text/html": [
       "<div>\n",
       "<style scoped>\n",
       "    .dataframe tbody tr th:only-of-type {\n",
       "        vertical-align: middle;\n",
       "    }\n",
       "\n",
       "    .dataframe tbody tr th {\n",
       "        vertical-align: top;\n",
       "    }\n",
       "\n",
       "    .dataframe thead th {\n",
       "        text-align: right;\n",
       "    }\n",
       "</style>\n",
       "<table border=\"1\" class=\"dataframe\">\n",
       "  <thead>\n",
       "    <tr style=\"text-align: right;\">\n",
       "      <th></th>\n",
       "      <th>Features</th>\n",
       "      <th>VIF</th>\n",
       "    </tr>\n",
       "  </thead>\n",
       "  <tbody>\n",
       "    <tr>\n",
       "      <th>7</th>\n",
       "      <td>Specialization_others</td>\n",
       "      <td>2.49</td>\n",
       "    </tr>\n",
       "    <tr>\n",
       "      <th>1</th>\n",
       "      <td>Lead Origin_Landing Page Submission</td>\n",
       "      <td>2.48</td>\n",
       "    </tr>\n",
       "    <tr>\n",
       "      <th>3</th>\n",
       "      <td>Lead Source_Olark Chat</td>\n",
       "      <td>2.17</td>\n",
       "    </tr>\n",
       "    <tr>\n",
       "      <th>5</th>\n",
       "      <td>Last Activity_Email Opened</td>\n",
       "      <td>2.15</td>\n",
       "    </tr>\n",
       "    <tr>\n",
       "      <th>11</th>\n",
       "      <td>Last Notable Activity_SMS Sent</td>\n",
       "      <td>1.88</td>\n",
       "    </tr>\n",
       "    <tr>\n",
       "      <th>6</th>\n",
       "      <td>Last Activity_Olark Chat Conversation</td>\n",
       "      <td>1.69</td>\n",
       "    </tr>\n",
       "    <tr>\n",
       "      <th>8</th>\n",
       "      <td>What is your current occupation_Not provided</td>\n",
       "      <td>1.60</td>\n",
       "    </tr>\n",
       "    <tr>\n",
       "      <th>2</th>\n",
       "      <td>Lead Origin_Lead Add Form</td>\n",
       "      <td>1.31</td>\n",
       "    </tr>\n",
       "    <tr>\n",
       "      <th>0</th>\n",
       "      <td>Total Time Spent on Website</td>\n",
       "      <td>1.29</td>\n",
       "    </tr>\n",
       "    <tr>\n",
       "      <th>4</th>\n",
       "      <td>Last Activity_Email Bounced</td>\n",
       "      <td>1.20</td>\n",
       "    </tr>\n",
       "    <tr>\n",
       "      <th>9</th>\n",
       "      <td>What is your current occupation_Working Profes...</td>\n",
       "      <td>1.17</td>\n",
       "    </tr>\n",
       "    <tr>\n",
       "      <th>10</th>\n",
       "      <td>Last Notable Activity_Others</td>\n",
       "      <td>1.11</td>\n",
       "    </tr>\n",
       "  </tbody>\n",
       "</table>\n",
       "</div>"
      ],
      "text/plain": [
       "                                             Features   VIF\n",
       "7                               Specialization_others  2.49\n",
       "1                 Lead Origin_Landing Page Submission  2.48\n",
       "3                              Lead Source_Olark Chat  2.17\n",
       "5                          Last Activity_Email Opened  2.15\n",
       "11                     Last Notable Activity_SMS Sent  1.88\n",
       "6               Last Activity_Olark Chat Conversation  1.69\n",
       "8        What is your current occupation_Not provided  1.60\n",
       "2                           Lead Origin_Lead Add Form  1.31\n",
       "0                         Total Time Spent on Website  1.29\n",
       "4                         Last Activity_Email Bounced  1.20\n",
       "9   What is your current occupation_Working Profes...  1.17\n",
       "10                       Last Notable Activity_Others  1.11"
      ]
     },
     "execution_count": 542,
     "metadata": {},
     "output_type": "execute_result"
    }
   ],
   "source": [
    "# Create a dataframe that will contain the names of all the remaining feature variables and their respective VIFs\n",
    "vif = pd.DataFrame()\n",
    "vif['Features'] = X_train[col].columns\n",
    "vif['VIF'] = [variance_inflation_factor(X_train[col].values, i) for i in range(X_train[col].shape[1])]\n",
    "vif['VIF'] = round(vif['VIF'], 2)\n",
    "vif = vif.sort_values(by = \"VIF\", ascending = False)\n",
    "vif"
   ]
  },
  {
   "cell_type": "markdown",
   "id": "2b94e69c",
   "metadata": {},
   "source": [
    "#### So the Values all seem to be in order so now, Moving on to derive the Probabilities, Lead Score, Predictions on Train Data"
   ]
  },
  {
   "cell_type": "code",
   "execution_count": 543,
   "id": "d20bd9d9",
   "metadata": {},
   "outputs": [
    {
     "data": {
      "text/plain": [
       "7962    0.856325\n",
       "5520    0.130592\n",
       "1962    0.049424\n",
       "1566    0.945537\n",
       "9170    0.296183\n",
       "5097    0.126951\n",
       "8954    0.499302\n",
       "309     0.183619\n",
       "5519    0.335020\n",
       "1050    0.537601\n",
       "dtype: float64"
      ]
     },
     "execution_count": 543,
     "metadata": {},
     "output_type": "execute_result"
    }
   ],
   "source": [
    "# Getting the predicted values on the train set\n",
    "y_train_pred = logm4.predict(X_train_sm)           # giving prob. of getting 1\n",
    "\n",
    "y_train_pred[:10]"
   ]
  },
  {
   "cell_type": "code",
   "execution_count": 544,
   "id": "3c447477",
   "metadata": {},
   "outputs": [
    {
     "data": {
      "text/plain": [
       "array([0.85632457, 0.13059191, 0.04942351, 0.94553695, 0.29618265,\n",
       "       0.12695143, 0.49930175, 0.18361885, 0.33502031, 0.53760083])"
      ]
     },
     "execution_count": 544,
     "metadata": {},
     "output_type": "execute_result"
    }
   ],
   "source": [
    "y_train_pred = y_train_pred.values.reshape(-1)\n",
    "y_train_pred[:10]"
   ]
  },
  {
   "cell_type": "markdown",
   "id": "d522ed3a",
   "metadata": {},
   "source": [
    "#### Creating a dataframe with the actual churn flag and the predicted probabilities"
   ]
  },
  {
   "cell_type": "code",
   "execution_count": 545,
   "id": "80954697",
   "metadata": {},
   "outputs": [
    {
     "data": {
      "text/html": [
       "<div>\n",
       "<style scoped>\n",
       "    .dataframe tbody tr th:only-of-type {\n",
       "        vertical-align: middle;\n",
       "    }\n",
       "\n",
       "    .dataframe tbody tr th {\n",
       "        vertical-align: top;\n",
       "    }\n",
       "\n",
       "    .dataframe thead th {\n",
       "        text-align: right;\n",
       "    }\n",
       "</style>\n",
       "<table border=\"1\" class=\"dataframe\">\n",
       "  <thead>\n",
       "    <tr style=\"text-align: right;\">\n",
       "      <th></th>\n",
       "      <th>Converted</th>\n",
       "      <th>Converted_prob</th>\n",
       "      <th>Prospect ID</th>\n",
       "    </tr>\n",
       "  </thead>\n",
       "  <tbody>\n",
       "    <tr>\n",
       "      <th>0</th>\n",
       "      <td>0</td>\n",
       "      <td>0.856325</td>\n",
       "      <td>7962</td>\n",
       "    </tr>\n",
       "    <tr>\n",
       "      <th>1</th>\n",
       "      <td>0</td>\n",
       "      <td>0.130592</td>\n",
       "      <td>5520</td>\n",
       "    </tr>\n",
       "    <tr>\n",
       "      <th>2</th>\n",
       "      <td>0</td>\n",
       "      <td>0.049424</td>\n",
       "      <td>1962</td>\n",
       "    </tr>\n",
       "    <tr>\n",
       "      <th>3</th>\n",
       "      <td>1</td>\n",
       "      <td>0.945537</td>\n",
       "      <td>1566</td>\n",
       "    </tr>\n",
       "    <tr>\n",
       "      <th>4</th>\n",
       "      <td>0</td>\n",
       "      <td>0.296183</td>\n",
       "      <td>9170</td>\n",
       "    </tr>\n",
       "  </tbody>\n",
       "</table>\n",
       "</div>"
      ],
      "text/plain": [
       "   Converted  Converted_prob  Prospect ID\n",
       "0          0        0.856325         7962\n",
       "1          0        0.130592         5520\n",
       "2          0        0.049424         1962\n",
       "3          1        0.945537         1566\n",
       "4          0        0.296183         9170"
      ]
     },
     "execution_count": 545,
     "metadata": {},
     "output_type": "execute_result"
    }
   ],
   "source": [
    "y_train_pred_final = pd.DataFrame({'Converted':y_train.values, 'Converted_prob':y_train_pred})\n",
    "y_train_pred_final['Prospect ID'] = y_train.index\n",
    "y_train_pred_final.head()"
   ]
  },
  {
   "cell_type": "code",
   "execution_count": 546,
   "id": "8ebbb29b",
   "metadata": {},
   "outputs": [
    {
     "data": {
      "text/html": [
       "<div>\n",
       "<style scoped>\n",
       "    .dataframe tbody tr th:only-of-type {\n",
       "        vertical-align: middle;\n",
       "    }\n",
       "\n",
       "    .dataframe tbody tr th {\n",
       "        vertical-align: top;\n",
       "    }\n",
       "\n",
       "    .dataframe thead th {\n",
       "        text-align: right;\n",
       "    }\n",
       "</style>\n",
       "<table border=\"1\" class=\"dataframe\">\n",
       "  <thead>\n",
       "    <tr style=\"text-align: right;\">\n",
       "      <th></th>\n",
       "      <th>Converted</th>\n",
       "      <th>Converted_prob</th>\n",
       "      <th>Prospect ID</th>\n",
       "      <th>predicted</th>\n",
       "    </tr>\n",
       "  </thead>\n",
       "  <tbody>\n",
       "    <tr>\n",
       "      <th>0</th>\n",
       "      <td>0</td>\n",
       "      <td>0.856325</td>\n",
       "      <td>7962</td>\n",
       "      <td>1</td>\n",
       "    </tr>\n",
       "    <tr>\n",
       "      <th>1</th>\n",
       "      <td>0</td>\n",
       "      <td>0.130592</td>\n",
       "      <td>5520</td>\n",
       "      <td>0</td>\n",
       "    </tr>\n",
       "    <tr>\n",
       "      <th>2</th>\n",
       "      <td>0</td>\n",
       "      <td>0.049424</td>\n",
       "      <td>1962</td>\n",
       "      <td>0</td>\n",
       "    </tr>\n",
       "    <tr>\n",
       "      <th>3</th>\n",
       "      <td>1</td>\n",
       "      <td>0.945537</td>\n",
       "      <td>1566</td>\n",
       "      <td>1</td>\n",
       "    </tr>\n",
       "    <tr>\n",
       "      <th>4</th>\n",
       "      <td>0</td>\n",
       "      <td>0.296183</td>\n",
       "      <td>9170</td>\n",
       "      <td>0</td>\n",
       "    </tr>\n",
       "  </tbody>\n",
       "</table>\n",
       "</div>"
      ],
      "text/plain": [
       "   Converted  Converted_prob  Prospect ID  predicted\n",
       "0          0        0.856325         7962          1\n",
       "1          0        0.130592         5520          0\n",
       "2          0        0.049424         1962          0\n",
       "3          1        0.945537         1566          1\n",
       "4          0        0.296183         9170          0"
      ]
     },
     "execution_count": 546,
     "metadata": {},
     "output_type": "execute_result"
    }
   ],
   "source": [
    "# Creating new column 'predicted' with 1 if Churn_Prob > 0.5 else 0\n",
    "\n",
    "y_train_pred_final['predicted'] = y_train_pred_final.Converted_prob.map(lambda x: 1 if x > 0.5 else 0)\n",
    "\n",
    "# Let's see the head\n",
    "y_train_pred_final.head()"
   ]
  },
  {
   "cell_type": "code",
   "execution_count": 547,
   "id": "bae31e53",
   "metadata": {},
   "outputs": [
    {
     "name": "stdout",
     "output_type": "stream",
     "text": [
      "[[3518  435]\n",
      " [ 737 1682]]\n"
     ]
    }
   ],
   "source": [
    "from sklearn import metrics\n",
    "\n",
    "# Confusion matrix \n",
    "\n",
    "confusion = metrics.confusion_matrix(y_train_pred_final.Converted, y_train_pred_final.predicted )\n",
    "print(confusion)"
   ]
  },
  {
   "cell_type": "code",
   "execution_count": 548,
   "id": "bb417940",
   "metadata": {},
   "outputs": [
    {
     "name": "stdout",
     "output_type": "stream",
     "text": [
      "0.8160703075957313\n"
     ]
    }
   ],
   "source": [
    "# Let's check the overall accuracy.\n",
    "print(metrics.accuracy_score(y_train_pred_final.Converted, y_train_pred_final.predicted))"
   ]
  },
  {
   "cell_type": "code",
   "execution_count": 549,
   "id": "4e7da129",
   "metadata": {},
   "outputs": [],
   "source": [
    "# Check for the VIF values of the feature variables. \n",
    "from statsmodels.stats.outliers_influence import variance_inflation_factor"
   ]
  },
  {
   "cell_type": "code",
   "execution_count": 550,
   "id": "b1d0ea49",
   "metadata": {},
   "outputs": [
    {
     "data": {
      "text/html": [
       "<div>\n",
       "<style scoped>\n",
       "    .dataframe tbody tr th:only-of-type {\n",
       "        vertical-align: middle;\n",
       "    }\n",
       "\n",
       "    .dataframe tbody tr th {\n",
       "        vertical-align: top;\n",
       "    }\n",
       "\n",
       "    .dataframe thead th {\n",
       "        text-align: right;\n",
       "    }\n",
       "</style>\n",
       "<table border=\"1\" class=\"dataframe\">\n",
       "  <thead>\n",
       "    <tr style=\"text-align: right;\">\n",
       "      <th></th>\n",
       "      <th>Features</th>\n",
       "      <th>VIF</th>\n",
       "    </tr>\n",
       "  </thead>\n",
       "  <tbody>\n",
       "    <tr>\n",
       "      <th>7</th>\n",
       "      <td>Specialization_others</td>\n",
       "      <td>2.49</td>\n",
       "    </tr>\n",
       "    <tr>\n",
       "      <th>1</th>\n",
       "      <td>Lead Origin_Landing Page Submission</td>\n",
       "      <td>2.48</td>\n",
       "    </tr>\n",
       "    <tr>\n",
       "      <th>3</th>\n",
       "      <td>Lead Source_Olark Chat</td>\n",
       "      <td>2.17</td>\n",
       "    </tr>\n",
       "    <tr>\n",
       "      <th>5</th>\n",
       "      <td>Last Activity_Email Opened</td>\n",
       "      <td>2.15</td>\n",
       "    </tr>\n",
       "    <tr>\n",
       "      <th>11</th>\n",
       "      <td>Last Notable Activity_SMS Sent</td>\n",
       "      <td>1.88</td>\n",
       "    </tr>\n",
       "    <tr>\n",
       "      <th>6</th>\n",
       "      <td>Last Activity_Olark Chat Conversation</td>\n",
       "      <td>1.69</td>\n",
       "    </tr>\n",
       "    <tr>\n",
       "      <th>8</th>\n",
       "      <td>What is your current occupation_Not provided</td>\n",
       "      <td>1.60</td>\n",
       "    </tr>\n",
       "    <tr>\n",
       "      <th>2</th>\n",
       "      <td>Lead Origin_Lead Add Form</td>\n",
       "      <td>1.31</td>\n",
       "    </tr>\n",
       "    <tr>\n",
       "      <th>0</th>\n",
       "      <td>Total Time Spent on Website</td>\n",
       "      <td>1.29</td>\n",
       "    </tr>\n",
       "    <tr>\n",
       "      <th>4</th>\n",
       "      <td>Last Activity_Email Bounced</td>\n",
       "      <td>1.20</td>\n",
       "    </tr>\n",
       "    <tr>\n",
       "      <th>9</th>\n",
       "      <td>What is your current occupation_Working Profes...</td>\n",
       "      <td>1.17</td>\n",
       "    </tr>\n",
       "    <tr>\n",
       "      <th>10</th>\n",
       "      <td>Last Notable Activity_Others</td>\n",
       "      <td>1.11</td>\n",
       "    </tr>\n",
       "  </tbody>\n",
       "</table>\n",
       "</div>"
      ],
      "text/plain": [
       "                                             Features   VIF\n",
       "7                               Specialization_others  2.49\n",
       "1                 Lead Origin_Landing Page Submission  2.48\n",
       "3                              Lead Source_Olark Chat  2.17\n",
       "5                          Last Activity_Email Opened  2.15\n",
       "11                     Last Notable Activity_SMS Sent  1.88\n",
       "6               Last Activity_Olark Chat Conversation  1.69\n",
       "8        What is your current occupation_Not provided  1.60\n",
       "2                           Lead Origin_Lead Add Form  1.31\n",
       "0                         Total Time Spent on Website  1.29\n",
       "4                         Last Activity_Email Bounced  1.20\n",
       "9   What is your current occupation_Working Profes...  1.17\n",
       "10                       Last Notable Activity_Others  1.11"
      ]
     },
     "execution_count": 550,
     "metadata": {},
     "output_type": "execute_result"
    }
   ],
   "source": [
    "# Create a dataframe that will contain the names of all the feature variables and their respective VIFs\n",
    "vif = pd.DataFrame()\n",
    "vif['Features'] = X_train[col].columns\n",
    "vif['VIF'] = [variance_inflation_factor(X_train[col].values, i) for i in range(X_train[col].shape[1])]\n",
    "vif['VIF'] = round(vif['VIF'], 2)\n",
    "vif = vif.sort_values(by = \"VIF\", ascending = False)\n",
    "vif"
   ]
  },
  {
   "cell_type": "code",
   "execution_count": 551,
   "id": "e98ecab5",
   "metadata": {},
   "outputs": [],
   "source": [
    "## We have taken VIF cutoff as 5 and from above we can see all the values are below cutoff value."
   ]
  },
  {
   "cell_type": "markdown",
   "id": "579c2d3c",
   "metadata": {},
   "source": [
    "## Metrics beyond simply accuracy"
   ]
  },
  {
   "cell_type": "code",
   "execution_count": 552,
   "id": "cc6fc7c5",
   "metadata": {},
   "outputs": [],
   "source": [
    "TP = confusion[1,1] # true positive \n",
    "TN = confusion[0,0] # true negatives\n",
    "FP = confusion[0,1] # false positives\n",
    "FN = confusion[1,0] # false negatives"
   ]
  },
  {
   "cell_type": "code",
   "execution_count": 553,
   "id": "cd77819e",
   "metadata": {},
   "outputs": [
    {
     "data": {
      "text/plain": [
       "0.6953286482017362"
      ]
     },
     "execution_count": 553,
     "metadata": {},
     "output_type": "execute_result"
    }
   ],
   "source": [
    "# Let's see the sensitivity of our logistic regression model\n",
    "TP / float(TP+FN)"
   ]
  },
  {
   "cell_type": "code",
   "execution_count": 554,
   "id": "794b865b",
   "metadata": {},
   "outputs": [
    {
     "data": {
      "text/plain": [
       "0.889956994687579"
      ]
     },
     "execution_count": 554,
     "metadata": {},
     "output_type": "execute_result"
    }
   ],
   "source": [
    "# Let us calculate specificity\n",
    "TN / float(TN+FP)"
   ]
  },
  {
   "cell_type": "code",
   "execution_count": 555,
   "id": "0739c663",
   "metadata": {},
   "outputs": [
    {
     "name": "stdout",
     "output_type": "stream",
     "text": [
      "0.7945205479452054\n"
     ]
    }
   ],
   "source": [
    "# positive predictive value \n",
    "print (TP / float(TP+FP))"
   ]
  },
  {
   "cell_type": "code",
   "execution_count": 556,
   "id": "5a604f13",
   "metadata": {},
   "outputs": [
    {
     "name": "stdout",
     "output_type": "stream",
     "text": [
      "0.8267920094007051\n"
     ]
    }
   ],
   "source": [
    "# Negative predictive value\n",
    "print (TN / float(TN+ FN))"
   ]
  },
  {
   "cell_type": "markdown",
   "id": "5aa82652",
   "metadata": {},
   "source": [
    "### Plotting the ROC Curve"
   ]
  },
  {
   "cell_type": "code",
   "execution_count": 557,
   "id": "e36abc2e",
   "metadata": {},
   "outputs": [],
   "source": [
    "def draw_roc( actual, probs ):\n",
    "    fpr, tpr, thresholds = metrics.roc_curve( actual, probs,\n",
    "                                              drop_intermediate = False )\n",
    "    auc_score = metrics.roc_auc_score( actual, probs )\n",
    "    plt.figure(figsize=(5, 5))\n",
    "    plt.plot( fpr, tpr, label='ROC curve (area = %0.2f)' % auc_score )\n",
    "    plt.plot([0, 1], [0, 1], 'k--')\n",
    "    plt.xlim([0.0, 1.0])\n",
    "    plt.ylim([0.0, 1.05])\n",
    "    plt.xlabel('False Positive Rate or [1 - True Negative Rate]')\n",
    "    plt.ylabel('True Positive Rate')\n",
    "    plt.title('Receiver operating characteristic example')\n",
    "    plt.legend(loc=\"lower right\")\n",
    "    plt.show()\n",
    "\n",
    "    return None"
   ]
  },
  {
   "cell_type": "code",
   "execution_count": 558,
   "id": "04fe6ee1",
   "metadata": {},
   "outputs": [],
   "source": [
    "fpr, tpr, thresholds = metrics.roc_curve( y_train_pred_final.Converted, y_train_pred_final.Converted_prob, drop_intermediate = False )"
   ]
  },
  {
   "cell_type": "code",
   "execution_count": 559,
   "id": "e849bc2f",
   "metadata": {},
   "outputs": [
    {
     "data": {
      "image/png": "[encoded data removed]",
      "text/plain": [
       "<Figure size 360x360 with 1 Axes>"
      ]
     },
     "metadata": {
      "needs_background": "light"
     },
     "output_type": "display_data"
    }
   ],
   "source": [
    "draw_roc(y_train_pred_final.Converted, y_train_pred_final.Converted_prob)"
   ]
  },
  {
   "cell_type": "code",
   "execution_count": 560,
   "id": "2d3e71f8",
   "metadata": {},
   "outputs": [],
   "source": [
    "## Finding Optimal Cutoff Point|"
   ]
  },
  {
   "cell_type": "code",
   "execution_count": 561,
   "id": "f4f516eb",
   "metadata": {},
   "outputs": [
    {
     "data": {
      "text/html": [
       "<div>\n",
       "<style scoped>\n",
       "    .dataframe tbody tr th:only-of-type {\n",
       "        vertical-align: middle;\n",
       "    }\n",
       "\n",
       "    .dataframe tbody tr th {\n",
       "        vertical-align: top;\n",
       "    }\n",
       "\n",
       "    .dataframe thead th {\n",
       "        text-align: right;\n",
       "    }\n",
       "</style>\n",
       "<table border=\"1\" class=\"dataframe\">\n",
       "  <thead>\n",
       "    <tr style=\"text-align: right;\">\n",
       "      <th></th>\n",
       "      <th>Converted</th>\n",
       "      <th>Converted_prob</th>\n",
       "      <th>Prospect ID</th>\n",
       "      <th>predicted</th>\n",
       "      <th>0.0</th>\n",
       "      <th>0.1</th>\n",
       "      <th>0.2</th>\n",
       "      <th>0.3</th>\n",
       "      <th>0.4</th>\n",
       "      <th>0.5</th>\n",
       "      <th>0.6</th>\n",
       "      <th>0.7</th>\n",
       "      <th>0.8</th>\n",
       "      <th>0.9</th>\n",
       "    </tr>\n",
       "  </thead>\n",
       "  <tbody>\n",
       "    <tr>\n",
       "      <th>0</th>\n",
       "      <td>0</td>\n",
       "      <td>0.856325</td>\n",
       "      <td>7962</td>\n",
       "      <td>1</td>\n",
       "      <td>1</td>\n",
       "      <td>1</td>\n",
       "      <td>1</td>\n",
       "      <td>1</td>\n",
       "      <td>1</td>\n",
       "      <td>1</td>\n",
       "      <td>1</td>\n",
       "      <td>1</td>\n",
       "      <td>1</td>\n",
       "      <td>0</td>\n",
       "    </tr>\n",
       "    <tr>\n",
       "      <th>1</th>\n",
       "      <td>0</td>\n",
       "      <td>0.130592</td>\n",
       "      <td>5520</td>\n",
       "      <td>0</td>\n",
       "      <td>1</td>\n",
       "      <td>1</td>\n",
       "      <td>0</td>\n",
       "      <td>0</td>\n",
       "      <td>0</td>\n",
       "      <td>0</td>\n",
       "      <td>0</td>\n",
       "      <td>0</td>\n",
       "      <td>0</td>\n",
       "      <td>0</td>\n",
       "    </tr>\n",
       "    <tr>\n",
       "      <th>2</th>\n",
       "      <td>0</td>\n",
       "      <td>0.049424</td>\n",
       "      <td>1962</td>\n",
       "      <td>0</td>\n",
       "      <td>1</td>\n",
       "      <td>0</td>\n",
       "      <td>0</td>\n",
       "      <td>0</td>\n",
       "      <td>0</td>\n",
       "      <td>0</td>\n",
       "      <td>0</td>\n",
       "      <td>0</td>\n",
       "      <td>0</td>\n",
       "      <td>0</td>\n",
       "    </tr>\n",
       "    <tr>\n",
       "      <th>3</th>\n",
       "      <td>1</td>\n",
       "      <td>0.945537</td>\n",
       "      <td>1566</td>\n",
       "      <td>1</td>\n",
       "      <td>1</td>\n",
       "      <td>1</td>\n",
       "      <td>1</td>\n",
       "      <td>1</td>\n",
       "      <td>1</td>\n",
       "      <td>1</td>\n",
       "      <td>1</td>\n",
       "      <td>1</td>\n",
       "      <td>1</td>\n",
       "      <td>1</td>\n",
       "    </tr>\n",
       "    <tr>\n",
       "      <th>4</th>\n",
       "      <td>0</td>\n",
       "      <td>0.296183</td>\n",
       "      <td>9170</td>\n",
       "      <td>0</td>\n",
       "      <td>1</td>\n",
       "      <td>1</td>\n",
       "      <td>1</td>\n",
       "      <td>0</td>\n",
       "      <td>0</td>\n",
       "      <td>0</td>\n",
       "      <td>0</td>\n",
       "      <td>0</td>\n",
       "      <td>0</td>\n",
       "      <td>0</td>\n",
       "    </tr>\n",
       "  </tbody>\n",
       "</table>\n",
       "</div>"
      ],
      "text/plain": [
       "   Converted  Converted_prob  Prospect ID  predicted  0.0  0.1  0.2  0.3  0.4  \\\n",
       "0          0        0.856325         7962          1    1    1    1    1    1   \n",
       "1          0        0.130592         5520          0    1    1    0    0    0   \n",
       "2          0        0.049424         1962          0    1    0    0    0    0   \n",
       "3          1        0.945537         1566          1    1    1    1    1    1   \n",
       "4          0        0.296183         9170          0    1    1    1    0    0   \n",
       "\n",
       "   0.5  0.6  0.7  0.8  0.9  \n",
       "0    1    1    1    1    0  \n",
       "1    0    0    0    0    0  \n",
       "2    0    0    0    0    0  \n",
       "3    1    1    1    1    1  \n",
       "4    0    0    0    0    0  "
      ]
     },
     "execution_count": 561,
     "metadata": {},
     "output_type": "execute_result"
    }
   ],
   "source": [
    "# Let's create columns with different probability cutoffs \n",
    "numbers = [float(x)/10 for x in range(10)]\n",
    "for i in numbers:\n",
    "    y_train_pred_final[i]= y_train_pred_final.Converted_prob.map(lambda x: 1 if x > i else 0)\n",
    "y_train_pred_final.head()"
   ]
  },
  {
   "cell_type": "code",
   "execution_count": 562,
   "id": "9bfa2f20",
   "metadata": {},
   "outputs": [
    {
     "name": "stdout",
     "output_type": "stream",
     "text": [
      "     prob  accuracy     sensi     speci\n",
      "0.0   0.0  0.379630  1.000000  0.000000\n",
      "0.1   0.1  0.624765  0.972716  0.411839\n",
      "0.2   0.2  0.757219  0.913187  0.661776\n",
      "0.3   0.3  0.792844  0.839190  0.764483\n",
      "0.4   0.4  0.809950  0.768913  0.835062\n",
      "0.5   0.5  0.816070  0.695329  0.889957\n",
      "0.6   0.6  0.803672  0.599835  0.928409\n",
      "0.7   0.7  0.787351  0.522117  0.949658\n",
      "0.8   0.8  0.759573  0.416288  0.969643\n",
      "0.9   0.9  0.717514  0.276147  0.987604\n"
     ]
    }
   ],
   "source": [
    "# Now let's calculate accuracy sensitivity and specificity for various probability cutoffs.\n",
    "cutoff_df = pd.DataFrame( columns = ['prob','accuracy','sensi','speci'])\n",
    "from sklearn.metrics import confusion_matrix\n",
    "\n",
    "# TP = confusion[1,1] # true positive \n",
    "# TN = confusion[0,0] # true negatives\n",
    "# FP = confusion[0,1] # false positives\n",
    "# FN = confusion[1,0] # false negatives\n",
    "\n",
    "num = [0.0,0.1,0.2,0.3,0.4,0.5,0.6,0.7,0.8,0.9]\n",
    "for i in num:\n",
    "    cm1 = metrics.confusion_matrix(y_train_pred_final.Converted, y_train_pred_final[i] )\n",
    "    total1=sum(sum(cm1))\n",
    "    accuracy = (cm1[0,0]+cm1[1,1])/total1\n",
    "    \n",
    "    speci = cm1[0,0]/(cm1[0,0]+cm1[0,1])\n",
    "    sensi = cm1[1,1]/(cm1[1,0]+cm1[1,1])\n",
    "    cutoff_df.loc[i] =[ i ,accuracy,sensi,speci]\n",
    "print(cutoff_df)"
   ]
  },
  {
   "cell_type": "code",
   "execution_count": 563,
   "id": "390d3272",
   "metadata": {},
   "outputs": [
    {
     "data": {
      "image/png": "[encoded data removed]",
      "text/plain": [
       "<Figure size 432x288 with 1 Axes>"
      ]
     },
     "metadata": {
      "needs_background": "light"
     },
     "output_type": "display_data"
    }
   ],
   "source": [
    "# Let's plot accuracy sensitivity and specificity for various probabilities.\n",
    "cutoff_df.plot.line(x='prob', y=['accuracy','sensi','speci'])\n",
    "plt.show()"
   ]
  },
  {
   "cell_type": "code",
   "execution_count": 564,
   "id": "647d58d5",
   "metadata": {},
   "outputs": [],
   "source": [
    "## From the curve above, 0.3 is the optimum point to take it as a cutoff probability."
   ]
  },
  {
   "cell_type": "code",
   "execution_count": 565,
   "id": "5daa1f1d",
   "metadata": {},
   "outputs": [
    {
     "data": {
      "text/html": [
       "<div>\n",
       "<style scoped>\n",
       "    .dataframe tbody tr th:only-of-type {\n",
       "        vertical-align: middle;\n",
       "    }\n",
       "\n",
       "    .dataframe tbody tr th {\n",
       "        vertical-align: top;\n",
       "    }\n",
       "\n",
       "    .dataframe thead th {\n",
       "        text-align: right;\n",
       "    }\n",
       "</style>\n",
       "<table border=\"1\" class=\"dataframe\">\n",
       "  <thead>\n",
       "    <tr style=\"text-align: right;\">\n",
       "      <th></th>\n",
       "      <th>Converted</th>\n",
       "      <th>Converted_prob</th>\n",
       "      <th>Prospect ID</th>\n",
       "      <th>predicted</th>\n",
       "      <th>0.0</th>\n",
       "      <th>0.1</th>\n",
       "      <th>0.2</th>\n",
       "      <th>0.3</th>\n",
       "      <th>0.4</th>\n",
       "      <th>0.5</th>\n",
       "      <th>0.6</th>\n",
       "      <th>0.7</th>\n",
       "      <th>0.8</th>\n",
       "      <th>0.9</th>\n",
       "      <th>final_predicted</th>\n",
       "    </tr>\n",
       "  </thead>\n",
       "  <tbody>\n",
       "    <tr>\n",
       "      <th>0</th>\n",
       "      <td>0</td>\n",
       "      <td>0.856325</td>\n",
       "      <td>7962</td>\n",
       "      <td>1</td>\n",
       "      <td>1</td>\n",
       "      <td>1</td>\n",
       "      <td>1</td>\n",
       "      <td>1</td>\n",
       "      <td>1</td>\n",
       "      <td>1</td>\n",
       "      <td>1</td>\n",
       "      <td>1</td>\n",
       "      <td>1</td>\n",
       "      <td>0</td>\n",
       "      <td>1</td>\n",
       "    </tr>\n",
       "    <tr>\n",
       "      <th>1</th>\n",
       "      <td>0</td>\n",
       "      <td>0.130592</td>\n",
       "      <td>5520</td>\n",
       "      <td>0</td>\n",
       "      <td>1</td>\n",
       "      <td>1</td>\n",
       "      <td>0</td>\n",
       "      <td>0</td>\n",
       "      <td>0</td>\n",
       "      <td>0</td>\n",
       "      <td>0</td>\n",
       "      <td>0</td>\n",
       "      <td>0</td>\n",
       "      <td>0</td>\n",
       "      <td>0</td>\n",
       "    </tr>\n",
       "    <tr>\n",
       "      <th>2</th>\n",
       "      <td>0</td>\n",
       "      <td>0.049424</td>\n",
       "      <td>1962</td>\n",
       "      <td>0</td>\n",
       "      <td>1</td>\n",
       "      <td>0</td>\n",
       "      <td>0</td>\n",
       "      <td>0</td>\n",
       "      <td>0</td>\n",
       "      <td>0</td>\n",
       "      <td>0</td>\n",
       "      <td>0</td>\n",
       "      <td>0</td>\n",
       "      <td>0</td>\n",
       "      <td>0</td>\n",
       "    </tr>\n",
       "    <tr>\n",
       "      <th>3</th>\n",
       "      <td>1</td>\n",
       "      <td>0.945537</td>\n",
       "      <td>1566</td>\n",
       "      <td>1</td>\n",
       "      <td>1</td>\n",
       "      <td>1</td>\n",
       "      <td>1</td>\n",
       "      <td>1</td>\n",
       "      <td>1</td>\n",
       "      <td>1</td>\n",
       "      <td>1</td>\n",
       "      <td>1</td>\n",
       "      <td>1</td>\n",
       "      <td>1</td>\n",
       "      <td>1</td>\n",
       "    </tr>\n",
       "    <tr>\n",
       "      <th>4</th>\n",
       "      <td>0</td>\n",
       "      <td>0.296183</td>\n",
       "      <td>9170</td>\n",
       "      <td>0</td>\n",
       "      <td>1</td>\n",
       "      <td>1</td>\n",
       "      <td>1</td>\n",
       "      <td>0</td>\n",
       "      <td>0</td>\n",
       "      <td>0</td>\n",
       "      <td>0</td>\n",
       "      <td>0</td>\n",
       "      <td>0</td>\n",
       "      <td>0</td>\n",
       "      <td>0</td>\n",
       "    </tr>\n",
       "  </tbody>\n",
       "</table>\n",
       "</div>"
      ],
      "text/plain": [
       "   Converted  Converted_prob  Prospect ID  predicted  0.0  0.1  0.2  0.3  0.4  \\\n",
       "0          0        0.856325         7962          1    1    1    1    1    1   \n",
       "1          0        0.130592         5520          0    1    1    0    0    0   \n",
       "2          0        0.049424         1962          0    1    0    0    0    0   \n",
       "3          1        0.945537         1566          1    1    1    1    1    1   \n",
       "4          0        0.296183         9170          0    1    1    1    0    0   \n",
       "\n",
       "   0.5  0.6  0.7  0.8  0.9  final_predicted  \n",
       "0    1    1    1    1    0                1  \n",
       "1    0    0    0    0    0                0  \n",
       "2    0    0    0    0    0                0  \n",
       "3    1    1    1    1    1                1  \n",
       "4    0    0    0    0    0                0  "
      ]
     },
     "execution_count": 565,
     "metadata": {},
     "output_type": "execute_result"
    }
   ],
   "source": [
    "y_train_pred_final['final_predicted'] = y_train_pred_final.Converted_prob.map( lambda x: 1 if x > 0.3 else 0)\n",
    "\n",
    "y_train_pred_final.head()"
   ]
  },
  {
   "cell_type": "code",
   "execution_count": 566,
   "id": "2c67daa5",
   "metadata": {},
   "outputs": [
    {
     "data": {
      "text/plain": [
       "0.7928436911487758"
      ]
     },
     "execution_count": 566,
     "metadata": {},
     "output_type": "execute_result"
    }
   ],
   "source": [
    "# Let's check the overall accuracy.\n",
    "metrics.accuracy_score(y_train_pred_final.Converted, y_train_pred_final.final_predicted)"
   ]
  },
  {
   "cell_type": "code",
   "execution_count": 567,
   "id": "0dd23a93",
   "metadata": {},
   "outputs": [
    {
     "data": {
      "text/plain": [
       "array([[3022,  931],\n",
       "       [ 389, 2030]], dtype=int64)"
      ]
     },
     "execution_count": 567,
     "metadata": {},
     "output_type": "execute_result"
    }
   ],
   "source": [
    "confusion2 = metrics.confusion_matrix(y_train_pred_final.Converted, y_train_pred_final.final_predicted )\n",
    "confusion2"
   ]
  },
  {
   "cell_type": "code",
   "execution_count": 568,
   "id": "b58574b7",
   "metadata": {},
   "outputs": [],
   "source": [
    "TP = confusion2[1,1] # true positive \n",
    "TN = confusion2[0,0] # true negatives\n",
    "FP = confusion2[0,1] # false positives\n",
    "FN = confusion2[1,0] # false negatives"
   ]
  },
  {
   "cell_type": "code",
   "execution_count": 569,
   "id": "5fbb1cef",
   "metadata": {},
   "outputs": [
    {
     "data": {
      "text/plain": [
       "0.8391897478296817"
      ]
     },
     "execution_count": 569,
     "metadata": {},
     "output_type": "execute_result"
    }
   ],
   "source": [
    "# Let's see the sensitivity of our logistic regression model\n",
    "TP / float(TP+FN)"
   ]
  },
  {
   "cell_type": "code",
   "execution_count": 570,
   "id": "fd284065",
   "metadata": {},
   "outputs": [
    {
     "data": {
      "text/plain": [
       "0.7644826713888186"
      ]
     },
     "execution_count": 570,
     "metadata": {},
     "output_type": "execute_result"
    }
   ],
   "source": [
    "# Let us calculate specificity\n",
    "TN / float(TN+FP)"
   ]
  },
  {
   "cell_type": "code",
   "execution_count": 571,
   "id": "4dfd4f02",
   "metadata": {},
   "outputs": [
    {
     "name": "stdout",
     "output_type": "stream",
     "text": [
      "0.23551732861118138\n"
     ]
    }
   ],
   "source": [
    "# Calculate false postive rate - predicting churn when customer does not have churned\n",
    "print(FP/ float(TN+FP))"
   ]
  },
  {
   "cell_type": "code",
   "execution_count": 572,
   "id": "ea12408b",
   "metadata": {},
   "outputs": [
    {
     "name": "stdout",
     "output_type": "stream",
     "text": [
      "0.6855791962174941\n"
     ]
    }
   ],
   "source": [
    "# Positive predictive value \n",
    "print (TP / float(TP+FP))"
   ]
  },
  {
   "cell_type": "code",
   "execution_count": 573,
   "id": "d41da719",
   "metadata": {},
   "outputs": [
    {
     "name": "stdout",
     "output_type": "stream",
     "text": [
      "0.8859571973028437\n"
     ]
    }
   ],
   "source": [
    "# Negative predictive value\n",
    "print (TN / float(TN+ FN))"
   ]
  },
  {
   "cell_type": "markdown",
   "id": "a8945dd1",
   "metadata": {},
   "source": [
    "### Precision and Recall"
   ]
  },
  {
   "cell_type": "code",
   "execution_count": 574,
   "id": "ade76693",
   "metadata": {},
   "outputs": [],
   "source": [
    "#Looking at the confusion matrix again"
   ]
  },
  {
   "cell_type": "code",
   "execution_count": 575,
   "id": "43ed6518",
   "metadata": {},
   "outputs": [
    {
     "data": {
      "text/plain": [
       "array([[3518,  435],\n",
       "       [ 737, 1682]], dtype=int64)"
      ]
     },
     "execution_count": 575,
     "metadata": {},
     "output_type": "execute_result"
    }
   ],
   "source": [
    "confusion = metrics.confusion_matrix(y_train_pred_final.Converted, y_train_pred_final.predicted )\n",
    "confusion"
   ]
  },
  {
   "cell_type": "markdown",
   "id": "f6e54efe",
   "metadata": {},
   "source": [
    "Precision\n",
    "\n",
    "TP / TP + FP"
   ]
  },
  {
   "cell_type": "code",
   "execution_count": 576,
   "id": "0449eac5",
   "metadata": {},
   "outputs": [
    {
     "data": {
      "text/plain": [
       "0.7945205479452054"
      ]
     },
     "execution_count": 576,
     "metadata": {},
     "output_type": "execute_result"
    }
   ],
   "source": [
    "confusion[1,1]/(confusion[0,1]+confusion[1,1])"
   ]
  },
  {
   "cell_type": "markdown",
   "id": "4264ad3e",
   "metadata": {},
   "source": [
    "Recall\n",
    "\n",
    "TP / TP + FN"
   ]
  },
  {
   "cell_type": "code",
   "execution_count": 577,
   "id": "b7d75649",
   "metadata": {},
   "outputs": [
    {
     "data": {
      "text/plain": [
       "0.6953286482017362"
      ]
     },
     "execution_count": 577,
     "metadata": {},
     "output_type": "execute_result"
    }
   ],
   "source": [
    "confusion[1,1]/(confusion[1,0]+confusion[1,1])"
   ]
  },
  {
   "cell_type": "code",
   "execution_count": 578,
   "id": "ad0647a6",
   "metadata": {},
   "outputs": [],
   "source": [
    "## Using sklearn utilities for the same"
   ]
  },
  {
   "cell_type": "code",
   "execution_count": 579,
   "id": "63e783b1",
   "metadata": {},
   "outputs": [],
   "source": [
    "from sklearn.metrics import precision_score, recall_score"
   ]
  },
  {
   "cell_type": "code",
   "execution_count": 580,
   "id": "0d10a830",
   "metadata": {},
   "outputs": [
    {
     "data": {
      "text/plain": [
       "0.7945205479452054"
      ]
     },
     "execution_count": 580,
     "metadata": {},
     "output_type": "execute_result"
    }
   ],
   "source": [
    "precision_score(y_train_pred_final.Converted, y_train_pred_final.predicted)"
   ]
  },
  {
   "cell_type": "code",
   "execution_count": 581,
   "id": "3e2ecf41",
   "metadata": {},
   "outputs": [
    {
     "data": {
      "text/plain": [
       "0.6953286482017362"
      ]
     },
     "execution_count": 581,
     "metadata": {},
     "output_type": "execute_result"
    }
   ],
   "source": [
    "recall_score(y_train_pred_final.Converted, y_train_pred_final.predicted)"
   ]
  },
  {
   "cell_type": "markdown",
   "id": "39a67de2",
   "metadata": {},
   "source": [
    "## Precision and recall tradeoff"
   ]
  },
  {
   "cell_type": "code",
   "execution_count": 582,
   "id": "c4b9fb92",
   "metadata": {},
   "outputs": [],
   "source": [
    "from sklearn.metrics import precision_recall_curve"
   ]
  },
  {
   "cell_type": "code",
   "execution_count": 583,
   "id": "b2b8f34f",
   "metadata": {},
   "outputs": [
    {
     "data": {
      "text/plain": [
       "(0       0\n",
       " 1       0\n",
       " 2       0\n",
       " 3       1\n",
       " 4       0\n",
       "        ..\n",
       " 6367    0\n",
       " 6368    1\n",
       " 6369    1\n",
       " 6370    1\n",
       " 6371    0\n",
       " Name: Converted, Length: 6372, dtype: int64,\n",
       " 0       1\n",
       " 1       0\n",
       " 2       0\n",
       " 3       1\n",
       " 4       0\n",
       "        ..\n",
       " 6367    0\n",
       " 6368    1\n",
       " 6369    1\n",
       " 6370    1\n",
       " 6371    0\n",
       " Name: predicted, Length: 6372, dtype: int64)"
      ]
     },
     "execution_count": 583,
     "metadata": {},
     "output_type": "execute_result"
    }
   ],
   "source": [
    "y_train_pred_final.Converted, y_train_pred_final.predicted"
   ]
  },
  {
   "cell_type": "code",
   "execution_count": 584,
   "id": "cf22fac0",
   "metadata": {},
   "outputs": [],
   "source": [
    "p, r, thresholds = precision_recall_curve(y_train_pred_final.Converted, y_train_pred_final.Converted_prob)"
   ]
  },
  {
   "cell_type": "code",
   "execution_count": 585,
   "id": "02856909",
   "metadata": {},
   "outputs": [
    {
     "data": {
      "image/png": "[encoded data removed]",
      "text/plain": [
       "<Figure size 432x288 with 1 Axes>"
      ]
     },
     "metadata": {
      "needs_background": "light"
     },
     "output_type": "display_data"
    }
   ],
   "source": [
    "plt.plot(thresholds, p[:-1], \"g-\")\n",
    "plt.plot(thresholds, r[:-1], \"r-\")\n",
    "plt.show()"
   ]
  },
  {
   "cell_type": "markdown",
   "id": "3648549e",
   "metadata": {},
   "source": [
    "## Making predictions on the test set"
   ]
  },
  {
   "cell_type": "code",
   "execution_count": 586,
   "id": "f4cfa737",
   "metadata": {},
   "outputs": [
    {
     "data": {
      "text/html": [
       "<div>\n",
       "<style scoped>\n",
       "    .dataframe tbody tr th:only-of-type {\n",
       "        vertical-align: middle;\n",
       "    }\n",
       "\n",
       "    .dataframe tbody tr th {\n",
       "        vertical-align: top;\n",
       "    }\n",
       "\n",
       "    .dataframe thead th {\n",
       "        text-align: right;\n",
       "    }\n",
       "</style>\n",
       "<table border=\"1\" class=\"dataframe\">\n",
       "  <thead>\n",
       "    <tr style=\"text-align: right;\">\n",
       "      <th></th>\n",
       "      <th>TotalVisits</th>\n",
       "      <th>Total Time Spent on Website</th>\n",
       "      <th>Page Views Per Visit</th>\n",
       "      <th>Lead Origin_Landing Page Submission</th>\n",
       "      <th>Lead Origin_Lead Add Form</th>\n",
       "      <th>Lead Origin_Lead Import</th>\n",
       "      <th>Lead Source_Facebook</th>\n",
       "      <th>Lead Source_Google</th>\n",
       "      <th>Lead Source_Olark Chat</th>\n",
       "      <th>Lead Source_Organic Search</th>\n",
       "      <th>...</th>\n",
       "      <th>What is your current occupation_Other</th>\n",
       "      <th>What is your current occupation_Student</th>\n",
       "      <th>What is your current occupation_Unemployed</th>\n",
       "      <th>What is your current occupation_Working Professional</th>\n",
       "      <th>Last Notable Activity_Email Opened</th>\n",
       "      <th>Last Notable Activity_Modified</th>\n",
       "      <th>Last Notable Activity_Olark Chat Conversation</th>\n",
       "      <th>Last Notable Activity_Others</th>\n",
       "      <th>Last Notable Activity_Page Visited on Website</th>\n",
       "      <th>Last Notable Activity_SMS Sent</th>\n",
       "    </tr>\n",
       "  </thead>\n",
       "  <tbody>\n",
       "    <tr>\n",
       "      <th>3504</th>\n",
       "      <td>-0.058621</td>\n",
       "      <td>-0.108519</td>\n",
       "      <td>0.416452</td>\n",
       "      <td>1</td>\n",
       "      <td>0</td>\n",
       "      <td>0</td>\n",
       "      <td>0</td>\n",
       "      <td>0</td>\n",
       "      <td>0</td>\n",
       "      <td>1</td>\n",
       "      <td>...</td>\n",
       "      <td>0</td>\n",
       "      <td>0</td>\n",
       "      <td>1</td>\n",
       "      <td>0</td>\n",
       "      <td>1</td>\n",
       "      <td>0</td>\n",
       "      <td>0</td>\n",
       "      <td>0</td>\n",
       "      <td>0</td>\n",
       "      <td>0</td>\n",
       "    </tr>\n",
       "    <tr>\n",
       "      <th>4050</th>\n",
       "      <td>-1.150166</td>\n",
       "      <td>-0.888077</td>\n",
       "      <td>-1.263530</td>\n",
       "      <td>0</td>\n",
       "      <td>1</td>\n",
       "      <td>0</td>\n",
       "      <td>0</td>\n",
       "      <td>0</td>\n",
       "      <td>0</td>\n",
       "      <td>0</td>\n",
       "      <td>...</td>\n",
       "      <td>0</td>\n",
       "      <td>0</td>\n",
       "      <td>1</td>\n",
       "      <td>0</td>\n",
       "      <td>0</td>\n",
       "      <td>0</td>\n",
       "      <td>0</td>\n",
       "      <td>0</td>\n",
       "      <td>0</td>\n",
       "      <td>1</td>\n",
       "    </tr>\n",
       "    <tr>\n",
       "      <th>7201</th>\n",
       "      <td>-0.422469</td>\n",
       "      <td>0.420993</td>\n",
       "      <td>-0.143542</td>\n",
       "      <td>1</td>\n",
       "      <td>0</td>\n",
       "      <td>0</td>\n",
       "      <td>0</td>\n",
       "      <td>0</td>\n",
       "      <td>0</td>\n",
       "      <td>0</td>\n",
       "      <td>...</td>\n",
       "      <td>0</td>\n",
       "      <td>0</td>\n",
       "      <td>1</td>\n",
       "      <td>0</td>\n",
       "      <td>0</td>\n",
       "      <td>0</td>\n",
       "      <td>0</td>\n",
       "      <td>0</td>\n",
       "      <td>0</td>\n",
       "      <td>1</td>\n",
       "    </tr>\n",
       "    <tr>\n",
       "      <th>1196</th>\n",
       "      <td>0.305228</td>\n",
       "      <td>-0.110357</td>\n",
       "      <td>0.976446</td>\n",
       "      <td>1</td>\n",
       "      <td>0</td>\n",
       "      <td>0</td>\n",
       "      <td>0</td>\n",
       "      <td>0</td>\n",
       "      <td>0</td>\n",
       "      <td>1</td>\n",
       "      <td>...</td>\n",
       "      <td>0</td>\n",
       "      <td>0</td>\n",
       "      <td>1</td>\n",
       "      <td>0</td>\n",
       "      <td>1</td>\n",
       "      <td>0</td>\n",
       "      <td>0</td>\n",
       "      <td>0</td>\n",
       "      <td>0</td>\n",
       "      <td>0</td>\n",
       "    </tr>\n",
       "    <tr>\n",
       "      <th>8219</th>\n",
       "      <td>1.396773</td>\n",
       "      <td>-0.433947</td>\n",
       "      <td>-0.283540</td>\n",
       "      <td>1</td>\n",
       "      <td>0</td>\n",
       "      <td>0</td>\n",
       "      <td>0</td>\n",
       "      <td>0</td>\n",
       "      <td>0</td>\n",
       "      <td>0</td>\n",
       "      <td>...</td>\n",
       "      <td>0</td>\n",
       "      <td>0</td>\n",
       "      <td>1</td>\n",
       "      <td>0</td>\n",
       "      <td>0</td>\n",
       "      <td>0</td>\n",
       "      <td>0</td>\n",
       "      <td>0</td>\n",
       "      <td>1</td>\n",
       "      <td>0</td>\n",
       "    </tr>\n",
       "  </tbody>\n",
       "</table>\n",
       "<p>5 rows × 52 columns</p>\n",
       "</div>"
      ],
      "text/plain": [
       "      TotalVisits  Total Time Spent on Website  Page Views Per Visit  \\\n",
       "3504    -0.058621                    -0.108519              0.416452   \n",
       "4050    -1.150166                    -0.888077             -1.263530   \n",
       "7201    -0.422469                     0.420993             -0.143542   \n",
       "1196     0.305228                    -0.110357              0.976446   \n",
       "8219     1.396773                    -0.433947             -0.283540   \n",
       "\n",
       "      Lead Origin_Landing Page Submission  Lead Origin_Lead Add Form  \\\n",
       "3504                                    1                          0   \n",
       "4050                                    0                          1   \n",
       "7201                                    1                          0   \n",
       "1196                                    1                          0   \n",
       "8219                                    1                          0   \n",
       "\n",
       "      Lead Origin_Lead Import  Lead Source_Facebook  Lead Source_Google  \\\n",
       "3504                        0                     0                   0   \n",
       "4050                        0                     0                   0   \n",
       "7201                        0                     0                   0   \n",
       "1196                        0                     0                   0   \n",
       "8219                        0                     0                   0   \n",
       "\n",
       "      Lead Source_Olark Chat  Lead Source_Organic Search  ...  \\\n",
       "3504                       0                           1  ...   \n",
       "4050                       0                           0  ...   \n",
       "7201                       0                           0  ...   \n",
       "1196                       0                           1  ...   \n",
       "8219                       0                           0  ...   \n",
       "\n",
       "      What is your current occupation_Other  \\\n",
       "3504                                      0   \n",
       "4050                                      0   \n",
       "7201                                      0   \n",
       "1196                                      0   \n",
       "8219                                      0   \n",
       "\n",
       "      What is your current occupation_Student  \\\n",
       "3504                                        0   \n",
       "4050                                        0   \n",
       "7201                                        0   \n",
       "1196                                        0   \n",
       "8219                                        0   \n",
       "\n",
       "      What is your current occupation_Unemployed  \\\n",
       "3504                                           1   \n",
       "4050                                           1   \n",
       "7201                                           1   \n",
       "1196                                           1   \n",
       "8219                                           1   \n",
       "\n",
       "      What is your current occupation_Working Professional  \\\n",
       "3504                                                  0      \n",
       "4050                                                  0      \n",
       "7201                                                  0      \n",
       "1196                                                  0      \n",
       "8219                                                  0      \n",
       "\n",
       "      Last Notable Activity_Email Opened  Last Notable Activity_Modified  \\\n",
       "3504                                   1                               0   \n",
       "4050                                   0                               0   \n",
       "7201                                   0                               0   \n",
       "1196                                   1                               0   \n",
       "8219                                   0                               0   \n",
       "\n",
       "      Last Notable Activity_Olark Chat Conversation  \\\n",
       "3504                                              0   \n",
       "4050                                              0   \n",
       "7201                                              0   \n",
       "1196                                              0   \n",
       "8219                                              0   \n",
       "\n",
       "      Last Notable Activity_Others  \\\n",
       "3504                             0   \n",
       "4050                             0   \n",
       "7201                             0   \n",
       "1196                             0   \n",
       "8219                             0   \n",
       "\n",
       "      Last Notable Activity_Page Visited on Website  \\\n",
       "3504                                              0   \n",
       "4050                                              0   \n",
       "7201                                              0   \n",
       "1196                                              0   \n",
       "8219                                              1   \n",
       "\n",
       "      Last Notable Activity_SMS Sent  \n",
       "3504                               0  \n",
       "4050                               1  \n",
       "7201                               1  \n",
       "1196                               0  \n",
       "8219                               0  \n",
       "\n",
       "[5 rows x 52 columns]"
      ]
     },
     "execution_count": 586,
     "metadata": {},
     "output_type": "execute_result"
    }
   ],
   "source": [
    "#scaling test set\n",
    "\n",
    "num_cols=X_test.select_dtypes(include=['float64', 'int64']).columns\n",
    "\n",
    "X_test[num_cols] = scaler.fit_transform(X_test[num_cols])\n",
    "\n",
    "X_test.head()"
   ]
  },
  {
   "cell_type": "code",
   "execution_count": 587,
   "id": "7e09ff20",
   "metadata": {},
   "outputs": [
    {
     "data": {
      "text/html": [
       "<div>\n",
       "<style scoped>\n",
       "    .dataframe tbody tr th:only-of-type {\n",
       "        vertical-align: middle;\n",
       "    }\n",
       "\n",
       "    .dataframe tbody tr th {\n",
       "        vertical-align: top;\n",
       "    }\n",
       "\n",
       "    .dataframe thead th {\n",
       "        text-align: right;\n",
       "    }\n",
       "</style>\n",
       "<table border=\"1\" class=\"dataframe\">\n",
       "  <thead>\n",
       "    <tr style=\"text-align: right;\">\n",
       "      <th></th>\n",
       "      <th>Total Time Spent on Website</th>\n",
       "      <th>Lead Origin_Landing Page Submission</th>\n",
       "      <th>Lead Origin_Lead Add Form</th>\n",
       "      <th>Lead Source_Olark Chat</th>\n",
       "      <th>Last Activity_Email Bounced</th>\n",
       "      <th>Last Activity_Email Opened</th>\n",
       "      <th>Last Activity_Olark Chat Conversation</th>\n",
       "      <th>Specialization_others</th>\n",
       "      <th>What is your current occupation_Not provided</th>\n",
       "      <th>What is your current occupation_Working Professional</th>\n",
       "      <th>Last Notable Activity_Others</th>\n",
       "      <th>Last Notable Activity_SMS Sent</th>\n",
       "    </tr>\n",
       "  </thead>\n",
       "  <tbody>\n",
       "    <tr>\n",
       "      <th>3504</th>\n",
       "      <td>-0.108519</td>\n",
       "      <td>1</td>\n",
       "      <td>0</td>\n",
       "      <td>0</td>\n",
       "      <td>0</td>\n",
       "      <td>1</td>\n",
       "      <td>0</td>\n",
       "      <td>0</td>\n",
       "      <td>0</td>\n",
       "      <td>0</td>\n",
       "      <td>0</td>\n",
       "      <td>0</td>\n",
       "    </tr>\n",
       "    <tr>\n",
       "      <th>4050</th>\n",
       "      <td>-0.888077</td>\n",
       "      <td>0</td>\n",
       "      <td>1</td>\n",
       "      <td>0</td>\n",
       "      <td>0</td>\n",
       "      <td>0</td>\n",
       "      <td>0</td>\n",
       "      <td>0</td>\n",
       "      <td>0</td>\n",
       "      <td>0</td>\n",
       "      <td>0</td>\n",
       "      <td>1</td>\n",
       "    </tr>\n",
       "    <tr>\n",
       "      <th>7201</th>\n",
       "      <td>0.420993</td>\n",
       "      <td>1</td>\n",
       "      <td>0</td>\n",
       "      <td>0</td>\n",
       "      <td>0</td>\n",
       "      <td>0</td>\n",
       "      <td>0</td>\n",
       "      <td>0</td>\n",
       "      <td>0</td>\n",
       "      <td>0</td>\n",
       "      <td>0</td>\n",
       "      <td>1</td>\n",
       "    </tr>\n",
       "    <tr>\n",
       "      <th>1196</th>\n",
       "      <td>-0.110357</td>\n",
       "      <td>1</td>\n",
       "      <td>0</td>\n",
       "      <td>0</td>\n",
       "      <td>0</td>\n",
       "      <td>1</td>\n",
       "      <td>0</td>\n",
       "      <td>0</td>\n",
       "      <td>0</td>\n",
       "      <td>0</td>\n",
       "      <td>0</td>\n",
       "      <td>0</td>\n",
       "    </tr>\n",
       "    <tr>\n",
       "      <th>8219</th>\n",
       "      <td>-0.433947</td>\n",
       "      <td>1</td>\n",
       "      <td>0</td>\n",
       "      <td>0</td>\n",
       "      <td>0</td>\n",
       "      <td>0</td>\n",
       "      <td>0</td>\n",
       "      <td>0</td>\n",
       "      <td>0</td>\n",
       "      <td>0</td>\n",
       "      <td>0</td>\n",
       "      <td>0</td>\n",
       "    </tr>\n",
       "  </tbody>\n",
       "</table>\n",
       "</div>"
      ],
      "text/plain": [
       "      Total Time Spent on Website  Lead Origin_Landing Page Submission  \\\n",
       "3504                    -0.108519                                    1   \n",
       "4050                    -0.888077                                    0   \n",
       "7201                     0.420993                                    1   \n",
       "1196                    -0.110357                                    1   \n",
       "8219                    -0.433947                                    1   \n",
       "\n",
       "      Lead Origin_Lead Add Form  Lead Source_Olark Chat  \\\n",
       "3504                          0                       0   \n",
       "4050                          1                       0   \n",
       "7201                          0                       0   \n",
       "1196                          0                       0   \n",
       "8219                          0                       0   \n",
       "\n",
       "      Last Activity_Email Bounced  Last Activity_Email Opened  \\\n",
       "3504                            0                           1   \n",
       "4050                            0                           0   \n",
       "7201                            0                           0   \n",
       "1196                            0                           1   \n",
       "8219                            0                           0   \n",
       "\n",
       "      Last Activity_Olark Chat Conversation  Specialization_others  \\\n",
       "3504                                      0                      0   \n",
       "4050                                      0                      0   \n",
       "7201                                      0                      0   \n",
       "1196                                      0                      0   \n",
       "8219                                      0                      0   \n",
       "\n",
       "      What is your current occupation_Not provided  \\\n",
       "3504                                             0   \n",
       "4050                                             0   \n",
       "7201                                             0   \n",
       "1196                                             0   \n",
       "8219                                             0   \n",
       "\n",
       "      What is your current occupation_Working Professional  \\\n",
       "3504                                                  0      \n",
       "4050                                                  0      \n",
       "7201                                                  0      \n",
       "1196                                                  0      \n",
       "8219                                                  0      \n",
       "\n",
       "      Last Notable Activity_Others  Last Notable Activity_SMS Sent  \n",
       "3504                             0                               0  \n",
       "4050                             0                               1  \n",
       "7201                             0                               1  \n",
       "1196                             0                               0  \n",
       "8219                             0                               0  "
      ]
     },
     "execution_count": 587,
     "metadata": {},
     "output_type": "execute_result"
    }
   ],
   "source": [
    "X_test = X_test[col]\n",
    "X_test.head()"
   ]
  },
  {
   "cell_type": "code",
   "execution_count": 588,
   "id": "87f4c82b",
   "metadata": {},
   "outputs": [],
   "source": [
    "X_test_sm = sm.add_constant(X_test)"
   ]
  },
  {
   "cell_type": "markdown",
   "id": "100be2ce",
   "metadata": {},
   "source": [
    "### PREDICTIONS ON TEST SET"
   ]
  },
  {
   "cell_type": "code",
   "execution_count": 589,
   "id": "9b14a9ab",
   "metadata": {},
   "outputs": [],
   "source": [
    "# making prediction using model 4 (final model)\n",
    "y_test_pred = logm4.predict(X_test_sm)"
   ]
  },
  {
   "cell_type": "code",
   "execution_count": 590,
   "id": "5e9d4749",
   "metadata": {},
   "outputs": [
    {
     "data": {
      "text/plain": [
       "3504    0.235604\n",
       "4050    0.977233\n",
       "7201    0.654789\n",
       "1196    0.235245\n",
       "8219    0.116571\n",
       "8747    0.126109\n",
       "9048    0.611491\n",
       "6524    0.102026\n",
       "7693    0.380638\n",
       "8187    0.951527\n",
       "dtype: float64"
      ]
     },
     "execution_count": 590,
     "metadata": {},
     "output_type": "execute_result"
    }
   ],
   "source": [
    "y_test_pred[:10]"
   ]
  },
  {
   "cell_type": "code",
   "execution_count": 615,
   "id": "025c434d",
   "metadata": {},
   "outputs": [],
   "source": [
    "# Converting y_pred to a dataframe which is an array\n",
    "y_pred_1 = pd.DataFrame(y_test_pred)"
   ]
  },
  {
   "cell_type": "code",
   "execution_count": 616,
   "id": "1b521b54",
   "metadata": {},
   "outputs": [
    {
     "data": {
      "text/html": [
       "<div>\n",
       "<style scoped>\n",
       "    .dataframe tbody tr th:only-of-type {\n",
       "        vertical-align: middle;\n",
       "    }\n",
       "\n",
       "    .dataframe tbody tr th {\n",
       "        vertical-align: top;\n",
       "    }\n",
       "\n",
       "    .dataframe thead th {\n",
       "        text-align: right;\n",
       "    }\n",
       "</style>\n",
       "<table border=\"1\" class=\"dataframe\">\n",
       "  <thead>\n",
       "    <tr style=\"text-align: right;\">\n",
       "      <th></th>\n",
       "      <th>0</th>\n",
       "    </tr>\n",
       "  </thead>\n",
       "  <tbody>\n",
       "    <tr>\n",
       "      <th>3504</th>\n",
       "      <td>0.235604</td>\n",
       "    </tr>\n",
       "    <tr>\n",
       "      <th>4050</th>\n",
       "      <td>0.977233</td>\n",
       "    </tr>\n",
       "    <tr>\n",
       "      <th>7201</th>\n",
       "      <td>0.654789</td>\n",
       "    </tr>\n",
       "    <tr>\n",
       "      <th>1196</th>\n",
       "      <td>0.235245</td>\n",
       "    </tr>\n",
       "    <tr>\n",
       "      <th>8219</th>\n",
       "      <td>0.116571</td>\n",
       "    </tr>\n",
       "  </tbody>\n",
       "</table>\n",
       "</div>"
      ],
      "text/plain": [
       "             0\n",
       "3504  0.235604\n",
       "4050  0.977233\n",
       "7201  0.654789\n",
       "1196  0.235245\n",
       "8219  0.116571"
      ]
     },
     "execution_count": 616,
     "metadata": {},
     "output_type": "execute_result"
    }
   ],
   "source": [
    "# Let's see the head\n",
    "y_pred_1.head()"
   ]
  },
  {
   "cell_type": "code",
   "execution_count": 617,
   "id": "11bfdda0",
   "metadata": {},
   "outputs": [],
   "source": [
    "# Converting y_test to dataframe\n",
    "y_test_df = pd.DataFrame(y_test)"
   ]
  },
  {
   "cell_type": "code",
   "execution_count": 618,
   "id": "b6eb63da",
   "metadata": {},
   "outputs": [],
   "source": [
    "# Putting CustID to index\n",
    "y_test_df['Prospect ID'] = y_test_df.index"
   ]
  },
  {
   "cell_type": "code",
   "execution_count": 619,
   "id": "f72592a3",
   "metadata": {},
   "outputs": [],
   "source": [
    "# Removing index for both dataframes to append them side by side \n",
    "y_pred_1.reset_index(drop=True, inplace=True)\n",
    "y_test_df.reset_index(drop=True, inplace=True)"
   ]
  },
  {
   "cell_type": "code",
   "execution_count": 620,
   "id": "6cc3479b",
   "metadata": {},
   "outputs": [],
   "source": [
    "# Appending y_test_df and y_pred_1\n",
    "y_pred_final = pd.concat([y_test_df, y_pred_1],axis=1)"
   ]
  },
  {
   "cell_type": "code",
   "execution_count": 621,
   "id": "2d10afb9",
   "metadata": {},
   "outputs": [
    {
     "data": {
      "text/html": [
       "<div>\n",
       "<style scoped>\n",
       "    .dataframe tbody tr th:only-of-type {\n",
       "        vertical-align: middle;\n",
       "    }\n",
       "\n",
       "    .dataframe tbody tr th {\n",
       "        vertical-align: top;\n",
       "    }\n",
       "\n",
       "    .dataframe thead th {\n",
       "        text-align: right;\n",
       "    }\n",
       "</style>\n",
       "<table border=\"1\" class=\"dataframe\">\n",
       "  <thead>\n",
       "    <tr style=\"text-align: right;\">\n",
       "      <th></th>\n",
       "      <th>Converted</th>\n",
       "      <th>Prospect ID</th>\n",
       "      <th>0</th>\n",
       "    </tr>\n",
       "  </thead>\n",
       "  <tbody>\n",
       "    <tr>\n",
       "      <th>0</th>\n",
       "      <td>0</td>\n",
       "      <td>3504</td>\n",
       "      <td>0.235604</td>\n",
       "    </tr>\n",
       "    <tr>\n",
       "      <th>1</th>\n",
       "      <td>1</td>\n",
       "      <td>4050</td>\n",
       "      <td>0.977233</td>\n",
       "    </tr>\n",
       "    <tr>\n",
       "      <th>2</th>\n",
       "      <td>0</td>\n",
       "      <td>7201</td>\n",
       "      <td>0.654789</td>\n",
       "    </tr>\n",
       "    <tr>\n",
       "      <th>3</th>\n",
       "      <td>0</td>\n",
       "      <td>1196</td>\n",
       "      <td>0.235245</td>\n",
       "    </tr>\n",
       "    <tr>\n",
       "      <th>4</th>\n",
       "      <td>1</td>\n",
       "      <td>8219</td>\n",
       "      <td>0.116571</td>\n",
       "    </tr>\n",
       "  </tbody>\n",
       "</table>\n",
       "</div>"
      ],
      "text/plain": [
       "   Converted  Prospect ID         0\n",
       "0          0         3504  0.235604\n",
       "1          1         4050  0.977233\n",
       "2          0         7201  0.654789\n",
       "3          0         1196  0.235245\n",
       "4          1         8219  0.116571"
      ]
     },
     "execution_count": 621,
     "metadata": {},
     "output_type": "execute_result"
    }
   ],
   "source": [
    "y_pred_final.head()"
   ]
  },
  {
   "cell_type": "code",
   "execution_count": 622,
   "id": "66926c16",
   "metadata": {},
   "outputs": [],
   "source": [
    "# Renaming the column \n",
    "y_pred_final= y_pred_final.rename(columns={ 0 : 'Converted_prob'})"
   ]
  },
  {
   "cell_type": "code",
   "execution_count": 623,
   "id": "a0f38a54",
   "metadata": {},
   "outputs": [
    {
     "data": {
      "text/html": [
       "<div>\n",
       "<style scoped>\n",
       "    .dataframe tbody tr th:only-of-type {\n",
       "        vertical-align: middle;\n",
       "    }\n",
       "\n",
       "    .dataframe tbody tr th {\n",
       "        vertical-align: top;\n",
       "    }\n",
       "\n",
       "    .dataframe thead th {\n",
       "        text-align: right;\n",
       "    }\n",
       "</style>\n",
       "<table border=\"1\" class=\"dataframe\">\n",
       "  <thead>\n",
       "    <tr style=\"text-align: right;\">\n",
       "      <th></th>\n",
       "      <th>Converted</th>\n",
       "      <th>Prospect ID</th>\n",
       "      <th>Converted_prob</th>\n",
       "    </tr>\n",
       "  </thead>\n",
       "  <tbody>\n",
       "    <tr>\n",
       "      <th>0</th>\n",
       "      <td>0</td>\n",
       "      <td>3504</td>\n",
       "      <td>0.235604</td>\n",
       "    </tr>\n",
       "    <tr>\n",
       "      <th>1</th>\n",
       "      <td>1</td>\n",
       "      <td>4050</td>\n",
       "      <td>0.977233</td>\n",
       "    </tr>\n",
       "    <tr>\n",
       "      <th>2</th>\n",
       "      <td>0</td>\n",
       "      <td>7201</td>\n",
       "      <td>0.654789</td>\n",
       "    </tr>\n",
       "    <tr>\n",
       "      <th>3</th>\n",
       "      <td>0</td>\n",
       "      <td>1196</td>\n",
       "      <td>0.235245</td>\n",
       "    </tr>\n",
       "    <tr>\n",
       "      <th>4</th>\n",
       "      <td>1</td>\n",
       "      <td>8219</td>\n",
       "      <td>0.116571</td>\n",
       "    </tr>\n",
       "  </tbody>\n",
       "</table>\n",
       "</div>"
      ],
      "text/plain": [
       "   Converted  Prospect ID  Converted_prob\n",
       "0          0         3504        0.235604\n",
       "1          1         4050        0.977233\n",
       "2          0         7201        0.654789\n",
       "3          0         1196        0.235245\n",
       "4          1         8219        0.116571"
      ]
     },
     "execution_count": 623,
     "metadata": {},
     "output_type": "execute_result"
    }
   ],
   "source": [
    "y_pred_final.head()"
   ]
  },
  {
   "cell_type": "code",
   "execution_count": 624,
   "id": "284eaba8",
   "metadata": {},
   "outputs": [],
   "source": [
    "# Rearranging the columns\n",
    "y_pred_final = y_pred_final[['Prospect ID','Converted','Converted_prob']]\n",
    "y_pred_final['df'] = y_pred_final.Converted_prob.map( lambda x: round(x*100))"
   ]
  },
  {
   "cell_type": "code",
   "execution_count": 625,
   "id": "cc49c6ee",
   "metadata": {},
   "outputs": [
    {
     "data": {
      "text/html": [
       "<div>\n",
       "<style scoped>\n",
       "    .dataframe tbody tr th:only-of-type {\n",
       "        vertical-align: middle;\n",
       "    }\n",
       "\n",
       "    .dataframe tbody tr th {\n",
       "        vertical-align: top;\n",
       "    }\n",
       "\n",
       "    .dataframe thead th {\n",
       "        text-align: right;\n",
       "    }\n",
       "</style>\n",
       "<table border=\"1\" class=\"dataframe\">\n",
       "  <thead>\n",
       "    <tr style=\"text-align: right;\">\n",
       "      <th></th>\n",
       "      <th>Prospect ID</th>\n",
       "      <th>Converted</th>\n",
       "      <th>Converted_prob</th>\n",
       "      <th>df</th>\n",
       "    </tr>\n",
       "  </thead>\n",
       "  <tbody>\n",
       "    <tr>\n",
       "      <th>0</th>\n",
       "      <td>3504</td>\n",
       "      <td>0</td>\n",
       "      <td>0.235604</td>\n",
       "      <td>24</td>\n",
       "    </tr>\n",
       "    <tr>\n",
       "      <th>1</th>\n",
       "      <td>4050</td>\n",
       "      <td>1</td>\n",
       "      <td>0.977233</td>\n",
       "      <td>98</td>\n",
       "    </tr>\n",
       "    <tr>\n",
       "      <th>2</th>\n",
       "      <td>7201</td>\n",
       "      <td>0</td>\n",
       "      <td>0.654789</td>\n",
       "      <td>65</td>\n",
       "    </tr>\n",
       "    <tr>\n",
       "      <th>3</th>\n",
       "      <td>1196</td>\n",
       "      <td>0</td>\n",
       "      <td>0.235245</td>\n",
       "      <td>24</td>\n",
       "    </tr>\n",
       "    <tr>\n",
       "      <th>4</th>\n",
       "      <td>8219</td>\n",
       "      <td>1</td>\n",
       "      <td>0.116571</td>\n",
       "      <td>12</td>\n",
       "    </tr>\n",
       "  </tbody>\n",
       "</table>\n",
       "</div>"
      ],
      "text/plain": [
       "   Prospect ID  Converted  Converted_prob  df\n",
       "0         3504          0        0.235604  24\n",
       "1         4050          1        0.977233  98\n",
       "2         7201          0        0.654789  65\n",
       "3         1196          0        0.235245  24\n",
       "4         8219          1        0.116571  12"
      ]
     },
     "execution_count": 625,
     "metadata": {},
     "output_type": "execute_result"
    }
   ],
   "source": [
    "\n",
    "# Let's see the head of y_pred_final\n",
    "y_pred_final.head()"
   ]
  },
  {
   "cell_type": "code",
   "execution_count": 626,
   "id": "4d6aa167",
   "metadata": {},
   "outputs": [],
   "source": [
    "y_pred_final['final_Predicted'] = y_pred_final.Converted_prob.map(lambda x: 1 if x > 0.3 else 0)"
   ]
  },
  {
   "cell_type": "code",
   "execution_count": 627,
   "id": "a6802275",
   "metadata": {},
   "outputs": [
    {
     "data": {
      "text/html": [
       "<div>\n",
       "<style scoped>\n",
       "    .dataframe tbody tr th:only-of-type {\n",
       "        vertical-align: middle;\n",
       "    }\n",
       "\n",
       "    .dataframe tbody tr th {\n",
       "        vertical-align: top;\n",
       "    }\n",
       "\n",
       "    .dataframe thead th {\n",
       "        text-align: right;\n",
       "    }\n",
       "</style>\n",
       "<table border=\"1\" class=\"dataframe\">\n",
       "  <thead>\n",
       "    <tr style=\"text-align: right;\">\n",
       "      <th></th>\n",
       "      <th>Prospect ID</th>\n",
       "      <th>Converted</th>\n",
       "      <th>Converted_prob</th>\n",
       "      <th>df</th>\n",
       "      <th>final_Predicted</th>\n",
       "    </tr>\n",
       "  </thead>\n",
       "  <tbody>\n",
       "    <tr>\n",
       "      <th>0</th>\n",
       "      <td>3504</td>\n",
       "      <td>0</td>\n",
       "      <td>0.235604</td>\n",
       "      <td>24</td>\n",
       "      <td>0</td>\n",
       "    </tr>\n",
       "    <tr>\n",
       "      <th>1</th>\n",
       "      <td>4050</td>\n",
       "      <td>1</td>\n",
       "      <td>0.977233</td>\n",
       "      <td>98</td>\n",
       "      <td>1</td>\n",
       "    </tr>\n",
       "    <tr>\n",
       "      <th>2</th>\n",
       "      <td>7201</td>\n",
       "      <td>0</td>\n",
       "      <td>0.654789</td>\n",
       "      <td>65</td>\n",
       "      <td>1</td>\n",
       "    </tr>\n",
       "    <tr>\n",
       "      <th>3</th>\n",
       "      <td>1196</td>\n",
       "      <td>0</td>\n",
       "      <td>0.235245</td>\n",
       "      <td>24</td>\n",
       "      <td>0</td>\n",
       "    </tr>\n",
       "    <tr>\n",
       "      <th>4</th>\n",
       "      <td>8219</td>\n",
       "      <td>1</td>\n",
       "      <td>0.116571</td>\n",
       "      <td>12</td>\n",
       "      <td>0</td>\n",
       "    </tr>\n",
       "  </tbody>\n",
       "</table>\n",
       "</div>"
      ],
      "text/plain": [
       "   Prospect ID  Converted  Converted_prob  df  final_Predicted\n",
       "0         3504          0        0.235604  24                0\n",
       "1         4050          1        0.977233  98                1\n",
       "2         7201          0        0.654789  65                1\n",
       "3         1196          0        0.235245  24                0\n",
       "4         8219          1        0.116571  12                0"
      ]
     },
     "execution_count": 627,
     "metadata": {},
     "output_type": "execute_result"
    }
   ],
   "source": [
    "y_pred_final.head()"
   ]
  },
  {
   "cell_type": "code",
   "execution_count": 628,
   "id": "5cf35a4d",
   "metadata": {},
   "outputs": [
    {
     "data": {
      "text/plain": [
       "0.8132552178689125"
      ]
     },
     "execution_count": 628,
     "metadata": {},
     "output_type": "execute_result"
    }
   ],
   "source": [
    "# Let's check the overall accuracy.\n",
    "metrics.accuracy_score(y_pred_final.Converted, y_pred_final.final_Predicted)"
   ]
  },
  {
   "cell_type": "code",
   "execution_count": 629,
   "id": "81eeeb9b",
   "metadata": {},
   "outputs": [
    {
     "data": {
      "text/plain": [
       "array([[1326,  363],\n",
       "       [ 147,  895]], dtype=int64)"
      ]
     },
     "execution_count": 629,
     "metadata": {},
     "output_type": "execute_result"
    }
   ],
   "source": [
    "confusion2 = metrics.confusion_matrix(y_pred_final.Converted, y_pred_final.final_Predicted )\n",
    "confusion2"
   ]
  },
  {
   "cell_type": "code",
   "execution_count": 630,
   "id": "ce96924a",
   "metadata": {},
   "outputs": [],
   "source": [
    "TP = confusion2[1,1] # true positive \n",
    "TN = confusion2[0,0] # true negatives\n",
    "FP = confusion2[0,1] # false positives\n",
    "FN = confusion2[1,0] # false negatives"
   ]
  },
  {
   "cell_type": "code",
   "execution_count": 631,
   "id": "af40ae78",
   "metadata": {},
   "outputs": [
    {
     "data": {
      "text/plain": [
       "0.8589251439539347"
      ]
     },
     "execution_count": 631,
     "metadata": {},
     "output_type": "execute_result"
    }
   ],
   "source": [
    "# Let's see the sensitivity of our logistic regression model\n",
    "TP / float(TP+FN)"
   ]
  },
  {
   "cell_type": "code",
   "execution_count": 632,
   "id": "8407d699",
   "metadata": {},
   "outputs": [
    {
     "data": {
      "text/plain": [
       "0.7850799289520426"
      ]
     },
     "execution_count": 632,
     "metadata": {},
     "output_type": "execute_result"
    }
   ],
   "source": [
    "# Let us calculate specificity\n",
    "TN / float(TN+FP)"
   ]
  },
  {
   "cell_type": "code",
   "execution_count": 633,
   "id": "50175d47",
   "metadata": {},
   "outputs": [
    {
     "data": {
      "text/plain": [
       "0.7114467408585056"
      ]
     },
     "execution_count": 633,
     "metadata": {},
     "output_type": "execute_result"
    }
   ],
   "source": [
    "precision_score(y_pred_final.Converted , y_pred_final.final_Predicted)"
   ]
  },
  {
   "cell_type": "code",
   "execution_count": 634,
   "id": "5f654e77",
   "metadata": {},
   "outputs": [
    {
     "data": {
      "text/plain": [
       "0.8589251439539347"
      ]
     },
     "execution_count": 634,
     "metadata": {},
     "output_type": "execute_result"
    }
   ],
   "source": [
    "recall_score(y_pred_final.Converted, y_pred_final.final_Predicted)"
   ]
  },
  {
   "cell_type": "markdown",
   "id": "85ead700",
   "metadata": {},
   "source": [
    "## Observation:\n",
    "    \n",
    "After running the model on the Test Data these are the figures we obtain:"
   ]
  },
  {
   "cell_type": "markdown",
   "id": "5fe3d95a",
   "metadata": {},
   "source": [
    "Accuracy : 81.32%\n",
    "\n",
    "Sensitivity : 85.89%\n",
    "\n",
    "Specificity : 78.50%"
   ]
  },
  {
   "cell_type": "markdown",
   "id": "63f4124f",
   "metadata": {},
   "source": [
    "## Adding Lead Score Feature to Test dataframe\n",
    "\n",
    "A higher score would mean that the lead is hot, i.e. is most likely to convert\n",
    "\n",
    "Whereas a lower score would mean that the lead is cold and will mostly not get converted"
   ]
  },
  {
   "cell_type": "code",
   "execution_count": 635,
   "id": "375a3452",
   "metadata": {},
   "outputs": [
    {
     "data": {
      "text/plain": [
       "Lead Origin_Lead Add Form                               3.676997\n",
       "What is your current occupation_Working Professional    2.401253\n",
       "Last Notable Activity_SMS Sent                          1.737940\n",
       "Last Notable Activity_Others                            1.269851\n",
       "Total Time Spent on Website                             1.084906\n",
       "Lead Source_Olark Chat                                  1.069396\n",
       "Last Activity_Email Opened                              0.495319\n",
       "const                                                  -0.692037\n",
       "Specialization_others                                  -0.782362\n",
       "Lead Origin_Landing Page Submission                    -0.862484\n",
       "Last Activity_Olark Chat Conversation                  -0.986203\n",
       "What is your current occupation_Not provided           -1.062644\n",
       "Last Activity_Email Bounced                            -1.984642\n",
       "dtype: float64"
      ]
     },
     "execution_count": 635,
     "metadata": {},
     "output_type": "execute_result"
    }
   ],
   "source": [
    "# features and their coefficicent from final model\n",
    "parameters=logm4.params.sort_values(ascending=False)\n",
    "parameters"
   ]
  },
  {
   "cell_type": "markdown",
   "id": "685f06f9",
   "metadata": {},
   "source": [
    "## Adding Lead Score Feature to Test dataframe\n",
    "\n",
    "A higher score would mean that the lead is hot, i.e. is most likely to convert\n",
    "\n",
    "Whereas a lower score would mean that the lead is cold and will mostly not get converted."
   ]
  },
  {
   "cell_type": "code",
   "execution_count": 614,
   "id": "85f497c5",
   "metadata": {
    "scrolled": true
   },
   "outputs": [
    {
     "data": {
      "text/html": [
       "<div>\n",
       "<style scoped>\n",
       "    .dataframe tbody tr th:only-of-type {\n",
       "        vertical-align: middle;\n",
       "    }\n",
       "\n",
       "    .dataframe tbody tr th {\n",
       "        vertical-align: top;\n",
       "    }\n",
       "\n",
       "    .dataframe thead th {\n",
       "        text-align: right;\n",
       "    }\n",
       "</style>\n",
       "<table border=\"1\" class=\"dataframe\">\n",
       "  <thead>\n",
       "    <tr style=\"text-align: right;\">\n",
       "      <th></th>\n",
       "      <th>Prospect ID</th>\n",
       "      <th>Converted</th>\n",
       "      <th>Converted_prob</th>\n",
       "      <th>df</th>\n",
       "      <th>final_Predicted</th>\n",
       "      <th>Lead_Score</th>\n",
       "    </tr>\n",
       "  </thead>\n",
       "  <tbody>\n",
       "    <tr>\n",
       "      <th>0</th>\n",
       "      <td>3504</td>\n",
       "      <td>0</td>\n",
       "      <td>0.235604</td>\n",
       "      <td>24</td>\n",
       "      <td>0</td>\n",
       "      <td>24</td>\n",
       "    </tr>\n",
       "    <tr>\n",
       "      <th>1</th>\n",
       "      <td>4050</td>\n",
       "      <td>1</td>\n",
       "      <td>0.977233</td>\n",
       "      <td>98</td>\n",
       "      <td>1</td>\n",
       "      <td>98</td>\n",
       "    </tr>\n",
       "    <tr>\n",
       "      <th>2</th>\n",
       "      <td>7201</td>\n",
       "      <td>0</td>\n",
       "      <td>0.654789</td>\n",
       "      <td>65</td>\n",
       "      <td>1</td>\n",
       "      <td>65</td>\n",
       "    </tr>\n",
       "    <tr>\n",
       "      <th>3</th>\n",
       "      <td>1196</td>\n",
       "      <td>0</td>\n",
       "      <td>0.235245</td>\n",
       "      <td>24</td>\n",
       "      <td>0</td>\n",
       "      <td>24</td>\n",
       "    </tr>\n",
       "    <tr>\n",
       "      <th>4</th>\n",
       "      <td>8219</td>\n",
       "      <td>1</td>\n",
       "      <td>0.116571</td>\n",
       "      <td>12</td>\n",
       "      <td>0</td>\n",
       "      <td>12</td>\n",
       "    </tr>\n",
       "  </tbody>\n",
       "</table>\n",
       "</div>"
      ],
      "text/plain": [
       "   Prospect ID  Converted  Converted_prob  df  final_Predicted  Lead_Score\n",
       "0         3504          0        0.235604  24                0          24\n",
       "1         4050          1        0.977233  98                1          98\n",
       "2         7201          0        0.654789  65                1          65\n",
       "3         1196          0        0.235245  24                0          24\n",
       "4         8219          1        0.116571  12                0          12"
      ]
     },
     "execution_count": 614,
     "metadata": {},
     "output_type": "execute_result"
    }
   ],
   "source": [
    "# Lets add Lead Score \n",
    "\n",
    "y_pred_final['Lead_Score'] = y_pred_final['Converted_prob'].map( lambda x: round(x*100))\n",
    "y_pred_final.head()"
   ]
  },
  {
   "cell_type": "markdown",
   "id": "3fe24e52",
   "metadata": {},
   "source": [
    "## Final Observation:\n",
    "#### Let us compare the values obtained for Train & Test:\n",
    "\n",
    "#### Train Data: \n",
    "\n",
    "Accuracy : 79.28%\n",
    "    \n",
    "Sensitivity : 83.91%\n",
    "    \n",
    "Specificity : 76.44%\n",
    "\n",
    "    \n",
    "#### Test Data: \n",
    "    \n",
    "Accuracy : 81.32%\n",
    "\n",
    "Sensitivity : 85.89%\n",
    "\n",
    "Specificity : 78.50%"
   ]
  },
  {
   "cell_type": "code",
   "execution_count": null,
   "id": "ab8f2380",
   "metadata": {},
   "outputs": [],
   "source": []
  },
  {
   "cell_type": "code",
   "execution_count": null,
   "id": "0a155cc9",
   "metadata": {},
   "outputs": [],
   "source": []
  },
  {
   "cell_type": "code",
   "execution_count": null,
   "id": "eab5852b",
   "metadata": {},
   "outputs": [],
   "source": []
  }
 ],
 "metadata": {
  "kernelspec": {
   "display_name": "Python 3",
   "language": "python",
   "name": "python3"
  },
  "language_info": {
   "codemirror_mode": {
    "name": "ipython",
    "version": 3
   },
   "file_extension": ".py",
   "mimetype": "text/x-python",
   "name": "python",
   "nbconvert_exporter": "python",
   "pygments_lexer": "ipython3",
   "version": "3.8.8"
  }
 },
 "nbformat": 4,
 "nbformat_minor": 5
}
